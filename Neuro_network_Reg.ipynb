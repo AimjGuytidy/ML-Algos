{
  "nbformat": 4,
  "nbformat_minor": 0,
  "metadata": {
    "colab": {
      "name": "Neuro_network_Reg.ipynb",
      "provenance": [],
      "collapsed_sections": [],
      "toc_visible": true
    },
    "kernelspec": {
      "name": "python3",
      "display_name": "Python 3"
    },
    "language_info": {
      "name": "python"
    },
    "accelerator": "GPU"
  },
  "cells": [
    {
      "cell_type": "code",
      "metadata": {
        "id": "PckRO46j3oY6"
      },
      "source": [
        "import tensorflow as tf"
      ],
      "execution_count": 3,
      "outputs": []
    },
    {
      "cell_type": "code",
      "metadata": {
        "colab": {
          "base_uri": "https://localhost:8080/"
        },
        "id": "M5EM0JrS30uR",
        "outputId": "34109e30-cc8e-4ae0-8cc1-a8fc7ac8648d"
      },
      "source": [
        "tf.config.get_visible_devices()"
      ],
      "execution_count": 4,
      "outputs": [
        {
          "output_type": "execute_result",
          "data": {
            "text/plain": [
              "[PhysicalDevice(name='/physical_device:CPU:0', device_type='CPU'),\n",
              " PhysicalDevice(name='/physical_device:GPU:0', device_type='GPU')]"
            ]
          },
          "metadata": {
            "tags": []
          },
          "execution_count": 4
        }
      ]
    },
    {
      "cell_type": "code",
      "metadata": {
        "colab": {
          "base_uri": "https://localhost:8080/"
        },
        "id": "T4Lo_3sP352d",
        "outputId": "cc45bb9c-1067-4ae3-873c-2a8e3947ac85"
      },
      "source": [
        "!nvidia-smi"
      ],
      "execution_count": 5,
      "outputs": [
        {
          "output_type": "stream",
          "text": [
            "Tue Aug 10 10:33:33 2021       \n",
            "+-----------------------------------------------------------------------------+\n",
            "| NVIDIA-SMI 470.42.01    Driver Version: 460.32.03    CUDA Version: 11.2     |\n",
            "|-------------------------------+----------------------+----------------------+\n",
            "| GPU  Name        Persistence-M| Bus-Id        Disp.A | Volatile Uncorr. ECC |\n",
            "| Fan  Temp  Perf  Pwr:Usage/Cap|         Memory-Usage | GPU-Util  Compute M. |\n",
            "|                               |                      |               MIG M. |\n",
            "|===============================+======================+======================|\n",
            "|   0  Tesla K80           Off  | 00000000:00:04.0 Off |                    0 |\n",
            "| N/A   35C    P8    27W / 149W |      3MiB / 11441MiB |      0%      Default |\n",
            "|                               |                      |                  N/A |\n",
            "+-------------------------------+----------------------+----------------------+\n",
            "                                                                               \n",
            "+-----------------------------------------------------------------------------+\n",
            "| Processes:                                                                  |\n",
            "|  GPU   GI   CI        PID   Type   Process name                  GPU Memory |\n",
            "|        ID   ID                                                   Usage      |\n",
            "|=============================================================================|\n",
            "|  No running processes found                                                 |\n",
            "+-----------------------------------------------------------------------------+\n"
          ],
          "name": "stdout"
        }
      ]
    },
    {
      "cell_type": "markdown",
      "metadata": {
        "id": "2Mn9yNq54SnP"
      },
      "source": [
        "#### creating values to fit"
      ]
    },
    {
      "cell_type": "code",
      "metadata": {
        "id": "lZ98XAjM2QpN"
      },
      "source": [
        "import pandas as pd"
      ],
      "execution_count": 6,
      "outputs": []
    },
    {
      "cell_type": "code",
      "metadata": {
        "id": "XAxLGeWMANtz"
      },
      "source": [
        "import numpy as np\n",
        "import matplotlib.pyplot as plt\n"
      ],
      "execution_count": 7,
      "outputs": []
    },
    {
      "cell_type": "code",
      "metadata": {
        "id": "uYbZuE7mATJC"
      },
      "source": [
        "X = np.array([-7.0,-4.0,-1.0,2.0,5.0,8.0,11.0,14.0,17.0])\n",
        "y = np.array([3.0,6.0,9.0,12.0,15.0,18.0,21.0,24.0,27.0])"
      ],
      "execution_count": 8,
      "outputs": []
    },
    {
      "cell_type": "code",
      "metadata": {
        "colab": {
          "base_uri": "https://localhost:8080/",
          "height": 282
        },
        "id": "zp9pGefFA9-_",
        "outputId": "cd9e4fee-3cae-4a9b-bfb5-90f95cb5ccf5"
      },
      "source": [
        "plt.scatter(X,y)"
      ],
      "execution_count": 9,
      "outputs": [
        {
          "output_type": "execute_result",
          "data": {
            "text/plain": [
              "<matplotlib.collections.PathCollection at 0x7f47d30d6c10>"
            ]
          },
          "metadata": {
            "tags": []
          },
          "execution_count": 9
        },
        {
          "output_type": "display_data",
          "data": {
            "image/png": "[encoded data removed]",
            "text/plain": [
              "<Figure size 432x288 with 1 Axes>"
            ]
          },
          "metadata": {
            "tags": [],
            "needs_background": "light"
          }
        }
      ]
    },
    {
      "cell_type": "code",
      "metadata": {
        "id": "Z4jGXLPyBUvu"
      },
      "source": [
        "import tensorflow_probability as tfp"
      ],
      "execution_count": 10,
      "outputs": []
    },
    {
      "cell_type": "code",
      "metadata": {
        "colab": {
          "base_uri": "https://localhost:8080/"
        },
        "id": "H2Rfjf3DBBjU",
        "outputId": "9036752f-0c31-4191-f0ae-df378f71c2b6"
      },
      "source": [
        "slope = tfp.stats.covariance(tf.constant(X),tf.constant(y),event_axis=None)/ tf.math.reduce_variance(tf.constant(X))\n",
        "slope.numpy()"
      ],
      "execution_count": 11,
      "outputs": [
        {
          "output_type": "execute_result",
          "data": {
            "text/plain": [
              "1.0"
            ]
          },
          "metadata": {
            "tags": []
          },
          "execution_count": 11
        }
      ]
    },
    {
      "cell_type": "code",
      "metadata": {
        "colab": {
          "base_uri": "https://localhost:8080/"
        },
        "id": "ZTBYm61pB8xo",
        "outputId": "36238f44-c2d3-49cf-8db8-cad2a102ea6e"
      },
      "source": [
        "interc = tf.math.reduce_mean(tf.constant(y)) - tf.math.reduce_mean(tf.constant(X))\n",
        "interc.numpy()"
      ],
      "execution_count": 12,
      "outputs": [
        {
          "output_type": "execute_result",
          "data": {
            "text/plain": [
              "10.0"
            ]
          },
          "metadata": {
            "tags": []
          },
          "execution_count": 12
        }
      ]
    },
    {
      "cell_type": "markdown",
      "metadata": {
        "id": "Q65Fff3PCxnl"
      },
      "source": [
        "### Creating our firs regression model"
      ]
    },
    {
      "cell_type": "code",
      "metadata": {
        "colab": {
          "base_uri": "https://localhost:8080/"
        },
        "id": "ht_ABSfkGWXv",
        "outputId": "aa0c8493-63ea-4a8d-be71-286018b47710"
      },
      "source": [
        "# convert input data into tensors\n",
        "X = tf.cast(tf.constant(X),dtype=tf.float32)\n",
        "y = tf.cast(tf.constant(y),dtype=tf.float32)\n",
        "X,y"
      ],
      "execution_count": 13,
      "outputs": [
        {
          "output_type": "execute_result",
          "data": {
            "text/plain": [
              "(<tf.Tensor: shape=(9,), dtype=float32, numpy=array([-7., -4., -1.,  2.,  5.,  8., 11., 14., 17.], dtype=float32)>,\n",
              " <tf.Tensor: shape=(9,), dtype=float32, numpy=array([ 3.,  6.,  9., 12., 15., 18., 21., 24., 27.], dtype=float32)>)"
            ]
          },
          "metadata": {
            "tags": []
          },
          "execution_count": 13
        }
      ]
    },
    {
      "cell_type": "code",
      "metadata": {
        "id": "67e9J4AlGpWr"
      },
      "source": [
        "#there are 2 ways to run tf.keras.sequential apis:\n",
        "tf.random.set_seed(42)\n",
        "model = tf.keras.Sequential()\n",
        "model.add(tf.keras.layers.Dense(1))"
      ],
      "execution_count": 14,
      "outputs": []
    },
    {
      "cell_type": "markdown",
      "metadata": {
        "id": "GspG-TWEHWf6"
      },
      "source": [
        "#### or we can use:\n",
        "model = tf.keras.Sequential([\n",
        "                             tf.keras.layers.Dense(1)\n",
        "])"
      ]
    },
    {
      "cell_type": "code",
      "metadata": {
        "id": "QqY1e7IdICga"
      },
      "source": [
        "#we then compile our model with the loss function and the metrics we will use\n",
        "model.compile(optimizer=tf.keras.optimizers.SGD(),\n",
        "              loss = tf.keras.losses.mean_absolute_error,\n",
        "              metrics = ['mae'])"
      ],
      "execution_count": 15,
      "outputs": []
    },
    {
      "cell_type": "code",
      "metadata": {
        "colab": {
          "base_uri": "https://localhost:8080/"
        },
        "id": "4FheYZ84Il6m",
        "outputId": "a56b8b60-db51-43e1-bd31-ff04e6207e2b"
      },
      "source": [
        "#let's fit our model\n",
        "model.fit(X,y,epochs=25)"
      ],
      "execution_count": 16,
      "outputs": [
        {
          "output_type": "stream",
          "text": [
            "Epoch 1/25\n",
            "1/1 [==============================] - 3s 3s/step - loss: 12.1497 - mae: 12.1497\n",
            "Epoch 2/25\n",
            "1/1 [==============================] - 0s 5ms/step - loss: 11.8897 - mae: 11.8897\n",
            "Epoch 3/25\n",
            "1/1 [==============================] - 0s 5ms/step - loss: 11.6297 - mae: 11.6297\n",
            "Epoch 4/25\n",
            "1/1 [==============================] - 0s 5ms/step - loss: 11.3697 - mae: 11.3697\n",
            "Epoch 5/25\n",
            "1/1 [==============================] - 0s 8ms/step - loss: 11.1097 - mae: 11.1097\n",
            "Epoch 6/25\n",
            "1/1 [==============================] - 0s 5ms/step - loss: 10.8497 - mae: 10.8497\n",
            "Epoch 7/25\n",
            "1/1 [==============================] - 0s 6ms/step - loss: 10.5897 - mae: 10.5897\n",
            "Epoch 8/25\n",
            "1/1 [==============================] - 0s 8ms/step - loss: 10.3297 - mae: 10.3297\n",
            "Epoch 9/25\n",
            "1/1 [==============================] - 0s 5ms/step - loss: 10.0697 - mae: 10.0697\n",
            "Epoch 10/25\n",
            "1/1 [==============================] - 0s 5ms/step - loss: 9.8097 - mae: 9.8097\n",
            "Epoch 11/25\n",
            "1/1 [==============================] - 0s 7ms/step - loss: 9.5497 - mae: 9.5497\n",
            "Epoch 12/25\n",
            "1/1 [==============================] - 0s 4ms/step - loss: 9.2897 - mae: 9.2897\n",
            "Epoch 13/25\n",
            "1/1 [==============================] - 0s 5ms/step - loss: 9.0297 - mae: 9.0297\n",
            "Epoch 14/25\n",
            "1/1 [==============================] - 0s 6ms/step - loss: 8.7697 - mae: 8.7697\n",
            "Epoch 15/25\n",
            "1/1 [==============================] - 0s 14ms/step - loss: 8.5097 - mae: 8.5097\n",
            "Epoch 16/25\n",
            "1/1 [==============================] - 0s 11ms/step - loss: 8.2497 - mae: 8.2497\n",
            "Epoch 17/25\n",
            "1/1 [==============================] - 0s 10ms/step - loss: 7.9897 - mae: 7.9897\n",
            "Epoch 18/25\n",
            "1/1 [==============================] - 0s 5ms/step - loss: 7.7297 - mae: 7.7297\n",
            "Epoch 19/25\n",
            "1/1 [==============================] - 0s 5ms/step - loss: 7.4697 - mae: 7.4697\n",
            "Epoch 20/25\n",
            "1/1 [==============================] - 0s 10ms/step - loss: 7.2097 - mae: 7.2097\n",
            "Epoch 21/25\n",
            "1/1 [==============================] - 0s 8ms/step - loss: 6.9497 - mae: 6.9497\n",
            "Epoch 22/25\n",
            "1/1 [==============================] - 0s 9ms/step - loss: 6.8566 - mae: 6.8566\n",
            "Epoch 23/25\n",
            "1/1 [==============================] - 0s 11ms/step - loss: 6.8356 - mae: 6.8356\n",
            "Epoch 24/25\n",
            "1/1 [==============================] - 0s 5ms/step - loss: 6.8146 - mae: 6.8146\n",
            "Epoch 25/25\n",
            "1/1 [==============================] - 0s 6ms/step - loss: 6.7936 - mae: 6.7936\n"
          ],
          "name": "stdout"
        },
        {
          "output_type": "execute_result",
          "data": {
            "text/plain": [
              "<tensorflow.python.keras.callbacks.History at 0x7f47d05da850>"
            ]
          },
          "metadata": {
            "tags": []
          },
          "execution_count": 16
        }
      ]
    },
    {
      "cell_type": "code",
      "metadata": {
        "colab": {
          "base_uri": "https://localhost:8080/"
        },
        "id": "6kCNuu6UJAvF",
        "outputId": "7b79de20-9621-4f85-b132-5981d14debd1"
      },
      "source": [
        "#let's predict\n",
        "model.predict([17])"
      ],
      "execution_count": 17,
      "outputs": [
        {
          "output_type": "execute_result",
          "data": {
            "text/plain": [
              "array([[28.613228]], dtype=float32)"
            ]
          },
          "metadata": {
            "tags": []
          },
          "execution_count": 17
        }
      ]
    },
    {
      "cell_type": "code",
      "metadata": {
        "id": "o6HrXyOJJM_e",
        "colab": {
          "base_uri": "https://localhost:8080/"
        },
        "outputId": "d772f9bf-43cc-48f5-ab2d-bcb3f84da60c"
      },
      "source": [
        "model.predict([20])"
      ],
      "execution_count": 18,
      "outputs": [
        {
          "output_type": "execute_result",
          "data": {
            "text/plain": [
              "array([[33.62007]], dtype=float32)"
            ]
          },
          "metadata": {
            "tags": []
          },
          "execution_count": 18
        }
      ]
    },
    {
      "cell_type": "markdown",
      "metadata": {
        "id": "DKxKbneR57Nr"
      },
      "source": [
        "Tweaking some hyperparameters!!!!"
      ]
    },
    {
      "cell_type": "code",
      "metadata": {
        "colab": {
          "base_uri": "https://localhost:8080/"
        },
        "id": "axZzv4JO95RE",
        "outputId": "55d642d3-2f34-4eee-b597-c2ed17c6ea2c"
      },
      "source": [
        "tf.random.set_seed(42)\n",
        "#create the model\n",
        "modely = tf.keras.Sequential([\n",
        "                              tf.keras.layers.Dense(100,activation=\"relu\"),\n",
        "                              tf.keras.layers.Dense(100,activation=\"relu\"),\n",
        "                              tf.keras.layers.Dense(100,activation=\"relu\"),\n",
        "                              tf.keras.layers.Dense(1)\n",
        "])\n",
        "#compile our model\n",
        "modely.compile(loss = tf.keras.losses.mae,\n",
        "               optimizer = tf.keras.optimizers.Adam(learning_rate=0.01),\n",
        "               metrics = [\"mae\"])\n",
        "#fit the model\n",
        "modely.fit(X,y,epochs=155)"
      ],
      "execution_count": 19,
      "outputs": [
        {
          "output_type": "stream",
          "text": [
            "Epoch 1/155\n",
            "1/1 [==============================] - 1s 501ms/step - loss: 14.7761 - mae: 14.7761\n",
            "Epoch 2/155\n",
            "1/1 [==============================] - 0s 5ms/step - loss: 11.3294 - mae: 11.3294\n",
            "Epoch 3/155\n",
            "1/1 [==============================] - 0s 5ms/step - loss: 7.7275 - mae: 7.7275\n",
            "Epoch 4/155\n",
            "1/1 [==============================] - 0s 6ms/step - loss: 4.0227 - mae: 4.0227\n",
            "Epoch 5/155\n",
            "1/1 [==============================] - 0s 6ms/step - loss: 7.2011 - mae: 7.2011\n",
            "Epoch 6/155\n",
            "1/1 [==============================] - 0s 6ms/step - loss: 6.9621 - mae: 6.9621\n",
            "Epoch 7/155\n",
            "1/1 [==============================] - 0s 7ms/step - loss: 4.8409 - mae: 4.8409\n",
            "Epoch 8/155\n",
            "1/1 [==============================] - 0s 9ms/step - loss: 3.8211 - mae: 3.8211\n",
            "Epoch 9/155\n",
            "1/1 [==============================] - 0s 10ms/step - loss: 5.0031 - mae: 5.0031\n",
            "Epoch 10/155\n",
            "1/1 [==============================] - 0s 7ms/step - loss: 5.1231 - mae: 5.1231\n",
            "Epoch 11/155\n",
            "1/1 [==============================] - 0s 8ms/step - loss: 4.2346 - mae: 4.2346\n",
            "Epoch 12/155\n",
            "1/1 [==============================] - 0s 6ms/step - loss: 3.5459 - mae: 3.5459\n",
            "Epoch 13/155\n",
            "1/1 [==============================] - 0s 11ms/step - loss: 4.1254 - mae: 4.1254\n",
            "Epoch 14/155\n",
            "1/1 [==============================] - 0s 11ms/step - loss: 4.6047 - mae: 4.6047\n",
            "Epoch 15/155\n",
            "1/1 [==============================] - 0s 9ms/step - loss: 4.2740 - mae: 4.2740\n",
            "Epoch 16/155\n",
            "1/1 [==============================] - 0s 12ms/step - loss: 3.6353 - mae: 3.6353\n",
            "Epoch 17/155\n",
            "1/1 [==============================] - 0s 9ms/step - loss: 3.1661 - mae: 3.1661\n",
            "Epoch 18/155\n",
            "1/1 [==============================] - 0s 9ms/step - loss: 3.4247 - mae: 3.4247\n",
            "Epoch 19/155\n",
            "1/1 [==============================] - 0s 5ms/step - loss: 3.3962 - mae: 3.3962\n",
            "Epoch 20/155\n",
            "1/1 [==============================] - 0s 10ms/step - loss: 2.7881 - mae: 2.7881\n",
            "Epoch 21/155\n",
            "1/1 [==============================] - 0s 6ms/step - loss: 2.8371 - mae: 2.8371\n",
            "Epoch 22/155\n",
            "1/1 [==============================] - 0s 6ms/step - loss: 2.9149 - mae: 2.9149\n",
            "Epoch 23/155\n",
            "1/1 [==============================] - 0s 9ms/step - loss: 2.8109 - mae: 2.8109\n",
            "Epoch 24/155\n",
            "1/1 [==============================] - 0s 7ms/step - loss: 2.6836 - mae: 2.6836\n",
            "Epoch 25/155\n",
            "1/1 [==============================] - 0s 6ms/step - loss: 2.0485 - mae: 2.0485\n",
            "Epoch 26/155\n",
            "1/1 [==============================] - 0s 14ms/step - loss: 1.5704 - mae: 1.5704\n",
            "Epoch 27/155\n",
            "1/1 [==============================] - 0s 9ms/step - loss: 1.3968 - mae: 1.3968\n",
            "Epoch 28/155\n",
            "1/1 [==============================] - 0s 9ms/step - loss: 1.0680 - mae: 1.0680\n",
            "Epoch 29/155\n",
            "1/1 [==============================] - 0s 8ms/step - loss: 0.8858 - mae: 0.8858\n",
            "Epoch 30/155\n",
            "1/1 [==============================] - 0s 7ms/step - loss: 0.7555 - mae: 0.7555\n",
            "Epoch 31/155\n",
            "1/1 [==============================] - 0s 7ms/step - loss: 0.9117 - mae: 0.9117\n",
            "Epoch 32/155\n",
            "1/1 [==============================] - 0s 8ms/step - loss: 1.6377 - mae: 1.6377\n",
            "Epoch 33/155\n",
            "1/1 [==============================] - 0s 18ms/step - loss: 1.3608 - mae: 1.3608\n",
            "Epoch 34/155\n",
            "1/1 [==============================] - 0s 9ms/step - loss: 1.2821 - mae: 1.2821\n",
            "Epoch 35/155\n",
            "1/1 [==============================] - 0s 9ms/step - loss: 0.8586 - mae: 0.8586\n",
            "Epoch 36/155\n",
            "1/1 [==============================] - 0s 8ms/step - loss: 1.6090 - mae: 1.6090\n",
            "Epoch 37/155\n",
            "1/1 [==============================] - 0s 8ms/step - loss: 1.8605 - mae: 1.8605\n",
            "Epoch 38/155\n",
            "1/1 [==============================] - 0s 7ms/step - loss: 1.0190 - mae: 1.0190\n",
            "Epoch 39/155\n",
            "1/1 [==============================] - 0s 8ms/step - loss: 1.2609 - mae: 1.2609\n",
            "Epoch 40/155\n",
            "1/1 [==============================] - 0s 8ms/step - loss: 1.4340 - mae: 1.4340\n",
            "Epoch 41/155\n",
            "1/1 [==============================] - 0s 7ms/step - loss: 0.3417 - mae: 0.3417\n",
            "Epoch 42/155\n",
            "1/1 [==============================] - 0s 8ms/step - loss: 1.4363 - mae: 1.4363\n",
            "Epoch 43/155\n",
            "1/1 [==============================] - 0s 10ms/step - loss: 1.6909 - mae: 1.6909\n",
            "Epoch 44/155\n",
            "1/1 [==============================] - 0s 9ms/step - loss: 0.9134 - mae: 0.9134\n",
            "Epoch 45/155\n",
            "1/1 [==============================] - 0s 6ms/step - loss: 1.0048 - mae: 1.0048\n",
            "Epoch 46/155\n",
            "1/1 [==============================] - 0s 17ms/step - loss: 1.2998 - mae: 1.2998\n",
            "Epoch 47/155\n",
            "1/1 [==============================] - 0s 8ms/step - loss: 0.6104 - mae: 0.6104\n",
            "Epoch 48/155\n",
            "1/1 [==============================] - 0s 10ms/step - loss: 1.0454 - mae: 1.0454\n",
            "Epoch 49/155\n",
            "1/1 [==============================] - 0s 8ms/step - loss: 1.1107 - mae: 1.1107\n",
            "Epoch 50/155\n",
            "1/1 [==============================] - 0s 10ms/step - loss: 0.4160 - mae: 0.4160\n",
            "Epoch 51/155\n",
            "1/1 [==============================] - 0s 7ms/step - loss: 1.1208 - mae: 1.1208\n",
            "Epoch 52/155\n",
            "1/1 [==============================] - 0s 11ms/step - loss: 1.0253 - mae: 1.0253\n",
            "Epoch 53/155\n",
            "1/1 [==============================] - 0s 9ms/step - loss: 0.3146 - mae: 0.3146\n",
            "Epoch 54/155\n",
            "1/1 [==============================] - 0s 8ms/step - loss: 0.7694 - mae: 0.7694\n",
            "Epoch 55/155\n",
            "1/1 [==============================] - 0s 12ms/step - loss: 0.2849 - mae: 0.2849\n",
            "Epoch 56/155\n",
            "1/1 [==============================] - 0s 13ms/step - loss: 0.8348 - mae: 0.8348\n",
            "Epoch 57/155\n",
            "1/1 [==============================] - 0s 7ms/step - loss: 0.7578 - mae: 0.7578\n",
            "Epoch 58/155\n",
            "1/1 [==============================] - 0s 20ms/step - loss: 0.4496 - mae: 0.4496\n",
            "Epoch 59/155\n",
            "1/1 [==============================] - 0s 17ms/step - loss: 0.4881 - mae: 0.4881\n",
            "Epoch 60/155\n",
            "1/1 [==============================] - 0s 8ms/step - loss: 0.4251 - mae: 0.4251\n",
            "Epoch 61/155\n",
            "1/1 [==============================] - 0s 6ms/step - loss: 0.2382 - mae: 0.2382\n",
            "Epoch 62/155\n",
            "1/1 [==============================] - 0s 6ms/step - loss: 0.6463 - mae: 0.6463\n",
            "Epoch 63/155\n",
            "1/1 [==============================] - 0s 5ms/step - loss: 0.5836 - mae: 0.5836\n",
            "Epoch 64/155\n",
            "1/1 [==============================] - 0s 7ms/step - loss: 0.3711 - mae: 0.3711\n",
            "Epoch 65/155\n",
            "1/1 [==============================] - 0s 6ms/step - loss: 0.2264 - mae: 0.2264\n",
            "Epoch 66/155\n",
            "1/1 [==============================] - 0s 6ms/step - loss: 0.8854 - mae: 0.8854\n",
            "Epoch 67/155\n",
            "1/1 [==============================] - 0s 7ms/step - loss: 0.9580 - mae: 0.9580\n",
            "Epoch 68/155\n",
            "1/1 [==============================] - 0s 8ms/step - loss: 0.2039 - mae: 0.2039\n",
            "Epoch 69/155\n",
            "1/1 [==============================] - 0s 7ms/step - loss: 1.4218 - mae: 1.4218\n",
            "Epoch 70/155\n",
            "1/1 [==============================] - 0s 7ms/step - loss: 1.8878 - mae: 1.8878\n",
            "Epoch 71/155\n",
            "1/1 [==============================] - 0s 9ms/step - loss: 1.2849 - mae: 1.2849\n",
            "Epoch 72/155\n",
            "1/1 [==============================] - 0s 8ms/step - loss: 0.2895 - mae: 0.2895\n",
            "Epoch 73/155\n",
            "1/1 [==============================] - 0s 8ms/step - loss: 1.0745 - mae: 1.0745\n",
            "Epoch 74/155\n",
            "1/1 [==============================] - 0s 10ms/step - loss: 1.0309 - mae: 1.0309\n",
            "Epoch 75/155\n",
            "1/1 [==============================] - 0s 14ms/step - loss: 0.3091 - mae: 0.3091\n",
            "Epoch 76/155\n",
            "1/1 [==============================] - 0s 8ms/step - loss: 0.8392 - mae: 0.8392\n",
            "Epoch 77/155\n",
            "1/1 [==============================] - 0s 7ms/step - loss: 0.6017 - mae: 0.6017\n",
            "Epoch 78/155\n",
            "1/1 [==============================] - 0s 8ms/step - loss: 0.4929 - mae: 0.4929\n",
            "Epoch 79/155\n",
            "1/1 [==============================] - 0s 9ms/step - loss: 0.5616 - mae: 0.5616\n",
            "Epoch 80/155\n",
            "1/1 [==============================] - 0s 9ms/step - loss: 0.4090 - mae: 0.4090\n",
            "Epoch 81/155\n",
            "1/1 [==============================] - 0s 7ms/step - loss: 0.3202 - mae: 0.3202\n",
            "Epoch 82/155\n",
            "1/1 [==============================] - 0s 9ms/step - loss: 0.6241 - mae: 0.6241\n",
            "Epoch 83/155\n",
            "1/1 [==============================] - 0s 9ms/step - loss: 0.6595 - mae: 0.6595\n",
            "Epoch 84/155\n",
            "1/1 [==============================] - 0s 8ms/step - loss: 0.2788 - mae: 0.2788\n",
            "Epoch 85/155\n",
            "1/1 [==============================] - 0s 7ms/step - loss: 0.2556 - mae: 0.2556\n",
            "Epoch 86/155\n",
            "1/1 [==============================] - 0s 7ms/step - loss: 0.6493 - mae: 0.6493\n",
            "Epoch 87/155\n",
            "1/1 [==============================] - 0s 17ms/step - loss: 0.6065 - mae: 0.6065\n",
            "Epoch 88/155\n",
            "1/1 [==============================] - 0s 9ms/step - loss: 0.4864 - mae: 0.4864\n",
            "Epoch 89/155\n",
            "1/1 [==============================] - 0s 7ms/step - loss: 0.4209 - mae: 0.4209\n",
            "Epoch 90/155\n",
            "1/1 [==============================] - 0s 7ms/step - loss: 0.5305 - mae: 0.5305\n",
            "Epoch 91/155\n",
            "1/1 [==============================] - 0s 7ms/step - loss: 0.6429 - mae: 0.6429\n",
            "Epoch 92/155\n",
            "1/1 [==============================] - 0s 12ms/step - loss: 0.1664 - mae: 0.1664\n",
            "Epoch 93/155\n",
            "1/1 [==============================] - 0s 9ms/step - loss: 1.0912 - mae: 1.0912\n",
            "Epoch 94/155\n",
            "1/1 [==============================] - 0s 11ms/step - loss: 1.2686 - mae: 1.2686\n",
            "Epoch 95/155\n",
            "1/1 [==============================] - 0s 12ms/step - loss: 0.6068 - mae: 0.6068\n",
            "Epoch 96/155\n",
            "1/1 [==============================] - 0s 10ms/step - loss: 0.8363 - mae: 0.8363\n",
            "Epoch 97/155\n",
            "1/1 [==============================] - 0s 11ms/step - loss: 1.2462 - mae: 1.2462\n",
            "Epoch 98/155\n",
            "1/1 [==============================] - 0s 11ms/step - loss: 0.9095 - mae: 0.9095\n",
            "Epoch 99/155\n",
            "1/1 [==============================] - 0s 9ms/step - loss: 0.2915 - mae: 0.2915\n",
            "Epoch 100/155\n",
            "1/1 [==============================] - 0s 12ms/step - loss: 0.9423 - mae: 0.9423\n",
            "Epoch 101/155\n",
            "1/1 [==============================] - 0s 10ms/step - loss: 0.7359 - mae: 0.7359\n",
            "Epoch 102/155\n",
            "1/1 [==============================] - 0s 11ms/step - loss: 0.3523 - mae: 0.3523\n",
            "Epoch 103/155\n",
            "1/1 [==============================] - 0s 10ms/step - loss: 0.3662 - mae: 0.3662\n",
            "Epoch 104/155\n",
            "1/1 [==============================] - 0s 7ms/step - loss: 0.4877 - mae: 0.4877\n",
            "Epoch 105/155\n",
            "1/1 [==============================] - 0s 9ms/step - loss: 0.3466 - mae: 0.3466\n",
            "Epoch 106/155\n",
            "1/1 [==============================] - 0s 9ms/step - loss: 0.6702 - mae: 0.6702\n",
            "Epoch 107/155\n",
            "1/1 [==============================] - 0s 10ms/step - loss: 0.7851 - mae: 0.7851\n",
            "Epoch 108/155\n",
            "1/1 [==============================] - 0s 13ms/step - loss: 0.1569 - mae: 0.1569\n",
            "Epoch 109/155\n",
            "1/1 [==============================] - 0s 7ms/step - loss: 0.8626 - mae: 0.8626\n",
            "Epoch 110/155\n",
            "1/1 [==============================] - 0s 11ms/step - loss: 0.8840 - mae: 0.8840\n",
            "Epoch 111/155\n",
            "1/1 [==============================] - 0s 7ms/step - loss: 0.1251 - mae: 0.1251\n",
            "Epoch 112/155\n",
            "1/1 [==============================] - 0s 7ms/step - loss: 0.9297 - mae: 0.9297\n",
            "Epoch 113/155\n",
            "1/1 [==============================] - 0s 8ms/step - loss: 0.9850 - mae: 0.9850\n",
            "Epoch 114/155\n",
            "1/1 [==============================] - 0s 8ms/step - loss: 0.2677 - mae: 0.2677\n",
            "Epoch 115/155\n",
            "1/1 [==============================] - 0s 8ms/step - loss: 1.2532 - mae: 1.2532\n",
            "Epoch 116/155\n",
            "1/1 [==============================] - 0s 15ms/step - loss: 1.7285 - mae: 1.7285\n",
            "Epoch 117/155\n",
            "1/1 [==============================] - 0s 10ms/step - loss: 1.1866 - mae: 1.1866\n",
            "Epoch 118/155\n",
            "1/1 [==============================] - 0s 11ms/step - loss: 0.2019 - mae: 0.2019\n",
            "Epoch 119/155\n",
            "1/1 [==============================] - 0s 11ms/step - loss: 0.8683 - mae: 0.8683\n",
            "Epoch 120/155\n",
            "1/1 [==============================] - 0s 11ms/step - loss: 0.7567 - mae: 0.7567\n",
            "Epoch 121/155\n",
            "1/1 [==============================] - 0s 8ms/step - loss: 0.1754 - mae: 0.1754\n",
            "Epoch 122/155\n",
            "1/1 [==============================] - 0s 10ms/step - loss: 0.6120 - mae: 0.6120\n",
            "Epoch 123/155\n",
            "1/1 [==============================] - 0s 27ms/step - loss: 0.2399 - mae: 0.2399\n",
            "Epoch 124/155\n",
            "1/1 [==============================] - 0s 11ms/step - loss: 0.6936 - mae: 0.6936\n",
            "Epoch 125/155\n",
            "1/1 [==============================] - 0s 6ms/step - loss: 0.6279 - mae: 0.6279\n",
            "Epoch 126/155\n",
            "1/1 [==============================] - 0s 8ms/step - loss: 0.1912 - mae: 0.1912\n",
            "Epoch 127/155\n",
            "1/1 [==============================] - 0s 11ms/step - loss: 0.1675 - mae: 0.1675\n",
            "Epoch 128/155\n",
            "1/1 [==============================] - 0s 9ms/step - loss: 0.5023 - mae: 0.5023\n",
            "Epoch 129/155\n",
            "1/1 [==============================] - 0s 12ms/step - loss: 0.2953 - mae: 0.2953\n",
            "Epoch 130/155\n",
            "1/1 [==============================] - 0s 8ms/step - loss: 0.5885 - mae: 0.5885\n",
            "Epoch 131/155\n",
            "1/1 [==============================] - 0s 6ms/step - loss: 0.4862 - mae: 0.4862\n",
            "Epoch 132/155\n",
            "1/1 [==============================] - 0s 7ms/step - loss: 0.4180 - mae: 0.4180\n",
            "Epoch 133/155\n",
            "1/1 [==============================] - 0s 7ms/step - loss: 0.4539 - mae: 0.4539\n",
            "Epoch 134/155\n",
            "1/1 [==============================] - 0s 12ms/step - loss: 0.2794 - mae: 0.2794\n",
            "Epoch 135/155\n",
            "1/1 [==============================] - 0s 8ms/step - loss: 0.1420 - mae: 0.1420\n",
            "Epoch 136/155\n",
            "1/1 [==============================] - 0s 8ms/step - loss: 0.7522 - mae: 0.7522\n",
            "Epoch 137/155\n",
            "1/1 [==============================] - 0s 9ms/step - loss: 0.8160 - mae: 0.8160\n",
            "Epoch 138/155\n",
            "1/1 [==============================] - 0s 6ms/step - loss: 0.1486 - mae: 0.1486\n",
            "Epoch 139/155\n",
            "1/1 [==============================] - 0s 9ms/step - loss: 1.2747 - mae: 1.2747\n",
            "Epoch 140/155\n",
            "1/1 [==============================] - 0s 8ms/step - loss: 1.7243 - mae: 1.7243\n",
            "Epoch 141/155\n",
            "1/1 [==============================] - 0s 7ms/step - loss: 1.2258 - mae: 1.2258\n",
            "Epoch 142/155\n",
            "1/1 [==============================] - 0s 10ms/step - loss: 0.1020 - mae: 0.1020\n",
            "Epoch 143/155\n",
            "1/1 [==============================] - 0s 9ms/step - loss: 1.1054 - mae: 1.1054\n",
            "Epoch 144/155\n",
            "1/1 [==============================] - 0s 8ms/step - loss: 1.3541 - mae: 1.3541\n",
            "Epoch 145/155\n",
            "1/1 [==============================] - 0s 6ms/step - loss: 0.9799 - mae: 0.9799\n",
            "Epoch 146/155\n",
            "1/1 [==============================] - 0s 7ms/step - loss: 0.1490 - mae: 0.1490\n",
            "Epoch 147/155\n",
            "1/1 [==============================] - 0s 8ms/step - loss: 0.7566 - mae: 0.7566\n",
            "Epoch 148/155\n",
            "1/1 [==============================] - 0s 9ms/step - loss: 0.5356 - mae: 0.5356\n",
            "Epoch 149/155\n",
            "1/1 [==============================] - 0s 9ms/step - loss: 0.4144 - mae: 0.4144\n",
            "Epoch 150/155\n",
            "1/1 [==============================] - 0s 8ms/step - loss: 0.5175 - mae: 0.5175\n",
            "Epoch 151/155\n",
            "1/1 [==============================] - 0s 8ms/step - loss: 0.2364 - mae: 0.2364\n",
            "Epoch 152/155\n",
            "1/1 [==============================] - 0s 6ms/step - loss: 0.1199 - mae: 0.1199\n",
            "Epoch 153/155\n",
            "1/1 [==============================] - 0s 10ms/step - loss: 0.3340 - mae: 0.3340\n",
            "Epoch 154/155\n",
            "1/1 [==============================] - 0s 6ms/step - loss: 0.1688 - mae: 0.1688\n",
            "Epoch 155/155\n",
            "1/1 [==============================] - 0s 7ms/step - loss: 0.1838 - mae: 0.1838\n"
          ],
          "name": "stdout"
        },
        {
          "output_type": "execute_result",
          "data": {
            "text/plain": [
              "<tensorflow.python.keras.callbacks.History at 0x7f47d03e17d0>"
            ]
          },
          "metadata": {
            "tags": []
          },
          "execution_count": 19
        }
      ]
    },
    {
      "cell_type": "code",
      "metadata": {
        "colab": {
          "base_uri": "https://localhost:8080/"
        },
        "id": "Pm9cV8MD-7F5",
        "outputId": "d8217346-b257-45b1-865b-e17f6cdec006"
      },
      "source": [
        "modely.predict([32])"
      ],
      "execution_count": 20,
      "outputs": [
        {
          "output_type": "execute_result",
          "data": {
            "text/plain": [
              "array([[41.323887]], dtype=float32)"
            ]
          },
          "metadata": {
            "tags": []
          },
          "execution_count": 20
        }
      ]
    },
    {
      "cell_type": "markdown",
      "metadata": {
        "id": "aS9G0Tlu_TVj"
      },
      "source": [
        "#### Evaluating a model"
      ]
    },
    {
      "cell_type": "code",
      "metadata": {
        "colab": {
          "base_uri": "https://localhost:8080/"
        },
        "id": "q_Ee7qpaCDhy",
        "outputId": "6cdfde9e-7a72-427d-847f-8f6167c6605f"
      },
      "source": [
        "#first let's create a larger dataset\n",
        "X = tf.range(-100,100,4)\n",
        "y = X + 10\n",
        "X,y"
      ],
      "execution_count": 21,
      "outputs": [
        {
          "output_type": "execute_result",
          "data": {
            "text/plain": [
              "(<tf.Tensor: shape=(50,), dtype=int32, numpy=\n",
              " array([-100,  -96,  -92,  -88,  -84,  -80,  -76,  -72,  -68,  -64,  -60,\n",
              "         -56,  -52,  -48,  -44,  -40,  -36,  -32,  -28,  -24,  -20,  -16,\n",
              "         -12,   -8,   -4,    0,    4,    8,   12,   16,   20,   24,   28,\n",
              "          32,   36,   40,   44,   48,   52,   56,   60,   64,   68,   72,\n",
              "          76,   80,   84,   88,   92,   96], dtype=int32)>,\n",
              " <tf.Tensor: shape=(50,), dtype=int32, numpy=\n",
              " array([-90, -86, -82, -78, -74, -70, -66, -62, -58, -54, -50, -46, -42,\n",
              "        -38, -34, -30, -26, -22, -18, -14, -10,  -6,  -2,   2,   6,  10,\n",
              "         14,  18,  22,  26,  30,  34,  38,  42,  46,  50,  54,  58,  62,\n",
              "         66,  70,  74,  78,  82,  86,  90,  94,  98, 102, 106], dtype=int32)>)"
            ]
          },
          "metadata": {
            "tags": []
          },
          "execution_count": 21
        }
      ]
    },
    {
      "cell_type": "code",
      "metadata": {
        "colab": {
          "base_uri": "https://localhost:8080/"
        },
        "id": "o_FQMTtoDiPT",
        "outputId": "d7552bc4-d1fe-4f40-d791-f75473bc2a55"
      },
      "source": [
        "X = tf.cast(X,dtype=tf.float32)\n",
        "y = tf.cast(y,dtype=tf.float32)\n",
        "X,y"
      ],
      "execution_count": 22,
      "outputs": [
        {
          "output_type": "execute_result",
          "data": {
            "text/plain": [
              "(<tf.Tensor: shape=(50,), dtype=float32, numpy=\n",
              " array([-100.,  -96.,  -92.,  -88.,  -84.,  -80.,  -76.,  -72.,  -68.,\n",
              "         -64.,  -60.,  -56.,  -52.,  -48.,  -44.,  -40.,  -36.,  -32.,\n",
              "         -28.,  -24.,  -20.,  -16.,  -12.,   -8.,   -4.,    0.,    4.,\n",
              "           8.,   12.,   16.,   20.,   24.,   28.,   32.,   36.,   40.,\n",
              "          44.,   48.,   52.,   56.,   60.,   64.,   68.,   72.,   76.,\n",
              "          80.,   84.,   88.,   92.,   96.], dtype=float32)>,\n",
              " <tf.Tensor: shape=(50,), dtype=float32, numpy=\n",
              " array([-90., -86., -82., -78., -74., -70., -66., -62., -58., -54., -50.,\n",
              "        -46., -42., -38., -34., -30., -26., -22., -18., -14., -10.,  -6.,\n",
              "         -2.,   2.,   6.,  10.,  14.,  18.,  22.,  26.,  30.,  34.,  38.,\n",
              "         42.,  46.,  50.,  54.,  58.,  62.,  66.,  70.,  74.,  78.,  82.,\n",
              "         86.,  90.,  94.,  98., 102., 106.], dtype=float32)>)"
            ]
          },
          "metadata": {
            "tags": []
          },
          "execution_count": 22
        }
      ]
    },
    {
      "cell_type": "code",
      "metadata": {
        "colab": {
          "base_uri": "https://localhost:8080/"
        },
        "id": "lpuSayr8Fv5S",
        "outputId": "42a1a6a8-205a-4c31-ba01-6905a41c34fd"
      },
      "source": [
        "len(X)*0.8"
      ],
      "execution_count": 23,
      "outputs": [
        {
          "output_type": "execute_result",
          "data": {
            "text/plain": [
              "40.0"
            ]
          },
          "metadata": {
            "tags": []
          },
          "execution_count": 23
        }
      ]
    },
    {
      "cell_type": "code",
      "metadata": {
        "id": "n3H2QBgvDzag"
      },
      "source": [
        "#let's split our data into train and test datasets\n",
        "X_train = X[:tf.cast(len(X)*0.8,dtype=tf.int32)]\n",
        "X_test=X[len(X_train):]\n",
        "y_train=y[:tf.cast(len(y)*0.8,dtype=tf.int32)]\n",
        "y_test=y[len(y_train):]"
      ],
      "execution_count": 24,
      "outputs": []
    },
    {
      "cell_type": "code",
      "metadata": {
        "colab": {
          "base_uri": "https://localhost:8080/"
        },
        "id": "upaJ9_FmFjX2",
        "outputId": "6001995f-0d58-47b5-895f-e82b03da1fa9"
      },
      "source": [
        "X_train,X_test"
      ],
      "execution_count": 25,
      "outputs": [
        {
          "output_type": "execute_result",
          "data": {
            "text/plain": [
              "(<tf.Tensor: shape=(40,), dtype=float32, numpy=\n",
              " array([-100.,  -96.,  -92.,  -88.,  -84.,  -80.,  -76.,  -72.,  -68.,\n",
              "         -64.,  -60.,  -56.,  -52.,  -48.,  -44.,  -40.,  -36.,  -32.,\n",
              "         -28.,  -24.,  -20.,  -16.,  -12.,   -8.,   -4.,    0.,    4.,\n",
              "           8.,   12.,   16.,   20.,   24.,   28.,   32.,   36.,   40.,\n",
              "          44.,   48.,   52.,   56.], dtype=float32)>,\n",
              " <tf.Tensor: shape=(10,), dtype=float32, numpy=array([60., 64., 68., 72., 76., 80., 84., 88., 92., 96.], dtype=float32)>)"
            ]
          },
          "metadata": {
            "tags": []
          },
          "execution_count": 25
        }
      ]
    },
    {
      "cell_type": "code",
      "metadata": {
        "colab": {
          "base_uri": "https://localhost:8080/"
        },
        "id": "_5s1VkyvJBFr",
        "outputId": "6adacc19-44ff-44e2-c977-7077792fc1c3"
      },
      "source": [
        "len(X_train),len(X_test),len(y_test),len(y_train)"
      ],
      "execution_count": 26,
      "outputs": [
        {
          "output_type": "execute_result",
          "data": {
            "text/plain": [
              "(40, 10, 10, 40)"
            ]
          },
          "metadata": {
            "tags": []
          },
          "execution_count": 26
        }
      ]
    },
    {
      "cell_type": "code",
      "metadata": {
        "colab": {
          "base_uri": "https://localhost:8080/",
          "height": 483
        },
        "id": "tYlIfh1VGlXA",
        "outputId": "71080db5-0d18-4fc7-88ed-1881a80a63d1"
      },
      "source": [
        "#let's visualize the data\n",
        "plt.figure(figsize=[10,8])\n",
        "#let's plot the training data\n",
        "plt.scatter(X_train,y_train,color = 'blue',label=\"Train\")\n",
        "#let's plot the test data\n",
        "plt.scatter(X_test,y_test,color = 'yellow',label='Test')\n",
        "plt.legend()\n",
        "plt.show()"
      ],
      "execution_count": 27,
      "outputs": [
        {
          "output_type": "display_data",
          "data": {
            "image/png": "[encoded data removed]",
            "text/plain": [
              "<Figure size 720x576 with 1 Axes>"
            ]
          },
          "metadata": {
            "tags": [],
            "needs_background": "light"
          }
        }
      ]
    },
    {
      "cell_type": "code",
      "metadata": {
        "colab": {
          "base_uri": "https://localhost:8080/"
        },
        "id": "K2vvLHUhI2Ui",
        "outputId": "79bd3424-3cf2-4628-95fc-d733c36e8e0a"
      },
      "source": [
        "modely.summary()"
      ],
      "execution_count": 28,
      "outputs": [
        {
          "output_type": "stream",
          "text": [
            "Model: \"sequential_1\"\n",
            "_________________________________________________________________\n",
            "Layer (type)                 Output Shape              Param #   \n",
            "=================================================================\n",
            "dense_1 (Dense)              (None, 100)               200       \n",
            "_________________________________________________________________\n",
            "dense_2 (Dense)              (None, 100)               10100     \n",
            "_________________________________________________________________\n",
            "dense_3 (Dense)              (None, 100)               10100     \n",
            "_________________________________________________________________\n",
            "dense_4 (Dense)              (None, 1)                 101       \n",
            "=================================================================\n",
            "Total params: 20,501\n",
            "Trainable params: 20,501\n",
            "Non-trainable params: 0\n",
            "_________________________________________________________________\n"
          ],
          "name": "stdout"
        }
      ]
    },
    {
      "cell_type": "code",
      "metadata": {
        "id": "hxIi5CWVL6Du",
        "colab": {
          "base_uri": "https://localhost:8080/"
        },
        "outputId": "501d99bc-2d5b-4a98-a436-578c85a658a0"
      },
      "source": [
        "tf.random.set_seed(42)\n",
        "#let's create a model a fit to our training dataset\n",
        "model = tf.keras.Sequential([\n",
        "                             tf.keras.layers.Dense(10),\n",
        "                             \n",
        "                            \n",
        "                             tf.keras.layers.Dense(1)\n",
        "])\n",
        "#let's compile our model\n",
        "model.compile(loss = tf.keras.losses.mae,\n",
        "              optimizer = tf.keras.optimizers.Adam(learning_rate=0.01),\n",
        "              metrics=[\"mae\"])\n",
        "#let's fit our model with 100 epochs(how many times our model goes thru the data)\n",
        "model.fit(X_train,y_train,epochs=150)"
      ],
      "execution_count": 29,
      "outputs": [
        {
          "output_type": "stream",
          "text": [
            "Epoch 1/150\n",
            "2/2 [==============================] - 0s 8ms/step - loss: 24.7643 - mae: 24.7643\n",
            "Epoch 2/150\n",
            "2/2 [==============================] - 0s 5ms/step - loss: 19.0261 - mae: 19.0261\n",
            "Epoch 3/150\n",
            "2/2 [==============================] - 0s 7ms/step - loss: 13.5868 - mae: 13.5868\n",
            "Epoch 4/150\n",
            "2/2 [==============================] - 0s 6ms/step - loss: 8.8756 - mae: 8.8756\n",
            "Epoch 5/150\n",
            "2/2 [==============================] - 0s 7ms/step - loss: 8.6328 - mae: 8.6328\n",
            "Epoch 6/150\n",
            "2/2 [==============================] - 0s 5ms/step - loss: 10.8267 - mae: 10.8267\n",
            "Epoch 7/150\n",
            "2/2 [==============================] - 0s 5ms/step - loss: 11.7707 - mae: 11.7707\n",
            "Epoch 8/150\n",
            "2/2 [==============================] - 0s 4ms/step - loss: 11.8002 - mae: 11.8002\n",
            "Epoch 9/150\n",
            "2/2 [==============================] - 0s 5ms/step - loss: 11.1963 - mae: 11.1963\n",
            "Epoch 10/150\n",
            "2/2 [==============================] - 0s 5ms/step - loss: 10.0508 - mae: 10.0508\n",
            "Epoch 11/150\n",
            "2/2 [==============================] - 0s 7ms/step - loss: 8.4786 - mae: 8.4786\n",
            "Epoch 12/150\n",
            "2/2 [==============================] - 0s 7ms/step - loss: 7.3061 - mae: 7.3061\n",
            "Epoch 13/150\n",
            "2/2 [==============================] - 0s 7ms/step - loss: 7.9294 - mae: 7.9294\n",
            "Epoch 14/150\n",
            "2/2 [==============================] - 0s 7ms/step - loss: 8.2074 - mae: 8.2074\n",
            "Epoch 15/150\n",
            "2/2 [==============================] - 0s 7ms/step - loss: 7.7218 - mae: 7.7218\n",
            "Epoch 16/150\n",
            "2/2 [==============================] - 0s 7ms/step - loss: 7.1421 - mae: 7.1421\n",
            "Epoch 17/150\n",
            "2/2 [==============================] - 0s 7ms/step - loss: 6.9032 - mae: 6.9032\n",
            "Epoch 18/150\n",
            "2/2 [==============================] - 0s 8ms/step - loss: 7.1172 - mae: 7.1172\n",
            "Epoch 19/150\n",
            "2/2 [==============================] - 0s 13ms/step - loss: 6.8713 - mae: 6.8713\n",
            "Epoch 20/150\n",
            "2/2 [==============================] - 0s 7ms/step - loss: 6.6965 - mae: 6.6965\n",
            "Epoch 21/150\n",
            "2/2 [==============================] - 0s 8ms/step - loss: 6.6737 - mae: 6.6737\n",
            "Epoch 22/150\n",
            "2/2 [==============================] - 0s 7ms/step - loss: 6.5517 - mae: 6.5517\n",
            "Epoch 23/150\n",
            "2/2 [==============================] - 0s 8ms/step - loss: 6.5632 - mae: 6.5632\n",
            "Epoch 24/150\n",
            "2/2 [==============================] - 0s 8ms/step - loss: 6.5072 - mae: 6.5072\n",
            "Epoch 25/150\n",
            "2/2 [==============================] - 0s 7ms/step - loss: 6.3482 - mae: 6.3482\n",
            "Epoch 26/150\n",
            "2/2 [==============================] - 0s 6ms/step - loss: 6.2796 - mae: 6.2796\n",
            "Epoch 27/150\n",
            "2/2 [==============================] - 0s 8ms/step - loss: 6.2361 - mae: 6.2361\n",
            "Epoch 28/150\n",
            "2/2 [==============================] - 0s 7ms/step - loss: 6.1653 - mae: 6.1653\n",
            "Epoch 29/150\n",
            "2/2 [==============================] - 0s 6ms/step - loss: 6.0706 - mae: 6.0706\n",
            "Epoch 30/150\n",
            "2/2 [==============================] - 0s 6ms/step - loss: 6.0291 - mae: 6.0291\n",
            "Epoch 31/150\n",
            "2/2 [==============================] - 0s 7ms/step - loss: 5.9077 - mae: 5.9077\n",
            "Epoch 32/150\n",
            "2/2 [==============================] - 0s 17ms/step - loss: 5.9504 - mae: 5.9504\n",
            "Epoch 33/150\n",
            "2/2 [==============================] - 0s 8ms/step - loss: 6.0770 - mae: 6.0770\n",
            "Epoch 34/150\n",
            "2/2 [==============================] - 0s 7ms/step - loss: 5.9370 - mae: 5.9370\n",
            "Epoch 35/150\n",
            "2/2 [==============================] - 0s 6ms/step - loss: 5.7583 - mae: 5.7583\n",
            "Epoch 36/150\n",
            "2/2 [==============================] - 0s 5ms/step - loss: 5.6101 - mae: 5.6101\n",
            "Epoch 37/150\n",
            "2/2 [==============================] - 0s 10ms/step - loss: 5.5048 - mae: 5.5048\n",
            "Epoch 38/150\n",
            "2/2 [==============================] - 0s 9ms/step - loss: 5.5992 - mae: 5.5992\n",
            "Epoch 39/150\n",
            "2/2 [==============================] - 0s 8ms/step - loss: 5.5564 - mae: 5.5564\n",
            "Epoch 40/150\n",
            "2/2 [==============================] - 0s 8ms/step - loss: 5.3352 - mae: 5.3352\n",
            "Epoch 41/150\n",
            "2/2 [==============================] - 0s 9ms/step - loss: 5.1989 - mae: 5.1989\n",
            "Epoch 42/150\n",
            "2/2 [==============================] - 0s 10ms/step - loss: 5.3878 - mae: 5.3878\n",
            "Epoch 43/150\n",
            "2/2 [==============================] - 0s 9ms/step - loss: 5.1514 - mae: 5.1514\n",
            "Epoch 44/150\n",
            "2/2 [==============================] - 0s 7ms/step - loss: 4.9465 - mae: 4.9465\n",
            "Epoch 45/150\n",
            "2/2 [==============================] - 0s 9ms/step - loss: 5.0810 - mae: 5.0810\n",
            "Epoch 46/150\n",
            "2/2 [==============================] - 0s 7ms/step - loss: 5.0890 - mae: 5.0890\n",
            "Epoch 47/150\n",
            "2/2 [==============================] - 0s 5ms/step - loss: 4.8107 - mae: 4.8107\n",
            "Epoch 48/150\n",
            "2/2 [==============================] - 0s 8ms/step - loss: 4.6230 - mae: 4.6230\n",
            "Epoch 49/150\n",
            "2/2 [==============================] - 0s 6ms/step - loss: 4.6239 - mae: 4.6239\n",
            "Epoch 50/150\n",
            "2/2 [==============================] - 0s 8ms/step - loss: 4.4386 - mae: 4.4386\n",
            "Epoch 51/150\n",
            "2/2 [==============================] - 0s 10ms/step - loss: 4.5250 - mae: 4.5250\n",
            "Epoch 52/150\n",
            "2/2 [==============================] - 0s 7ms/step - loss: 4.3965 - mae: 4.3965\n",
            "Epoch 53/150\n",
            "2/2 [==============================] - 0s 8ms/step - loss: 4.2998 - mae: 4.2998\n",
            "Epoch 54/150\n",
            "2/2 [==============================] - 0s 9ms/step - loss: 4.1181 - mae: 4.1181\n",
            "Epoch 55/150\n",
            "2/2 [==============================] - 0s 8ms/step - loss: 4.1022 - mae: 4.1022\n",
            "Epoch 56/150\n",
            "2/2 [==============================] - 0s 6ms/step - loss: 3.8749 - mae: 3.8749\n",
            "Epoch 57/150\n",
            "2/2 [==============================] - 0s 11ms/step - loss: 3.8660 - mae: 3.8660\n",
            "Epoch 58/150\n",
            "2/2 [==============================] - 0s 8ms/step - loss: 3.7244 - mae: 3.7244\n",
            "Epoch 59/150\n",
            "2/2 [==============================] - 0s 8ms/step - loss: 3.6443 - mae: 3.6443\n",
            "Epoch 60/150\n",
            "2/2 [==============================] - 0s 11ms/step - loss: 3.5109 - mae: 3.5109\n",
            "Epoch 61/150\n",
            "2/2 [==============================] - 0s 8ms/step - loss: 3.4097 - mae: 3.4097\n",
            "Epoch 62/150\n",
            "2/2 [==============================] - 0s 11ms/step - loss: 3.3124 - mae: 3.3124\n",
            "Epoch 63/150\n",
            "2/2 [==============================] - 0s 7ms/step - loss: 3.2728 - mae: 3.2728\n",
            "Epoch 64/150\n",
            "2/2 [==============================] - 0s 5ms/step - loss: 3.1014 - mae: 3.1014\n",
            "Epoch 65/150\n",
            "2/2 [==============================] - 0s 7ms/step - loss: 2.9932 - mae: 2.9932\n",
            "Epoch 66/150\n",
            "2/2 [==============================] - 0s 6ms/step - loss: 2.8670 - mae: 2.8670\n",
            "Epoch 67/150\n",
            "2/2 [==============================] - 0s 13ms/step - loss: 2.8824 - mae: 2.8824\n",
            "Epoch 68/150\n",
            "2/2 [==============================] - 0s 10ms/step - loss: 2.6894 - mae: 2.6894\n",
            "Epoch 69/150\n",
            "2/2 [==============================] - 0s 11ms/step - loss: 2.5258 - mae: 2.5258\n",
            "Epoch 70/150\n",
            "2/2 [==============================] - 0s 8ms/step - loss: 2.5211 - mae: 2.5211\n",
            "Epoch 71/150\n",
            "2/2 [==============================] - 0s 8ms/step - loss: 2.2685 - mae: 2.2685\n",
            "Epoch 72/150\n",
            "2/2 [==============================] - 0s 7ms/step - loss: 2.3148 - mae: 2.3148\n",
            "Epoch 73/150\n",
            "2/2 [==============================] - 0s 7ms/step - loss: 2.1675 - mae: 2.1675\n",
            "Epoch 74/150\n",
            "2/2 [==============================] - 0s 10ms/step - loss: 1.9130 - mae: 1.9130\n",
            "Epoch 75/150\n",
            "2/2 [==============================] - 0s 5ms/step - loss: 2.2776 - mae: 2.2776\n",
            "Epoch 76/150\n",
            "2/2 [==============================] - 0s 10ms/step - loss: 1.9967 - mae: 1.9967\n",
            "Epoch 77/150\n",
            "2/2 [==============================] - 0s 8ms/step - loss: 1.6326 - mae: 1.6326\n",
            "Epoch 78/150\n",
            "2/2 [==============================] - 0s 10ms/step - loss: 1.5497 - mae: 1.5497\n",
            "Epoch 79/150\n",
            "2/2 [==============================] - 0s 9ms/step - loss: 1.5339 - mae: 1.5339\n",
            "Epoch 80/150\n",
            "2/2 [==============================] - 0s 8ms/step - loss: 1.2708 - mae: 1.2708\n",
            "Epoch 81/150\n",
            "2/2 [==============================] - 0s 6ms/step - loss: 1.2266 - mae: 1.2266\n",
            "Epoch 82/150\n",
            "2/2 [==============================] - 0s 7ms/step - loss: 0.8648 - mae: 0.8648\n",
            "Epoch 83/150\n",
            "2/2 [==============================] - 0s 7ms/step - loss: 0.6219 - mae: 0.6219\n",
            "Epoch 84/150\n",
            "2/2 [==============================] - 0s 7ms/step - loss: 0.5438 - mae: 0.5438\n",
            "Epoch 85/150\n",
            "2/2 [==============================] - 0s 8ms/step - loss: 0.8906 - mae: 0.8906\n",
            "Epoch 86/150\n",
            "2/2 [==============================] - 0s 8ms/step - loss: 0.4026 - mae: 0.4026\n",
            "Epoch 87/150\n",
            "2/2 [==============================] - 0s 7ms/step - loss: 0.7194 - mae: 0.7194\n",
            "Epoch 88/150\n",
            "2/2 [==============================] - 0s 8ms/step - loss: 1.3947 - mae: 1.3947\n",
            "Epoch 89/150\n",
            "2/2 [==============================] - 0s 7ms/step - loss: 1.4898 - mae: 1.4898\n",
            "Epoch 90/150\n",
            "2/2 [==============================] - 0s 8ms/step - loss: 0.9488 - mae: 0.9488\n",
            "Epoch 91/150\n",
            "2/2 [==============================] - 0s 6ms/step - loss: 1.2691 - mae: 1.2691\n",
            "Epoch 92/150\n",
            "2/2 [==============================] - 0s 10ms/step - loss: 0.9248 - mae: 0.9248\n",
            "Epoch 93/150\n",
            "2/2 [==============================] - 0s 9ms/step - loss: 1.1843 - mae: 1.1843\n",
            "Epoch 94/150\n",
            "2/2 [==============================] - 0s 7ms/step - loss: 0.8707 - mae: 0.8707\n",
            "Epoch 95/150\n",
            "2/2 [==============================] - 0s 7ms/step - loss: 0.8288 - mae: 0.8288\n",
            "Epoch 96/150\n",
            "2/2 [==============================] - 0s 9ms/step - loss: 1.2722 - mae: 1.2722\n",
            "Epoch 97/150\n",
            "2/2 [==============================] - 0s 10ms/step - loss: 0.9913 - mae: 0.9913\n",
            "Epoch 98/150\n",
            "2/2 [==============================] - 0s 6ms/step - loss: 1.0983 - mae: 1.0983\n",
            "Epoch 99/150\n",
            "2/2 [==============================] - 0s 8ms/step - loss: 0.8475 - mae: 0.8475\n",
            "Epoch 100/150\n",
            "2/2 [==============================] - 0s 5ms/step - loss: 1.3404 - mae: 1.3404\n",
            "Epoch 101/150\n",
            "2/2 [==============================] - 0s 9ms/step - loss: 1.5410 - mae: 1.5410\n",
            "Epoch 102/150\n",
            "2/2 [==============================] - 0s 6ms/step - loss: 0.4359 - mae: 0.4359\n",
            "Epoch 103/150\n",
            "2/2 [==============================] - 0s 12ms/step - loss: 0.6404 - mae: 0.6404\n",
            "Epoch 104/150\n",
            "2/2 [==============================] - 0s 8ms/step - loss: 1.2106 - mae: 1.2106\n",
            "Epoch 105/150\n",
            "2/2 [==============================] - 0s 9ms/step - loss: 1.3166 - mae: 1.3166\n",
            "Epoch 106/150\n",
            "2/2 [==============================] - 0s 6ms/step - loss: 0.6462 - mae: 0.6462\n",
            "Epoch 107/150\n",
            "2/2 [==============================] - 0s 7ms/step - loss: 0.7596 - mae: 0.7596\n",
            "Epoch 108/150\n",
            "2/2 [==============================] - 0s 7ms/step - loss: 1.0867 - mae: 1.0867\n",
            "Epoch 109/150\n",
            "2/2 [==============================] - 0s 16ms/step - loss: 1.2354 - mae: 1.2354\n",
            "Epoch 110/150\n",
            "2/2 [==============================] - 0s 4ms/step - loss: 0.5082 - mae: 0.5082\n",
            "Epoch 111/150\n",
            "2/2 [==============================] - 0s 8ms/step - loss: 0.5065 - mae: 0.5065\n",
            "Epoch 112/150\n",
            "2/2 [==============================] - 0s 8ms/step - loss: 0.2300 - mae: 0.2300\n",
            "Epoch 113/150\n",
            "2/2 [==============================] - 0s 6ms/step - loss: 0.1635 - mae: 0.1635\n",
            "Epoch 114/150\n",
            "2/2 [==============================] - 0s 8ms/step - loss: 0.2163 - mae: 0.2163\n",
            "Epoch 115/150\n",
            "2/2 [==============================] - 0s 8ms/step - loss: 0.5129 - mae: 0.5129\n",
            "Epoch 116/150\n",
            "2/2 [==============================] - 0s 8ms/step - loss: 0.1826 - mae: 0.1826\n",
            "Epoch 117/150\n",
            "2/2 [==============================] - 0s 8ms/step - loss: 0.2390 - mae: 0.2390\n",
            "Epoch 118/150\n",
            "2/2 [==============================] - 0s 6ms/step - loss: 0.3641 - mae: 0.3641\n",
            "Epoch 119/150\n",
            "2/2 [==============================] - 0s 7ms/step - loss: 0.2468 - mae: 0.2468\n",
            "Epoch 120/150\n",
            "2/2 [==============================] - 0s 6ms/step - loss: 0.5606 - mae: 0.5606\n",
            "Epoch 121/150\n",
            "2/2 [==============================] - 0s 8ms/step - loss: 0.3769 - mae: 0.3769\n",
            "Epoch 122/150\n",
            "2/2 [==============================] - 0s 6ms/step - loss: 0.3018 - mae: 0.3018\n",
            "Epoch 123/150\n",
            "2/2 [==============================] - 0s 5ms/step - loss: 0.1903 - mae: 0.1903\n",
            "Epoch 124/150\n",
            "2/2 [==============================] - 0s 5ms/step - loss: 0.7354 - mae: 0.7354\n",
            "Epoch 125/150\n",
            "2/2 [==============================] - 0s 7ms/step - loss: 0.4811 - mae: 0.4811\n",
            "Epoch 126/150\n",
            "2/2 [==============================] - 0s 8ms/step - loss: 0.5549 - mae: 0.5549\n",
            "Epoch 127/150\n",
            "2/2 [==============================] - 0s 9ms/step - loss: 0.4069 - mae: 0.4069\n",
            "Epoch 128/150\n",
            "2/2 [==============================] - 0s 10ms/step - loss: 0.2636 - mae: 0.2636\n",
            "Epoch 129/150\n",
            "2/2 [==============================] - 0s 7ms/step - loss: 0.8353 - mae: 0.8353\n",
            "Epoch 130/150\n",
            "2/2 [==============================] - 0s 15ms/step - loss: 0.2489 - mae: 0.2489\n",
            "Epoch 131/150\n",
            "2/2 [==============================] - 0s 8ms/step - loss: 0.2221 - mae: 0.2221\n",
            "Epoch 132/150\n",
            "2/2 [==============================] - 0s 4ms/step - loss: 0.8542 - mae: 0.8542\n",
            "Epoch 133/150\n",
            "2/2 [==============================] - 0s 5ms/step - loss: 0.1279 - mae: 0.1279\n",
            "Epoch 134/150\n",
            "2/2 [==============================] - 0s 14ms/step - loss: 0.0876 - mae: 0.0876\n",
            "Epoch 135/150\n",
            "2/2 [==============================] - 0s 9ms/step - loss: 0.2618 - mae: 0.2618\n",
            "Epoch 136/150\n",
            "2/2 [==============================] - 0s 19ms/step - loss: 0.5785 - mae: 0.5785\n",
            "Epoch 137/150\n",
            "2/2 [==============================] - 0s 9ms/step - loss: 0.3189 - mae: 0.3189\n",
            "Epoch 138/150\n",
            "2/2 [==============================] - 0s 11ms/step - loss: 1.0591 - mae: 1.0591\n",
            "Epoch 139/150\n",
            "2/2 [==============================] - 0s 8ms/step - loss: 0.4304 - mae: 0.4304\n",
            "Epoch 140/150\n",
            "2/2 [==============================] - 0s 9ms/step - loss: 0.8002 - mae: 0.8002\n",
            "Epoch 141/150\n",
            "2/2 [==============================] - 0s 14ms/step - loss: 0.2081 - mae: 0.2081\n",
            "Epoch 142/150\n",
            "2/2 [==============================] - 0s 10ms/step - loss: 0.3164 - mae: 0.3164\n",
            "Epoch 143/150\n",
            "2/2 [==============================] - 0s 10ms/step - loss: 0.3059 - mae: 0.3059\n",
            "Epoch 144/150\n",
            "2/2 [==============================] - 0s 8ms/step - loss: 0.1669 - mae: 0.1669\n",
            "Epoch 145/150\n",
            "2/2 [==============================] - 0s 8ms/step - loss: 0.1788 - mae: 0.1788\n",
            "Epoch 146/150\n",
            "2/2 [==============================] - 0s 11ms/step - loss: 0.6915 - mae: 0.6915\n",
            "Epoch 147/150\n",
            "2/2 [==============================] - 0s 9ms/step - loss: 0.2097 - mae: 0.2097\n",
            "Epoch 148/150\n",
            "2/2 [==============================] - 0s 10ms/step - loss: 0.1150 - mae: 0.1150\n",
            "Epoch 149/150\n",
            "2/2 [==============================] - 0s 10ms/step - loss: 0.1172 - mae: 0.1172\n",
            "Epoch 150/150\n",
            "2/2 [==============================] - 0s 10ms/step - loss: 0.2682 - mae: 0.2682\n"
          ],
          "name": "stdout"
        },
        {
          "output_type": "execute_result",
          "data": {
            "text/plain": [
              "<tensorflow.python.keras.callbacks.History at 0x7f47d01ef610>"
            ]
          },
          "metadata": {
            "tags": []
          },
          "execution_count": 29
        }
      ]
    },
    {
      "cell_type": "code",
      "metadata": {
        "colab": {
          "base_uri": "https://localhost:8080/"
        },
        "id": "VPuBqXMTQ4xC",
        "outputId": "bd177042-1636-4e46-fab1-bf49ba2e372f"
      },
      "source": [
        "model.predict(X_test[:1])"
      ],
      "execution_count": 30,
      "outputs": [
        {
          "output_type": "execute_result",
          "data": {
            "text/plain": [
              "array([[69.88524]], dtype=float32)"
            ]
          },
          "metadata": {
            "tags": []
          },
          "execution_count": 30
        }
      ]
    },
    {
      "cell_type": "code",
      "metadata": {
        "colab": {
          "base_uri": "https://localhost:8080/"
        },
        "id": "Akxi8_8zRsv0",
        "outputId": "a11e6691-215c-409e-fe10-9c8dd1a8429a"
      },
      "source": [
        "model.evaluate(y_test[:1],model.predict(X_test[:1]))\n"
      ],
      "execution_count": 31,
      "outputs": [
        {
          "output_type": "stream",
          "text": [
            "1/1 [==============================] - 0s 147ms/step - loss: 9.9899 - mae: 9.9899\n"
          ],
          "name": "stdout"
        },
        {
          "output_type": "execute_result",
          "data": {
            "text/plain": [
              "[9.989921569824219, 9.989921569824219]"
            ]
          },
          "metadata": {
            "tags": []
          },
          "execution_count": 31
        }
      ]
    },
    {
      "cell_type": "code",
      "metadata": {
        "colab": {
          "base_uri": "https://localhost:8080/"
        },
        "id": "4elQhwSuR2eV",
        "outputId": "41a8f2cd-7c04-45fc-beef-9d6b8b07739b"
      },
      "source": [
        "y_test[:1]"
      ],
      "execution_count": 32,
      "outputs": [
        {
          "output_type": "execute_result",
          "data": {
            "text/plain": [
              "<tf.Tensor: shape=(1,), dtype=float32, numpy=array([70.], dtype=float32)>"
            ]
          },
          "metadata": {
            "tags": []
          },
          "execution_count": 32
        }
      ]
    },
    {
      "cell_type": "code",
      "metadata": {
        "colab": {
          "base_uri": "https://localhost:8080/"
        },
        "id": "U6FMSw3pUQI4",
        "outputId": "6959d71e-3188-42f9-99ff-c00e6567c93a"
      },
      "source": [
        "tf.keras.losses.mean_absolute_error([70.],[66.05638])"
      ],
      "execution_count": 33,
      "outputs": [
        {
          "output_type": "execute_result",
          "data": {
            "text/plain": [
              "<tf.Tensor: shape=(), dtype=float32, numpy=3.9436188>"
            ]
          },
          "metadata": {
            "tags": []
          },
          "execution_count": 33
        }
      ]
    },
    {
      "cell_type": "code",
      "metadata": {
        "colab": {
          "base_uri": "https://localhost:8080/"
        },
        "id": "xlv85JjbVaDr",
        "outputId": "bb442d36-38a2-40ee-d96c-49de9192dee1"
      },
      "source": [
        "model.summary()"
      ],
      "execution_count": 34,
      "outputs": [
        {
          "output_type": "stream",
          "text": [
            "Model: \"sequential_2\"\n",
            "_________________________________________________________________\n",
            "Layer (type)                 Output Shape              Param #   \n",
            "=================================================================\n",
            "dense_5 (Dense)              (None, 10)                20        \n",
            "_________________________________________________________________\n",
            "dense_6 (Dense)              (None, 1)                 11        \n",
            "=================================================================\n",
            "Total params: 31\n",
            "Trainable params: 31\n",
            "Non-trainable params: 0\n",
            "_________________________________________________________________\n"
          ],
          "name": "stdout"
        }
      ]
    },
    {
      "cell_type": "code",
      "metadata": {
        "id": "qGxmsetWVaQC"
      },
      "source": [
        "from tensorflow.keras.utils import plot_model"
      ],
      "execution_count": 35,
      "outputs": []
    },
    {
      "cell_type": "code",
      "metadata": {
        "colab": {
          "base_uri": "https://localhost:8080/",
          "height": 272
        },
        "id": "pwWABUeCVabO",
        "outputId": "9520af5b-e89e-4a5d-d990-2b55719e21ed"
      },
      "source": [
        "plot_model(model)"
      ],
      "execution_count": 36,
      "outputs": [
        {
          "output_type": "execute_result",
          "data": {
            "image/png": "[encoded data removed]",
            "text/plain": [
              "<IPython.core.display.Image object>"
            ]
          },
          "metadata": {
            "tags": []
          },
          "execution_count": 36
        }
      ]
    },
    {
      "cell_type": "code",
      "metadata": {
        "colab": {
          "base_uri": "https://localhost:8080/",
          "height": 312
        },
        "id": "iKNxzdJ_Va5m",
        "outputId": "e60b941f-3d67-4a2f-b4ce-ce7773393c72"
      },
      "source": [
        "plot_model(model,show_shapes=True)"
      ],
      "execution_count": 37,
      "outputs": [
        {
          "output_type": "execute_result",
          "data": {
            "image/png": "[encoded data removed]",
            "text/plain": [
              "<IPython.core.display.Image object>"
            ]
          },
          "metadata": {
            "tags": []
          },
          "execution_count": 37
        }
      ]
    },
    {
      "cell_type": "markdown",
      "metadata": {
        "id": "6V0oexMAVbbA"
      },
      "source": [
        "### let's predict our model"
      ]
    },
    {
      "cell_type": "code",
      "metadata": {
        "colab": {
          "base_uri": "https://localhost:8080/"
        },
        "id": "NTZiOSpyVcGj",
        "outputId": "24423d14-9c61-46cc-adf9-0803f66c34b3"
      },
      "source": [
        "y_pre = model.predict(X_test)\n",
        "y_pre"
      ],
      "execution_count": 38,
      "outputs": [
        {
          "output_type": "execute_result",
          "data": {
            "text/plain": [
              "array([[ 69.88524 ],\n",
              "       [ 73.8812  ],\n",
              "       [ 77.877174],\n",
              "       [ 81.87314 ],\n",
              "       [ 85.86911 ],\n",
              "       [ 89.86508 ],\n",
              "       [ 93.86105 ],\n",
              "       [ 97.85702 ],\n",
              "       [101.85298 ],\n",
              "       [105.84895 ]], dtype=float32)"
            ]
          },
          "metadata": {
            "tags": []
          },
          "execution_count": 38
        }
      ]
    },
    {
      "cell_type": "code",
      "metadata": {
        "colab": {
          "base_uri": "https://localhost:8080/"
        },
        "id": "lBeKP60jVcZH",
        "outputId": "5e827753-cfaf-46ca-e7e2-9e66fa92a1b3"
      },
      "source": [
        "y_test.numpy()"
      ],
      "execution_count": 39,
      "outputs": [
        {
          "output_type": "execute_result",
          "data": {
            "text/plain": [
              "array([ 70.,  74.,  78.,  82.,  86.,  90.,  94.,  98., 102., 106.],\n",
              "      dtype=float32)"
            ]
          },
          "metadata": {
            "tags": []
          },
          "execution_count": 39
        }
      ]
    },
    {
      "cell_type": "code",
      "metadata": {
        "colab": {
          "base_uri": "https://localhost:8080/"
        },
        "id": "YX7Lrl7TbN47",
        "outputId": "3c3957d4-ff7b-4b35-b3bf-69a7f4aebc2a"
      },
      "source": [
        "np.linspace(0,len(y_test))"
      ],
      "execution_count": 40,
      "outputs": [
        {
          "output_type": "execute_result",
          "data": {
            "text/plain": [
              "array([ 0.        ,  0.20408163,  0.40816327,  0.6122449 ,  0.81632653,\n",
              "        1.02040816,  1.2244898 ,  1.42857143,  1.63265306,  1.83673469,\n",
              "        2.04081633,  2.24489796,  2.44897959,  2.65306122,  2.85714286,\n",
              "        3.06122449,  3.26530612,  3.46938776,  3.67346939,  3.87755102,\n",
              "        4.08163265,  4.28571429,  4.48979592,  4.69387755,  4.89795918,\n",
              "        5.10204082,  5.30612245,  5.51020408,  5.71428571,  5.91836735,\n",
              "        6.12244898,  6.32653061,  6.53061224,  6.73469388,  6.93877551,\n",
              "        7.14285714,  7.34693878,  7.55102041,  7.75510204,  7.95918367,\n",
              "        8.16326531,  8.36734694,  8.57142857,  8.7755102 ,  8.97959184,\n",
              "        9.18367347,  9.3877551 ,  9.59183673,  9.79591837, 10.        ])"
            ]
          },
          "metadata": {
            "tags": []
          },
          "execution_count": 40
        }
      ]
    },
    {
      "cell_type": "code",
      "metadata": {
        "id": "taoLvC52VdUt"
      },
      "source": [
        "#create a funct to visualize the disparity btwn our preds and test values\n",
        "def ploty(X_train,X_test,y_train,y_true,y_pred):\n",
        "  plt.figure(figsize=[8,6])\n",
        "  plt.scatter(X_train,y_train,c= 'orange', label = \"train values\")\n",
        "  #create a line plotfor the true values\n",
        "  plt.scatter(X_test,y_test,c= 'blue', label = \"test values\")\n",
        "  #create a line plot for predicted values\n",
        "  plt.scatter(X_test,y_pred,c='magenta', label = \"predicted values\")\n",
        "  plt.legend()\n",
        "  plt.show();"
      ],
      "execution_count": 41,
      "outputs": []
    },
    {
      "cell_type": "code",
      "metadata": {
        "colab": {
          "base_uri": "https://localhost:8080/",
          "height": 374
        },
        "id": "iLelDFpdcCK5",
        "outputId": "d83a5b0a-1a0d-4798-905b-95b6ab6ed654"
      },
      "source": [
        "ploty(X_train,X_test,y_train,y_test,y_pre)"
      ],
      "execution_count": 42,
      "outputs": [
        {
          "output_type": "display_data",
          "data": {
            "image/png": "[encoded data removed]",
            "text/plain": [
              "<Figure size 576x432 with 1 Axes>"
            ]
          },
          "metadata": {
            "tags": [],
            "needs_background": "light"
          }
        }
      ]
    },
    {
      "cell_type": "markdown",
      "metadata": {
        "id": "7s_ZCbh0cGu_"
      },
      "source": [
        "### Evaluating our model with evaluation metrics"
      ]
    },
    {
      "cell_type": "code",
      "metadata": {
        "colab": {
          "base_uri": "https://localhost:8080/"
        },
        "id": "57sZHhnfkcAH",
        "outputId": "a6e5d4bb-2d18-4766-fce4-f2bd611d751b"
      },
      "source": [
        "tf.constant(y_pre),y_test,tf.reshape(tf.constant(y_pre),(10,))"
      ],
      "execution_count": 43,
      "outputs": [
        {
          "output_type": "execute_result",
          "data": {
            "text/plain": [
              "(<tf.Tensor: shape=(10, 1), dtype=float32, numpy=\n",
              " array([[ 69.88524 ],\n",
              "        [ 73.8812  ],\n",
              "        [ 77.877174],\n",
              "        [ 81.87314 ],\n",
              "        [ 85.86911 ],\n",
              "        [ 89.86508 ],\n",
              "        [ 93.86105 ],\n",
              "        [ 97.85702 ],\n",
              "        [101.85298 ],\n",
              "        [105.84895 ]], dtype=float32)>,\n",
              " <tf.Tensor: shape=(10,), dtype=float32, numpy=\n",
              " array([ 70.,  74.,  78.,  82.,  86.,  90.,  94.,  98., 102., 106.],\n",
              "       dtype=float32)>,\n",
              " <tf.Tensor: shape=(10,), dtype=float32, numpy=\n",
              " array([ 69.88524 ,  73.8812  ,  77.877174,  81.87314 ,  85.86911 ,\n",
              "         89.86508 ,  93.86105 ,  97.85702 , 101.85298 , 105.84895 ],\n",
              "       dtype=float32)>)"
            ]
          },
          "metadata": {
            "tags": []
          },
          "execution_count": 43
        }
      ]
    },
    {
      "cell_type": "code",
      "metadata": {
        "colab": {
          "base_uri": "https://localhost:8080/"
        },
        "id": "EWHGNz8JfadR",
        "outputId": "952ce688-2b94-470b-f54b-bb77d19787b6"
      },
      "source": [
        "#using mae\n",
        "tf.keras.losses.mae(y_test,tf.reshape(tf.constant(y_pre),(10,)))"
      ],
      "execution_count": 44,
      "outputs": [
        {
          "output_type": "execute_result",
          "data": {
            "text/plain": [
              "<tf.Tensor: shape=(), dtype=float32, numpy=0.13290481>"
            ]
          },
          "metadata": {
            "tags": []
          },
          "execution_count": 44
        }
      ]
    },
    {
      "cell_type": "code",
      "metadata": {
        "colab": {
          "base_uri": "https://localhost:8080/"
        },
        "id": "GOjAJQ9igz5W",
        "outputId": "96eabe5f-a811-4cba-f840-da33a8cf9ab3"
      },
      "source": [
        "maey = tf.keras.losses.MeanAbsoluteError()\n",
        "maey(y_test,tf.constant(y_pre))"
      ],
      "execution_count": 45,
      "outputs": [
        {
          "output_type": "execute_result",
          "data": {
            "text/plain": [
              "<tf.Tensor: shape=(), dtype=float32, numpy=0.13290481>"
            ]
          },
          "metadata": {
            "tags": []
          },
          "execution_count": 45
        }
      ]
    },
    {
      "cell_type": "code",
      "metadata": {
        "colab": {
          "base_uri": "https://localhost:8080/"
        },
        "id": "mzUZ0Odph38y",
        "outputId": "6196c6f6-3a89-4421-a42a-2bb20d3ba0dc"
      },
      "source": [
        "model.evaluate(X_test,y_test)"
      ],
      "execution_count": 46,
      "outputs": [
        {
          "output_type": "stream",
          "text": [
            "1/1 [==============================] - 0s 102ms/step - loss: 0.1329 - mae: 0.1329\n"
          ],
          "name": "stdout"
        },
        {
          "output_type": "execute_result",
          "data": {
            "text/plain": [
              "[0.1329048126935959, 0.1329048126935959]"
            ]
          },
          "metadata": {
            "tags": []
          },
          "execution_count": 46
        }
      ]
    },
    {
      "cell_type": "code",
      "metadata": {
        "colab": {
          "base_uri": "https://localhost:8080/"
        },
        "id": "Gn3Mm1odljBX",
        "outputId": "961bdc07-37ba-4589-b48a-0c146f3d116f"
      },
      "source": [
        "y_pred = tf.squeeze(y_pre)\n",
        "y_pred"
      ],
      "execution_count": 47,
      "outputs": [
        {
          "output_type": "execute_result",
          "data": {
            "text/plain": [
              "<tf.Tensor: shape=(10,), dtype=float32, numpy=\n",
              "array([ 69.88524 ,  73.8812  ,  77.877174,  81.87314 ,  85.86911 ,\n",
              "        89.86508 ,  93.86105 ,  97.85702 , 101.85298 , 105.84895 ],\n",
              "      dtype=float32)>"
            ]
          },
          "metadata": {
            "tags": []
          },
          "execution_count": 47
        }
      ]
    },
    {
      "cell_type": "code",
      "metadata": {
        "colab": {
          "base_uri": "https://localhost:8080/"
        },
        "id": "JQMtr_ZBl-Zg",
        "outputId": "079bf0ba-e764-4a31-a771-3f453737dc46"
      },
      "source": [
        "#mse\n",
        "tf.metrics.mse(y_test,y_pred)"
      ],
      "execution_count": 48,
      "outputs": [
        {
          "output_type": "execute_result",
          "data": {
            "text/plain": [
              "<tf.Tensor: shape=(), dtype=float32, numpy=0.017797772>"
            ]
          },
          "metadata": {
            "tags": []
          },
          "execution_count": 48
        }
      ]
    },
    {
      "cell_type": "code",
      "metadata": {
        "id": "jSrAHLHOmIYG"
      },
      "source": [
        "def mae(y_true=y_test,y_pred=y_pre):\n",
        "  return tf.keras.losses.mae(y_test,tf.squeeze(y_pred))\n",
        "def mse(y_true=y_test,y_pred=y_pre):\n",
        "  return tf.keras.losses.mse(y_true,tf.squeeze(y_pred))\n"
      ],
      "execution_count": 49,
      "outputs": []
    },
    {
      "cell_type": "code",
      "metadata": {
        "colab": {
          "base_uri": "https://localhost:8080/"
        },
        "id": "noUG9s7Tgu9Z",
        "outputId": "7a007d40-5eec-4c34-b65b-0a226d8da60c"
      },
      "source": [
        "model.get_weights()"
      ],
      "execution_count": 50,
      "outputs": [
        {
          "output_type": "execute_result",
          "data": {
            "text/plain": [
              "[array([[ 0.29051408, -0.07806831, -0.13072821, -0.10556883, -0.5848673 ,\n",
              "          0.33197257,  0.41538417,  0.6025726 , -0.4466796 , -0.15487285]],\n",
              "       dtype=float32),\n",
              " array([ 1.6134678, -1.9148678,  1.6536378, -1.6809827,  1.6211485,\n",
              "         1.5861981,  1.5777348,  1.5769321, -1.5968705, -2.1621118],\n",
              "       dtype=float32),\n",
              " array([[ 0.44443163],\n",
              "        [-0.33748525],\n",
              "        [ 0.7586585 ],\n",
              "        [-0.6823551 ],\n",
              "        [ 0.3156632 ],\n",
              "        [ 0.73757684],\n",
              "        [ 0.8010931 ],\n",
              "        [ 0.48802543],\n",
              "        [-0.3572505 ],\n",
              "        [-0.15516914]], dtype=float32),\n",
              " array([1.5596582], dtype=float32)]"
            ]
          },
          "metadata": {
            "tags": []
          },
          "execution_count": 50
        }
      ]
    },
    {
      "cell_type": "markdown",
      "metadata": {
        "id": "RsWhdPHFhRhj"
      },
      "source": [
        "###Running experiments to improve our model\n",
        "\n",
        "\n",
        "**model_1**"
      ]
    },
    {
      "cell_type": "code",
      "metadata": {
        "colab": {
          "base_uri": "https://localhost:8080/"
        },
        "id": "EUBfODrxmh6T",
        "outputId": "ea9c8926-9d57-41ea-f811-c828387461a6"
      },
      "source": [
        "tf.random.set_seed(42)\n",
        "#create the model\n",
        "model_1 = tf.keras.Sequential([\n",
        "                               tf.keras.layers.Dense(1)\n",
        "])\n",
        "#compile our model\n",
        "model.compile(loss=tf.keras.losses.mae,\n",
        "              optimizer=tf.keras.optimizers.SGD(),\n",
        "              metrics=[\"mae\"])\n",
        "#fitting the model\n",
        "model.fit(X_train,y_train,epochs=100)"
      ],
      "execution_count": 51,
      "outputs": [
        {
          "output_type": "stream",
          "text": [
            "Epoch 1/100\n",
            "2/2 [==============================] - 0s 9ms/step - loss: 9.3496 - mae: 9.3496\n",
            "Epoch 2/100\n",
            "2/2 [==============================] - 0s 7ms/step - loss: 28.7872 - mae: 28.7872\n",
            "Epoch 3/100\n",
            "2/2 [==============================] - 0s 7ms/step - loss: 31.2137 - mae: 31.2137\n",
            "Epoch 4/100\n",
            "2/2 [==============================] - 0s 7ms/step - loss: 17.3518 - mae: 17.3518\n",
            "Epoch 5/100\n",
            "2/2 [==============================] - 0s 7ms/step - loss: 20.5543 - mae: 20.5543\n",
            "Epoch 6/100\n",
            "2/2 [==============================] - 0s 7ms/step - loss: 21.3185 - mae: 21.3185\n",
            "Epoch 7/100\n",
            "2/2 [==============================] - 0s 8ms/step - loss: 16.0179 - mae: 16.0179\n",
            "Epoch 8/100\n",
            "2/2 [==============================] - 0s 7ms/step - loss: 15.3227 - mae: 15.3227\n",
            "Epoch 9/100\n",
            "2/2 [==============================] - 0s 7ms/step - loss: 28.0070 - mae: 28.0070\n",
            "Epoch 10/100\n",
            "2/2 [==============================] - 0s 8ms/step - loss: 14.4230 - mae: 14.4230\n",
            "Epoch 11/100\n",
            "2/2 [==============================] - 0s 4ms/step - loss: 13.6624 - mae: 13.6624\n",
            "Epoch 12/100\n",
            "2/2 [==============================] - 0s 7ms/step - loss: 24.6725 - mae: 24.6725\n",
            "Epoch 13/100\n",
            "2/2 [==============================] - 0s 8ms/step - loss: 18.7861 - mae: 18.7861\n",
            "Epoch 14/100\n",
            "2/2 [==============================] - 0s 10ms/step - loss: 17.6686 - mae: 17.6686\n",
            "Epoch 15/100\n",
            "2/2 [==============================] - 0s 8ms/step - loss: 8.5204 - mae: 8.5204\n",
            "Epoch 16/100\n",
            "2/2 [==============================] - 0s 10ms/step - loss: 10.1209 - mae: 10.1209\n",
            "Epoch 17/100\n",
            "2/2 [==============================] - 0s 7ms/step - loss: 16.6398 - mae: 16.6398\n",
            "Epoch 18/100\n",
            "2/2 [==============================] - 0s 10ms/step - loss: 24.5914 - mae: 24.5914\n",
            "Epoch 19/100\n",
            "2/2 [==============================] - 0s 8ms/step - loss: 9.2080 - mae: 9.2080\n",
            "Epoch 20/100\n",
            "2/2 [==============================] - 0s 7ms/step - loss: 12.1269 - mae: 12.1269\n",
            "Epoch 21/100\n",
            "2/2 [==============================] - 0s 5ms/step - loss: 18.5095 - mae: 18.5095\n",
            "Epoch 22/100\n",
            "2/2 [==============================] - 0s 6ms/step - loss: 35.0830 - mae: 35.0830\n",
            "Epoch 23/100\n",
            "2/2 [==============================] - 0s 11ms/step - loss: 4.3676 - mae: 4.3676\n",
            "Epoch 24/100\n",
            "2/2 [==============================] - 0s 9ms/step - loss: 11.8119 - mae: 11.8119\n",
            "Epoch 25/100\n",
            "2/2 [==============================] - 0s 6ms/step - loss: 9.4959 - mae: 9.4959\n",
            "Epoch 26/100\n",
            "2/2 [==============================] - 0s 17ms/step - loss: 21.8414 - mae: 21.8414\n",
            "Epoch 27/100\n",
            "2/2 [==============================] - 0s 8ms/step - loss: 24.0422 - mae: 24.0422\n",
            "Epoch 28/100\n",
            "2/2 [==============================] - 0s 9ms/step - loss: 16.9613 - mae: 16.9613\n",
            "Epoch 29/100\n",
            "2/2 [==============================] - 0s 9ms/step - loss: 11.3998 - mae: 11.3998\n",
            "Epoch 30/100\n",
            "2/2 [==============================] - 0s 6ms/step - loss: 29.5946 - mae: 29.5946\n",
            "Epoch 31/100\n",
            "2/2 [==============================] - 0s 6ms/step - loss: 10.8220 - mae: 10.8220\n",
            "Epoch 32/100\n",
            "2/2 [==============================] - 0s 8ms/step - loss: 12.0947 - mae: 12.0947\n",
            "Epoch 33/100\n",
            "2/2 [==============================] - 0s 6ms/step - loss: 15.2237 - mae: 15.2237\n",
            "Epoch 34/100\n",
            "2/2 [==============================] - 0s 7ms/step - loss: 22.0381 - mae: 22.0381\n",
            "Epoch 35/100\n",
            "2/2 [==============================] - 0s 6ms/step - loss: 18.5608 - mae: 18.5608\n",
            "Epoch 36/100\n",
            "2/2 [==============================] - 0s 6ms/step - loss: 5.4158 - mae: 5.4158\n",
            "Epoch 37/100\n",
            "2/2 [==============================] - 0s 7ms/step - loss: 6.7169 - mae: 6.7169\n",
            "Epoch 38/100\n",
            "2/2 [==============================] - 0s 6ms/step - loss: 11.7627 - mae: 11.7627\n",
            "Epoch 39/100\n",
            "2/2 [==============================] - 0s 7ms/step - loss: 11.9227 - mae: 11.9227\n",
            "Epoch 40/100\n",
            "2/2 [==============================] - 0s 7ms/step - loss: 16.1959 - mae: 16.1959\n",
            "Epoch 41/100\n",
            "2/2 [==============================] - 0s 7ms/step - loss: 16.9187 - mae: 16.9187\n",
            "Epoch 42/100\n",
            "2/2 [==============================] - 0s 6ms/step - loss: 8.1610 - mae: 8.1610\n",
            "Epoch 43/100\n",
            "2/2 [==============================] - 0s 5ms/step - loss: 13.6622 - mae: 13.6622\n",
            "Epoch 44/100\n",
            "2/2 [==============================] - 0s 8ms/step - loss: 28.2127 - mae: 28.2127\n",
            "Epoch 45/100\n",
            "2/2 [==============================] - 0s 6ms/step - loss: 8.0711 - mae: 8.0711\n",
            "Epoch 46/100\n",
            "2/2 [==============================] - 0s 5ms/step - loss: 3.6827 - mae: 3.6827\n",
            "Epoch 47/100\n",
            "2/2 [==============================] - 0s 6ms/step - loss: 10.4815 - mae: 10.4815\n",
            "Epoch 48/100\n",
            "2/2 [==============================] - 0s 7ms/step - loss: 13.7776 - mae: 13.7776\n",
            "Epoch 49/100\n",
            "2/2 [==============================] - 0s 6ms/step - loss: 15.5981 - mae: 15.5981\n",
            "Epoch 50/100\n",
            "2/2 [==============================] - 0s 7ms/step - loss: 17.4331 - mae: 17.4331\n",
            "Epoch 51/100\n",
            "2/2 [==============================] - 0s 6ms/step - loss: 8.7059 - mae: 8.7059\n",
            "Epoch 52/100\n",
            "2/2 [==============================] - 0s 5ms/step - loss: 15.8657 - mae: 15.8657\n",
            "Epoch 53/100\n",
            "2/2 [==============================] - 0s 8ms/step - loss: 4.3296 - mae: 4.3296\n",
            "Epoch 54/100\n",
            "2/2 [==============================] - 0s 6ms/step - loss: 33.0118 - mae: 33.0118\n",
            "Epoch 55/100\n",
            "2/2 [==============================] - 0s 9ms/step - loss: 31.4176 - mae: 31.4176\n",
            "Epoch 56/100\n",
            "2/2 [==============================] - 0s 6ms/step - loss: 9.2214 - mae: 9.2214\n",
            "Epoch 57/100\n",
            "2/2 [==============================] - 0s 8ms/step - loss: 8.4376 - mae: 8.4376\n",
            "Epoch 58/100\n",
            "2/2 [==============================] - 0s 6ms/step - loss: 12.8654 - mae: 12.8654\n",
            "Epoch 59/100\n",
            "2/2 [==============================] - 0s 8ms/step - loss: 15.1908 - mae: 15.1908\n",
            "Epoch 60/100\n",
            "2/2 [==============================] - 0s 7ms/step - loss: 17.3135 - mae: 17.3135\n",
            "Epoch 61/100\n",
            "2/2 [==============================] - 0s 7ms/step - loss: 15.4624 - mae: 15.4624\n",
            "Epoch 62/100\n",
            "2/2 [==============================] - 0s 6ms/step - loss: 20.3620 - mae: 20.3620\n",
            "Epoch 63/100\n",
            "2/2 [==============================] - 0s 7ms/step - loss: 26.6662 - mae: 26.6662\n",
            "Epoch 64/100\n",
            "2/2 [==============================] - 0s 6ms/step - loss: 7.7174 - mae: 7.7174\n",
            "Epoch 65/100\n",
            "2/2 [==============================] - 0s 4ms/step - loss: 4.6369 - mae: 4.6369\n",
            "Epoch 66/100\n",
            "2/2 [==============================] - 0s 6ms/step - loss: 22.3209 - mae: 22.3209\n",
            "Epoch 67/100\n",
            "2/2 [==============================] - 0s 6ms/step - loss: 7.4516 - mae: 7.4516\n",
            "Epoch 68/100\n",
            "2/2 [==============================] - 0s 7ms/step - loss: 9.4103 - mae: 9.4103\n",
            "Epoch 69/100\n",
            "2/2 [==============================] - 0s 8ms/step - loss: 15.6922 - mae: 15.6922\n",
            "Epoch 70/100\n",
            "2/2 [==============================] - 0s 9ms/step - loss: 14.3148 - mae: 14.3148\n",
            "Epoch 71/100\n",
            "2/2 [==============================] - 0s 15ms/step - loss: 21.8083 - mae: 21.8083\n",
            "Epoch 72/100\n",
            "2/2 [==============================] - 0s 17ms/step - loss: 25.3285 - mae: 25.3285\n",
            "Epoch 73/100\n",
            "2/2 [==============================] - 0s 6ms/step - loss: 7.5237 - mae: 7.5237\n",
            "Epoch 74/100\n",
            "2/2 [==============================] - 0s 8ms/step - loss: 23.6860 - mae: 23.6860\n",
            "Epoch 75/100\n",
            "2/2 [==============================] - 0s 11ms/step - loss: 8.2055 - mae: 8.2055\n",
            "Epoch 76/100\n",
            "2/2 [==============================] - 0s 8ms/step - loss: 17.4263 - mae: 17.4263\n",
            "Epoch 77/100\n",
            "2/2 [==============================] - 0s 6ms/step - loss: 35.7441 - mae: 35.7441\n",
            "Epoch 78/100\n",
            "2/2 [==============================] - 0s 7ms/step - loss: 15.6991 - mae: 15.6991\n",
            "Epoch 79/100\n",
            "2/2 [==============================] - 0s 7ms/step - loss: 10.5483 - mae: 10.5483\n",
            "Epoch 80/100\n",
            "2/2 [==============================] - 0s 6ms/step - loss: 10.5080 - mae: 10.5080\n",
            "Epoch 81/100\n",
            "2/2 [==============================] - 0s 6ms/step - loss: 6.8887 - mae: 6.8887\n",
            "Epoch 82/100\n",
            "2/2 [==============================] - 0s 6ms/step - loss: 15.5127 - mae: 15.5127\n",
            "Epoch 83/100\n",
            "2/2 [==============================] - 0s 6ms/step - loss: 12.0076 - mae: 12.0076\n",
            "Epoch 84/100\n",
            "2/2 [==============================] - 0s 7ms/step - loss: 10.7027 - mae: 10.7027\n",
            "Epoch 85/100\n",
            "2/2 [==============================] - 0s 6ms/step - loss: 25.1263 - mae: 25.1263\n",
            "Epoch 86/100\n",
            "2/2 [==============================] - 0s 8ms/step - loss: 17.5218 - mae: 17.5218\n",
            "Epoch 87/100\n",
            "2/2 [==============================] - 0s 7ms/step - loss: 4.4868 - mae: 4.4868\n",
            "Epoch 88/100\n",
            "2/2 [==============================] - 0s 5ms/step - loss: 27.3535 - mae: 27.3535\n",
            "Epoch 89/100\n",
            "2/2 [==============================] - 0s 5ms/step - loss: 10.0214 - mae: 10.0214\n",
            "Epoch 90/100\n",
            "2/2 [==============================] - 0s 11ms/step - loss: 8.3174 - mae: 8.3174\n",
            "Epoch 91/100\n",
            "2/2 [==============================] - 0s 6ms/step - loss: 14.2545 - mae: 14.2545\n",
            "Epoch 92/100\n",
            "2/2 [==============================] - 0s 8ms/step - loss: 26.6040 - mae: 26.6040\n",
            "Epoch 93/100\n",
            "2/2 [==============================] - 0s 6ms/step - loss: 10.9828 - mae: 10.9828\n",
            "Epoch 94/100\n",
            "2/2 [==============================] - 0s 6ms/step - loss: 12.0632 - mae: 12.0632\n",
            "Epoch 95/100\n",
            "2/2 [==============================] - 0s 6ms/step - loss: 20.8110 - mae: 20.8110\n",
            "Epoch 96/100\n",
            "2/2 [==============================] - 0s 7ms/step - loss: 25.3637 - mae: 25.3637\n",
            "Epoch 97/100\n",
            "2/2 [==============================] - 0s 6ms/step - loss: 15.1953 - mae: 15.1953\n",
            "Epoch 98/100\n",
            "2/2 [==============================] - 0s 7ms/step - loss: 11.7278 - mae: 11.7278\n",
            "Epoch 99/100\n",
            "2/2 [==============================] - 0s 9ms/step - loss: 15.3269 - mae: 15.3269\n",
            "Epoch 100/100\n",
            "2/2 [==============================] - 0s 7ms/step - loss: 15.4713 - mae: 15.4713\n"
          ],
          "name": "stdout"
        },
        {
          "output_type": "execute_result",
          "data": {
            "text/plain": [
              "<tensorflow.python.keras.callbacks.History at 0x7f478e08e790>"
            ]
          },
          "metadata": {
            "tags": []
          },
          "execution_count": 51
        }
      ]
    },
    {
      "cell_type": "code",
      "metadata": {
        "id": "a88H97s9ox-w"
      },
      "source": [
        "y_pred_1 = model.predict(X_test)"
      ],
      "execution_count": 52,
      "outputs": []
    },
    {
      "cell_type": "code",
      "metadata": {
        "colab": {
          "base_uri": "https://localhost:8080/",
          "height": 374
        },
        "id": "wPYIQjymo9eW",
        "outputId": "3abe558d-e627-482a-cecb-a41eb797030e"
      },
      "source": [
        "ploty(X_train,X_test,y_train,y_test,y_pred_1)"
      ],
      "execution_count": 53,
      "outputs": [
        {
          "output_type": "display_data",
          "data": {
            "image/png": "[encoded data removed]",
            "text/plain": [
              "<Figure size 576x432 with 1 Axes>"
            ]
          },
          "metadata": {
            "tags": [],
            "needs_background": "light"
          }
        }
      ]
    },
    {
      "cell_type": "code",
      "metadata": {
        "id": "iBUn8DcCpHwQ"
      },
      "source": [
        "mae_1 = mae(y_pred=y_pred_1)"
      ],
      "execution_count": 54,
      "outputs": []
    },
    {
      "cell_type": "code",
      "metadata": {
        "id": "O5JsozJ_pQK0"
      },
      "source": [
        "mse_1 = mse(y_pred=y_pred_1)"
      ],
      "execution_count": 55,
      "outputs": []
    },
    {
      "cell_type": "markdown",
      "metadata": {
        "id": "zBholp4ApXZQ"
      },
      "source": [
        "**model_2**"
      ]
    },
    {
      "cell_type": "code",
      "metadata": {
        "colab": {
          "base_uri": "https://localhost:8080/"
        },
        "id": "Xphj87yGpnEO",
        "outputId": "9f104e45-db10-4e7a-d1b0-5e1c1669cc2f"
      },
      "source": [
        "tf.random.set_seed(42)\n",
        "#create the model\n",
        "model_2 = tf.keras.Sequential([\n",
        "                               tf.keras.layers.Dense(100),\n",
        "                               tf.keras.layers.Dense(1)\n",
        "])\n",
        "#create compile\n",
        "model_2.compile(loss=tf.keras.losses.mae,\n",
        "                optimizer = tf.keras.optimizers.SGD(),\n",
        "                metrics=[\"mae\"])\n",
        "#fit the model\n",
        "model_2.fit(X_train,y_train,epochs=100)"
      ],
      "execution_count": 56,
      "outputs": [
        {
          "output_type": "stream",
          "text": [
            "Epoch 1/100\n",
            "2/2 [==============================] - 0s 9ms/step - loss: 36.0963 - mae: 36.0963\n",
            "Epoch 2/100\n",
            "2/2 [==============================] - 0s 6ms/step - loss: 28.7401 - mae: 28.7401\n",
            "Epoch 3/100\n",
            "2/2 [==============================] - 0s 8ms/step - loss: 33.2070 - mae: 33.2070\n",
            "Epoch 4/100\n",
            "2/2 [==============================] - 0s 7ms/step - loss: 30.5341 - mae: 30.5341\n",
            "Epoch 5/100\n",
            "2/2 [==============================] - 0s 9ms/step - loss: 15.5505 - mae: 15.5505\n",
            "Epoch 6/100\n",
            "2/2 [==============================] - 0s 8ms/step - loss: 12.3355 - mae: 12.3355\n",
            "Epoch 7/100\n",
            "2/2 [==============================] - 0s 7ms/step - loss: 11.6147 - mae: 11.6147\n",
            "Epoch 8/100\n",
            "2/2 [==============================] - 0s 8ms/step - loss: 11.2547 - mae: 11.2547\n",
            "Epoch 9/100\n",
            "2/2 [==============================] - 0s 7ms/step - loss: 42.3778 - mae: 42.3778\n",
            "Epoch 10/100\n",
            "2/2 [==============================] - 0s 11ms/step - loss: 29.5266 - mae: 29.5266\n",
            "Epoch 11/100\n",
            "2/2 [==============================] - 0s 8ms/step - loss: 7.7261 - mae: 7.7261\n",
            "Epoch 12/100\n",
            "2/2 [==============================] - 0s 7ms/step - loss: 28.5424 - mae: 28.5424\n",
            "Epoch 13/100\n",
            "2/2 [==============================] - 0s 10ms/step - loss: 11.5152 - mae: 11.5152\n",
            "Epoch 14/100\n",
            "2/2 [==============================] - 0s 7ms/step - loss: 30.3047 - mae: 30.3047\n",
            "Epoch 15/100\n",
            "2/2 [==============================] - 0s 5ms/step - loss: 20.0565 - mae: 20.0565\n",
            "Epoch 16/100\n",
            "2/2 [==============================] - 0s 8ms/step - loss: 9.9328 - mae: 9.9328\n",
            "Epoch 17/100\n",
            "2/2 [==============================] - 0s 8ms/step - loss: 17.8815 - mae: 17.8815\n",
            "Epoch 18/100\n",
            "2/2 [==============================] - 0s 7ms/step - loss: 14.3561 - mae: 14.3561\n",
            "Epoch 19/100\n",
            "2/2 [==============================] - 0s 5ms/step - loss: 14.4636 - mae: 14.4636\n",
            "Epoch 20/100\n",
            "2/2 [==============================] - 0s 9ms/step - loss: 10.4766 - mae: 10.4766\n",
            "Epoch 21/100\n",
            "2/2 [==============================] - 0s 9ms/step - loss: 15.2397 - mae: 15.2397\n",
            "Epoch 22/100\n",
            "2/2 [==============================] - 0s 9ms/step - loss: 15.5822 - mae: 15.5822\n",
            "Epoch 23/100\n",
            "2/2 [==============================] - 0s 9ms/step - loss: 9.2367 - mae: 9.2367\n",
            "Epoch 24/100\n",
            "2/2 [==============================] - 0s 8ms/step - loss: 17.2403 - mae: 17.2403\n",
            "Epoch 25/100\n",
            "2/2 [==============================] - 0s 7ms/step - loss: 15.9221 - mae: 15.9221\n",
            "Epoch 26/100\n",
            "2/2 [==============================] - 0s 7ms/step - loss: 20.8897 - mae: 20.8897\n",
            "Epoch 27/100\n",
            "2/2 [==============================] - 0s 8ms/step - loss: 26.0552 - mae: 26.0552\n",
            "Epoch 28/100\n",
            "2/2 [==============================] - 0s 7ms/step - loss: 18.5412 - mae: 18.5412\n",
            "Epoch 29/100\n",
            "2/2 [==============================] - 0s 7ms/step - loss: 9.2471 - mae: 9.2471\n",
            "Epoch 30/100\n",
            "2/2 [==============================] - 0s 7ms/step - loss: 29.1607 - mae: 29.1607\n",
            "Epoch 31/100\n",
            "2/2 [==============================] - 0s 8ms/step - loss: 52.8241 - mae: 52.8241\n",
            "Epoch 32/100\n",
            "2/2 [==============================] - 0s 7ms/step - loss: 11.9582 - mae: 11.9582\n",
            "Epoch 33/100\n",
            "2/2 [==============================] - 0s 5ms/step - loss: 15.5699 - mae: 15.5699\n",
            "Epoch 34/100\n",
            "2/2 [==============================] - 0s 10ms/step - loss: 12.6486 - mae: 12.6486\n",
            "Epoch 35/100\n",
            "2/2 [==============================] - 0s 8ms/step - loss: 9.2216 - mae: 9.2216\n",
            "Epoch 36/100\n",
            "2/2 [==============================] - 0s 5ms/step - loss: 16.5660 - mae: 16.5660\n",
            "Epoch 37/100\n",
            "2/2 [==============================] - 0s 9ms/step - loss: 11.0633 - mae: 11.0633\n",
            "Epoch 38/100\n",
            "2/2 [==============================] - 0s 10ms/step - loss: 18.1905 - mae: 18.1905\n",
            "Epoch 39/100\n",
            "2/2 [==============================] - 0s 12ms/step - loss: 19.1255 - mae: 19.1255\n",
            "Epoch 40/100\n",
            "2/2 [==============================] - 0s 7ms/step - loss: 20.4755 - mae: 20.4755\n",
            "Epoch 41/100\n",
            "2/2 [==============================] - 0s 11ms/step - loss: 14.8601 - mae: 14.8601\n",
            "Epoch 42/100\n",
            "2/2 [==============================] - 0s 8ms/step - loss: 12.2435 - mae: 12.2435\n",
            "Epoch 43/100\n",
            "2/2 [==============================] - 0s 10ms/step - loss: 10.7142 - mae: 10.7142\n",
            "Epoch 44/100\n",
            "2/2 [==============================] - 0s 13ms/step - loss: 22.9105 - mae: 22.9105\n",
            "Epoch 45/100\n",
            "2/2 [==============================] - 0s 8ms/step - loss: 10.3591 - mae: 10.3591\n",
            "Epoch 46/100\n",
            "2/2 [==============================] - 0s 9ms/step - loss: 11.7430 - mae: 11.7430\n",
            "Epoch 47/100\n",
            "2/2 [==============================] - 0s 12ms/step - loss: 9.6661 - mae: 9.6661\n",
            "Epoch 48/100\n",
            "2/2 [==============================] - 0s 8ms/step - loss: 17.2796 - mae: 17.2796\n",
            "Epoch 49/100\n",
            "2/2 [==============================] - 0s 6ms/step - loss: 9.5457 - mae: 9.5457\n",
            "Epoch 50/100\n",
            "2/2 [==============================] - 0s 10ms/step - loss: 13.7675 - mae: 13.7675\n",
            "Epoch 51/100\n",
            "2/2 [==============================] - 0s 8ms/step - loss: 11.5782 - mae: 11.5782\n",
            "Epoch 52/100\n",
            "2/2 [==============================] - 0s 11ms/step - loss: 30.4150 - mae: 30.4150\n",
            "Epoch 53/100\n",
            "2/2 [==============================] - 0s 9ms/step - loss: 14.2947 - mae: 14.2947\n",
            "Epoch 54/100\n",
            "2/2 [==============================] - 0s 6ms/step - loss: 23.6385 - mae: 23.6385\n",
            "Epoch 55/100\n",
            "2/2 [==============================] - 0s 18ms/step - loss: 24.5678 - mae: 24.5678\n",
            "Epoch 56/100\n",
            "2/2 [==============================] - 0s 8ms/step - loss: 11.3286 - mae: 11.3286\n",
            "Epoch 57/100\n",
            "2/2 [==============================] - 0s 7ms/step - loss: 13.3457 - mae: 13.3457\n",
            "Epoch 58/100\n",
            "2/2 [==============================] - 0s 7ms/step - loss: 9.9386 - mae: 9.9386\n",
            "Epoch 59/100\n",
            "2/2 [==============================] - 0s 7ms/step - loss: 13.9017 - mae: 13.9017\n",
            "Epoch 60/100\n",
            "2/2 [==============================] - 0s 9ms/step - loss: 9.9821 - mae: 9.9821\n",
            "Epoch 61/100\n",
            "2/2 [==============================] - 0s 8ms/step - loss: 14.9607 - mae: 14.9607\n",
            "Epoch 62/100\n",
            "2/2 [==============================] - 0s 7ms/step - loss: 11.9163 - mae: 11.9163\n",
            "Epoch 63/100\n",
            "2/2 [==============================] - 0s 5ms/step - loss: 10.2802 - mae: 10.2802\n",
            "Epoch 64/100\n",
            "2/2 [==============================] - 0s 9ms/step - loss: 23.8796 - mae: 23.8796\n",
            "Epoch 65/100\n",
            "2/2 [==============================] - 0s 8ms/step - loss: 10.4570 - mae: 10.4570\n",
            "Epoch 66/100\n",
            "2/2 [==============================] - 0s 6ms/step - loss: 20.9281 - mae: 20.9281\n",
            "Epoch 67/100\n",
            "2/2 [==============================] - 0s 8ms/step - loss: 10.4360 - mae: 10.4360\n",
            "Epoch 68/100\n",
            "2/2 [==============================] - 0s 5ms/step - loss: 14.1740 - mae: 14.1740\n",
            "Epoch 69/100\n",
            "2/2 [==============================] - 0s 5ms/step - loss: 10.5085 - mae: 10.5085\n",
            "Epoch 70/100\n",
            "2/2 [==============================] - 0s 10ms/step - loss: 12.5800 - mae: 12.5800\n",
            "Epoch 71/100\n",
            "2/2 [==============================] - 0s 12ms/step - loss: 13.0114 - mae: 13.0114\n",
            "Epoch 72/100\n",
            "2/2 [==============================] - 0s 9ms/step - loss: 19.3658 - mae: 19.3658\n",
            "Epoch 73/100\n",
            "2/2 [==============================] - 0s 7ms/step - loss: 11.1257 - mae: 11.1257\n",
            "Epoch 74/100\n",
            "2/2 [==============================] - 0s 9ms/step - loss: 21.6094 - mae: 21.6094\n",
            "Epoch 75/100\n",
            "2/2 [==============================] - 0s 7ms/step - loss: 7.2224 - mae: 7.2224\n",
            "Epoch 76/100\n",
            "2/2 [==============================] - 0s 8ms/step - loss: 9.4544 - mae: 9.4544\n",
            "Epoch 77/100\n",
            "2/2 [==============================] - 0s 9ms/step - loss: 22.1672 - mae: 22.1672\n",
            "Epoch 78/100\n",
            "2/2 [==============================] - 0s 9ms/step - loss: 17.4700 - mae: 17.4700\n",
            "Epoch 79/100\n",
            "2/2 [==============================] - 0s 7ms/step - loss: 14.7073 - mae: 14.7073\n",
            "Epoch 80/100\n",
            "2/2 [==============================] - 0s 8ms/step - loss: 24.8778 - mae: 24.8778\n",
            "Epoch 81/100\n",
            "2/2 [==============================] - 0s 8ms/step - loss: 10.7835 - mae: 10.7835\n",
            "Epoch 82/100\n",
            "2/2 [==============================] - 0s 8ms/step - loss: 12.8246 - mae: 12.8246\n",
            "Epoch 83/100\n",
            "2/2 [==============================] - 0s 11ms/step - loss: 17.6222 - mae: 17.6222\n",
            "Epoch 84/100\n",
            "2/2 [==============================] - 0s 6ms/step - loss: 7.2967 - mae: 7.2967\n",
            "Epoch 85/100\n",
            "2/2 [==============================] - 0s 9ms/step - loss: 15.1140 - mae: 15.1140\n",
            "Epoch 86/100\n",
            "2/2 [==============================] - 0s 7ms/step - loss: 15.4042 - mae: 15.4042\n",
            "Epoch 87/100\n",
            "2/2 [==============================] - 0s 8ms/step - loss: 19.3471 - mae: 19.3471\n",
            "Epoch 88/100\n",
            "2/2 [==============================] - 0s 7ms/step - loss: 29.1969 - mae: 29.1969\n",
            "Epoch 89/100\n",
            "2/2 [==============================] - 0s 4ms/step - loss: 10.0793 - mae: 10.0793\n",
            "Epoch 90/100\n",
            "2/2 [==============================] - 0s 9ms/step - loss: 21.0153 - mae: 21.0153\n",
            "Epoch 91/100\n",
            "2/2 [==============================] - 0s 9ms/step - loss: 10.4465 - mae: 10.4465\n",
            "Epoch 92/100\n",
            "2/2 [==============================] - 0s 6ms/step - loss: 17.9444 - mae: 17.9444\n",
            "Epoch 93/100\n",
            "2/2 [==============================] - 0s 12ms/step - loss: 6.5490 - mae: 6.5490\n",
            "Epoch 94/100\n",
            "2/2 [==============================] - 0s 10ms/step - loss: 11.1056 - mae: 11.1056\n",
            "Epoch 95/100\n",
            "2/2 [==============================] - 0s 8ms/step - loss: 24.3361 - mae: 24.3361\n",
            "Epoch 96/100\n",
            "2/2 [==============================] - 0s 9ms/step - loss: 10.7118 - mae: 10.7118\n",
            "Epoch 97/100\n",
            "2/2 [==============================] - 0s 8ms/step - loss: 15.3348 - mae: 15.3348\n",
            "Epoch 98/100\n",
            "2/2 [==============================] - 0s 7ms/step - loss: 8.2338 - mae: 8.2338\n",
            "Epoch 99/100\n",
            "2/2 [==============================] - 0s 7ms/step - loss: 16.5159 - mae: 16.5159\n",
            "Epoch 100/100\n",
            "2/2 [==============================] - 0s 10ms/step - loss: 14.2930 - mae: 14.2930\n"
          ],
          "name": "stdout"
        },
        {
          "output_type": "execute_result",
          "data": {
            "text/plain": [
              "<tensorflow.python.keras.callbacks.History at 0x7f47908a9a90>"
            ]
          },
          "metadata": {
            "tags": []
          },
          "execution_count": 56
        }
      ]
    },
    {
      "cell_type": "code",
      "metadata": {
        "id": "lHKA2ZTJsT7F",
        "colab": {
          "base_uri": "https://localhost:8080/"
        },
        "outputId": "faf292b4-eecc-4ba5-923f-1fc218711aad"
      },
      "source": [
        "y_pred_2 = model_2.predict(X_test)"
      ],
      "execution_count": 57,
      "outputs": [
        {
          "output_type": "stream",
          "text": [
            "WARNING:tensorflow:5 out of the last 8 calls to <function Model.make_predict_function.<locals>.predict_function at 0x7f47907fc3b0> triggered tf.function retracing. Tracing is expensive and the excessive number of tracings could be due to (1) creating @tf.function repeatedly in a loop, (2) passing tensors with different shapes, (3) passing Python objects instead of tensors. For (1), please define your @tf.function outside of the loop. For (2), @tf.function has experimental_relax_shapes=True option that relaxes argument shapes that can avoid unnecessary retracing. For (3), please refer to https://www.tensorflow.org/guide/function#controlling_retracing and https://www.tensorflow.org/api_docs/python/tf/function for  more details.\n"
          ],
          "name": "stdout"
        }
      ]
    },
    {
      "cell_type": "code",
      "metadata": {
        "colab": {
          "base_uri": "https://localhost:8080/",
          "height": 374
        },
        "id": "qQeOL6yCsFbM",
        "outputId": "3c811ee2-804c-4c15-a9f1-2b8a91de6b69"
      },
      "source": [
        "ploty(X_train,X_test,y_train,y_test,y_pred_2)"
      ],
      "execution_count": 58,
      "outputs": [
        {
          "output_type": "display_data",
          "data": {
            "image/png": "[encoded data removed]",
            "text/plain": [
              "<Figure size 576x432 with 1 Axes>"
            ]
          },
          "metadata": {
            "tags": [],
            "needs_background": "light"
          }
        }
      ]
    },
    {
      "cell_type": "code",
      "metadata": {
        "id": "xa3AFKLTs3x1"
      },
      "source": [
        "mae_2 = mae(y_pred=y_pred_2)"
      ],
      "execution_count": 59,
      "outputs": []
    },
    {
      "cell_type": "code",
      "metadata": {
        "id": "hZm4ShaTtSuB"
      },
      "source": [
        "mse_2 = mse(y_pred=y_pred_2)"
      ],
      "execution_count": 60,
      "outputs": []
    },
    {
      "cell_type": "markdown",
      "metadata": {
        "id": "6JGJp0vEtXIU"
      },
      "source": [
        "**model_3**"
      ]
    },
    {
      "cell_type": "code",
      "metadata": {
        "colab": {
          "base_uri": "https://localhost:8080/"
        },
        "id": "LcxoqoKqtdFl",
        "outputId": "ac411c8d-2550-4a74-fd6f-26e11cd29501"
      },
      "source": [
        "tf.random.set_seed(42)\n",
        "#create model\n",
        "model_3 = tf.keras.Sequential([\n",
        "                               tf.keras.layers.Dense(10),\n",
        "                               tf.keras.layers.Dense(1)\n",
        "])\n",
        "#compile\n",
        "model_3.compile(loss= tf.keras.losses.mae,\n",
        "                optimizer = tf.keras.optimizers.Adam(),\n",
        "                metrics=[\"mae\"])\n",
        "#fit\n",
        "model_3.fit(X_train,y_train,epochs=500)"
      ],
      "execution_count": 61,
      "outputs": [
        {
          "output_type": "stream",
          "text": [
            "Epoch 1/500\n",
            "2/2 [==============================] - 0s 7ms/step - loss: 25.2218 - mae: 25.2218\n",
            "Epoch 2/500\n",
            "2/2 [==============================] - 0s 9ms/step - loss: 24.6513 - mae: 24.6513\n",
            "Epoch 3/500\n",
            "2/2 [==============================] - 0s 8ms/step - loss: 24.0944 - mae: 24.0944\n",
            "Epoch 4/500\n",
            "2/2 [==============================] - 0s 9ms/step - loss: 23.5271 - mae: 23.5271\n",
            "Epoch 5/500\n",
            "2/2 [==============================] - 0s 8ms/step - loss: 22.9716 - mae: 22.9716\n",
            "Epoch 6/500\n",
            "2/2 [==============================] - 0s 9ms/step - loss: 22.4128 - mae: 22.4128\n",
            "Epoch 7/500\n",
            "2/2 [==============================] - 0s 8ms/step - loss: 21.8393 - mae: 21.8393\n",
            "Epoch 8/500\n",
            "2/2 [==============================] - 0s 7ms/step - loss: 21.2489 - mae: 21.2489\n",
            "Epoch 9/500\n",
            "2/2 [==============================] - 0s 7ms/step - loss: 20.6952 - mae: 20.6952\n",
            "Epoch 10/500\n",
            "2/2 [==============================] - 0s 6ms/step - loss: 20.1396 - mae: 20.1396\n",
            "Epoch 11/500\n",
            "2/2 [==============================] - 0s 7ms/step - loss: 19.5480 - mae: 19.5480\n",
            "Epoch 12/500\n",
            "2/2 [==============================] - 0s 10ms/step - loss: 18.9956 - mae: 18.9956\n",
            "Epoch 13/500\n",
            "2/2 [==============================] - 0s 5ms/step - loss: 18.4113 - mae: 18.4113\n",
            "Epoch 14/500\n",
            "2/2 [==============================] - 0s 12ms/step - loss: 17.8608 - mae: 17.8608\n",
            "Epoch 15/500\n",
            "2/2 [==============================] - 0s 5ms/step - loss: 17.2987 - mae: 17.2987\n",
            "Epoch 16/500\n",
            "2/2 [==============================] - 0s 6ms/step - loss: 16.7161 - mae: 16.7161\n",
            "Epoch 17/500\n",
            "2/2 [==============================] - 0s 7ms/step - loss: 16.1580 - mae: 16.1580\n",
            "Epoch 18/500\n",
            "2/2 [==============================] - 0s 7ms/step - loss: 15.6116 - mae: 15.6116\n",
            "Epoch 19/500\n",
            "2/2 [==============================] - 0s 6ms/step - loss: 15.0771 - mae: 15.0771\n",
            "Epoch 20/500\n",
            "2/2 [==============================] - 0s 6ms/step - loss: 14.5065 - mae: 14.5065\n",
            "Epoch 21/500\n",
            "2/2 [==============================] - 0s 7ms/step - loss: 13.9761 - mae: 13.9761\n",
            "Epoch 22/500\n",
            "2/2 [==============================] - 0s 7ms/step - loss: 13.4815 - mae: 13.4815\n",
            "Epoch 23/500\n",
            "2/2 [==============================] - 0s 6ms/step - loss: 12.9513 - mae: 12.9513\n",
            "Epoch 24/500\n",
            "2/2 [==============================] - 0s 10ms/step - loss: 12.4352 - mae: 12.4352\n",
            "Epoch 25/500\n",
            "2/2 [==============================] - 0s 6ms/step - loss: 11.9474 - mae: 11.9474\n",
            "Epoch 26/500\n",
            "2/2 [==============================] - 0s 5ms/step - loss: 11.4582 - mae: 11.4582\n",
            "Epoch 27/500\n",
            "2/2 [==============================] - 0s 7ms/step - loss: 10.9797 - mae: 10.9797\n",
            "Epoch 28/500\n",
            "2/2 [==============================] - 0s 7ms/step - loss: 10.5394 - mae: 10.5394\n",
            "Epoch 29/500\n",
            "2/2 [==============================] - 0s 14ms/step - loss: 10.0418 - mae: 10.0418\n",
            "Epoch 30/500\n",
            "2/2 [==============================] - 0s 7ms/step - loss: 9.5945 - mae: 9.5945\n",
            "Epoch 31/500\n",
            "2/2 [==============================] - 0s 9ms/step - loss: 9.2531 - mae: 9.2531\n",
            "Epoch 32/500\n",
            "2/2 [==============================] - 0s 10ms/step - loss: 8.8525 - mae: 8.8525\n",
            "Epoch 33/500\n",
            "2/2 [==============================] - 0s 8ms/step - loss: 8.5017 - mae: 8.5017\n",
            "Epoch 34/500\n",
            "2/2 [==============================] - 0s 10ms/step - loss: 8.2436 - mae: 8.2436\n",
            "Epoch 35/500\n",
            "2/2 [==============================] - 0s 8ms/step - loss: 8.0158 - mae: 8.0158\n",
            "Epoch 36/500\n",
            "2/2 [==============================] - 0s 9ms/step - loss: 7.8178 - mae: 7.8178\n",
            "Epoch 37/500\n",
            "2/2 [==============================] - 0s 8ms/step - loss: 7.7178 - mae: 7.7178\n",
            "Epoch 38/500\n",
            "2/2 [==============================] - 0s 6ms/step - loss: 7.6218 - mae: 7.6218\n",
            "Epoch 39/500\n",
            "2/2 [==============================] - 0s 8ms/step - loss: 7.6000 - mae: 7.6000\n",
            "Epoch 40/500\n",
            "2/2 [==============================] - 0s 8ms/step - loss: 7.5861 - mae: 7.5861\n",
            "Epoch 41/500\n",
            "2/2 [==============================] - 0s 7ms/step - loss: 7.5887 - mae: 7.5887\n",
            "Epoch 42/500\n",
            "2/2 [==============================] - 0s 9ms/step - loss: 7.6054 - mae: 7.6054\n",
            "Epoch 43/500\n",
            "2/2 [==============================] - 0s 7ms/step - loss: 7.6066 - mae: 7.6066\n",
            "Epoch 44/500\n",
            "2/2 [==============================] - 0s 14ms/step - loss: 7.5928 - mae: 7.5928\n",
            "Epoch 45/500\n",
            "2/2 [==============================] - 0s 7ms/step - loss: 7.5659 - mae: 7.5659\n",
            "Epoch 46/500\n",
            "2/2 [==============================] - 0s 7ms/step - loss: 7.5358 - mae: 7.5358\n",
            "Epoch 47/500\n",
            "2/2 [==============================] - 0s 11ms/step - loss: 7.5055 - mae: 7.5055\n",
            "Epoch 48/500\n",
            "2/2 [==============================] - 0s 8ms/step - loss: 7.4868 - mae: 7.4868\n",
            "Epoch 49/500\n",
            "2/2 [==============================] - 0s 7ms/step - loss: 7.4682 - mae: 7.4682\n",
            "Epoch 50/500\n",
            "2/2 [==============================] - 0s 8ms/step - loss: 7.4653 - mae: 7.4653\n",
            "Epoch 51/500\n",
            "2/2 [==============================] - 0s 9ms/step - loss: 7.4759 - mae: 7.4759\n",
            "Epoch 52/500\n",
            "2/2 [==============================] - 0s 7ms/step - loss: 7.4641 - mae: 7.4641\n",
            "Epoch 53/500\n",
            "2/2 [==============================] - 0s 7ms/step - loss: 7.4570 - mae: 7.4570\n",
            "Epoch 54/500\n",
            "2/2 [==============================] - 0s 22ms/step - loss: 7.4518 - mae: 7.4518\n",
            "Epoch 55/500\n",
            "2/2 [==============================] - 0s 7ms/step - loss: 7.4462 - mae: 7.4462\n",
            "Epoch 56/500\n",
            "2/2 [==============================] - 0s 11ms/step - loss: 7.4341 - mae: 7.4341\n",
            "Epoch 57/500\n",
            "2/2 [==============================] - 0s 6ms/step - loss: 7.4164 - mae: 7.4164\n",
            "Epoch 58/500\n",
            "2/2 [==============================] - 0s 7ms/step - loss: 7.3965 - mae: 7.3965\n",
            "Epoch 59/500\n",
            "2/2 [==============================] - 0s 7ms/step - loss: 7.3800 - mae: 7.3800\n",
            "Epoch 60/500\n",
            "2/2 [==============================] - 0s 9ms/step - loss: 7.3653 - mae: 7.3653\n",
            "Epoch 61/500\n",
            "2/2 [==============================] - 0s 7ms/step - loss: 7.3568 - mae: 7.3568\n",
            "Epoch 62/500\n",
            "2/2 [==============================] - 0s 6ms/step - loss: 7.3424 - mae: 7.3424\n",
            "Epoch 63/500\n",
            "2/2 [==============================] - 0s 6ms/step - loss: 7.3369 - mae: 7.3369\n",
            "Epoch 64/500\n",
            "2/2 [==============================] - 0s 6ms/step - loss: 7.3270 - mae: 7.3270\n",
            "Epoch 65/500\n",
            "2/2 [==============================] - 0s 5ms/step - loss: 7.3148 - mae: 7.3148\n",
            "Epoch 66/500\n",
            "2/2 [==============================] - 0s 6ms/step - loss: 7.3049 - mae: 7.3049\n",
            "Epoch 67/500\n",
            "2/2 [==============================] - 0s 6ms/step - loss: 7.2952 - mae: 7.2952\n",
            "Epoch 68/500\n",
            "2/2 [==============================] - 0s 7ms/step - loss: 7.2877 - mae: 7.2877\n",
            "Epoch 69/500\n",
            "2/2 [==============================] - 0s 7ms/step - loss: 7.2787 - mae: 7.2787\n",
            "Epoch 70/500\n",
            "2/2 [==============================] - 0s 7ms/step - loss: 7.2706 - mae: 7.2706\n",
            "Epoch 71/500\n",
            "2/2 [==============================] - 0s 7ms/step - loss: 7.2579 - mae: 7.2579\n",
            "Epoch 72/500\n",
            "2/2 [==============================] - 0s 7ms/step - loss: 7.2514 - mae: 7.2514\n",
            "Epoch 73/500\n",
            "2/2 [==============================] - 0s 7ms/step - loss: 7.2445 - mae: 7.2445\n",
            "Epoch 74/500\n",
            "2/2 [==============================] - 0s 7ms/step - loss: 7.2404 - mae: 7.2404\n",
            "Epoch 75/500\n",
            "2/2 [==============================] - 0s 6ms/step - loss: 7.2342 - mae: 7.2342\n",
            "Epoch 76/500\n",
            "2/2 [==============================] - 0s 7ms/step - loss: 7.2244 - mae: 7.2244\n",
            "Epoch 77/500\n",
            "2/2 [==============================] - 0s 7ms/step - loss: 7.2119 - mae: 7.2119\n",
            "Epoch 78/500\n",
            "2/2 [==============================] - 0s 7ms/step - loss: 7.1960 - mae: 7.1960\n",
            "Epoch 79/500\n",
            "2/2 [==============================] - 0s 6ms/step - loss: 7.1910 - mae: 7.1910\n",
            "Epoch 80/500\n",
            "2/2 [==============================] - 0s 6ms/step - loss: 7.1746 - mae: 7.1746\n",
            "Epoch 81/500\n",
            "2/2 [==============================] - 0s 4ms/step - loss: 7.1676 - mae: 7.1676\n",
            "Epoch 82/500\n",
            "2/2 [==============================] - 0s 8ms/step - loss: 7.1591 - mae: 7.1591\n",
            "Epoch 83/500\n",
            "2/2 [==============================] - 0s 6ms/step - loss: 7.1504 - mae: 7.1504\n",
            "Epoch 84/500\n",
            "2/2 [==============================] - 0s 7ms/step - loss: 7.1505 - mae: 7.1505\n",
            "Epoch 85/500\n",
            "2/2 [==============================] - 0s 7ms/step - loss: 7.1418 - mae: 7.1418\n",
            "Epoch 86/500\n",
            "2/2 [==============================] - 0s 7ms/step - loss: 7.1310 - mae: 7.1310\n",
            "Epoch 87/500\n",
            "2/2 [==============================] - 0s 10ms/step - loss: 7.1138 - mae: 7.1138\n",
            "Epoch 88/500\n",
            "2/2 [==============================] - 0s 7ms/step - loss: 7.1054 - mae: 7.1054\n",
            "Epoch 89/500\n",
            "2/2 [==============================] - 0s 11ms/step - loss: 7.0908 - mae: 7.0908\n",
            "Epoch 90/500\n",
            "2/2 [==============================] - 0s 6ms/step - loss: 7.0984 - mae: 7.0984\n",
            "Epoch 91/500\n",
            "2/2 [==============================] - 0s 7ms/step - loss: 7.0906 - mae: 7.0906\n",
            "Epoch 92/500\n",
            "2/2 [==============================] - 0s 9ms/step - loss: 7.0908 - mae: 7.0908\n",
            "Epoch 93/500\n",
            "2/2 [==============================] - 0s 8ms/step - loss: 7.0819 - mae: 7.0819\n",
            "Epoch 94/500\n",
            "2/2 [==============================] - 0s 8ms/step - loss: 7.0616 - mae: 7.0616\n",
            "Epoch 95/500\n",
            "2/2 [==============================] - 0s 8ms/step - loss: 7.0438 - mae: 7.0438\n",
            "Epoch 96/500\n",
            "2/2 [==============================] - 0s 9ms/step - loss: 7.0465 - mae: 7.0465\n",
            "Epoch 97/500\n",
            "2/2 [==============================] - 0s 7ms/step - loss: 7.0295 - mae: 7.0295\n",
            "Epoch 98/500\n",
            "2/2 [==============================] - 0s 8ms/step - loss: 7.0211 - mae: 7.0211\n",
            "Epoch 99/500\n",
            "2/2 [==============================] - 0s 8ms/step - loss: 7.0124 - mae: 7.0124\n",
            "Epoch 100/500\n",
            "2/2 [==============================] - 0s 6ms/step - loss: 7.0049 - mae: 7.0049\n",
            "Epoch 101/500\n",
            "2/2 [==============================] - 0s 7ms/step - loss: 6.9939 - mae: 6.9939\n",
            "Epoch 102/500\n",
            "2/2 [==============================] - 0s 6ms/step - loss: 6.9855 - mae: 6.9855\n",
            "Epoch 103/500\n",
            "2/2 [==============================] - 0s 8ms/step - loss: 6.9751 - mae: 6.9751\n",
            "Epoch 104/500\n",
            "2/2 [==============================] - 0s 7ms/step - loss: 6.9637 - mae: 6.9637\n",
            "Epoch 105/500\n",
            "2/2 [==============================] - 0s 7ms/step - loss: 6.9583 - mae: 6.9583\n",
            "Epoch 106/500\n",
            "2/2 [==============================] - 0s 7ms/step - loss: 6.9538 - mae: 6.9538\n",
            "Epoch 107/500\n",
            "2/2 [==============================] - 0s 8ms/step - loss: 6.9503 - mae: 6.9503\n",
            "Epoch 108/500\n",
            "2/2 [==============================] - 0s 6ms/step - loss: 6.9443 - mae: 6.9443\n",
            "Epoch 109/500\n",
            "2/2 [==============================] - 0s 6ms/step - loss: 6.9349 - mae: 6.9349\n",
            "Epoch 110/500\n",
            "2/2 [==============================] - 0s 7ms/step - loss: 6.9258 - mae: 6.9258\n",
            "Epoch 111/500\n",
            "2/2 [==============================] - 0s 9ms/step - loss: 6.9150 - mae: 6.9150\n",
            "Epoch 112/500\n",
            "2/2 [==============================] - 0s 7ms/step - loss: 6.9029 - mae: 6.9029\n",
            "Epoch 113/500\n",
            "2/2 [==============================] - 0s 7ms/step - loss: 6.8943 - mae: 6.8943\n",
            "Epoch 114/500\n",
            "2/2 [==============================] - 0s 7ms/step - loss: 6.8863 - mae: 6.8863\n",
            "Epoch 115/500\n",
            "2/2 [==============================] - 0s 7ms/step - loss: 6.8751 - mae: 6.8751\n",
            "Epoch 116/500\n",
            "2/2 [==============================] - 0s 10ms/step - loss: 6.8671 - mae: 6.8671\n",
            "Epoch 117/500\n",
            "2/2 [==============================] - 0s 8ms/step - loss: 6.8575 - mae: 6.8575\n",
            "Epoch 118/500\n",
            "2/2 [==============================] - 0s 9ms/step - loss: 6.8511 - mae: 6.8511\n",
            "Epoch 119/500\n",
            "2/2 [==============================] - 0s 7ms/step - loss: 6.8428 - mae: 6.8428\n",
            "Epoch 120/500\n",
            "2/2 [==============================] - 0s 6ms/step - loss: 6.8341 - mae: 6.8341\n",
            "Epoch 121/500\n",
            "2/2 [==============================] - 0s 13ms/step - loss: 6.8265 - mae: 6.8265\n",
            "Epoch 122/500\n",
            "2/2 [==============================] - 0s 7ms/step - loss: 6.8200 - mae: 6.8200\n",
            "Epoch 123/500\n",
            "2/2 [==============================] - 0s 7ms/step - loss: 6.8094 - mae: 6.8094\n",
            "Epoch 124/500\n",
            "2/2 [==============================] - 0s 5ms/step - loss: 6.8033 - mae: 6.8033\n",
            "Epoch 125/500\n",
            "2/2 [==============================] - 0s 6ms/step - loss: 6.7918 - mae: 6.7918\n",
            "Epoch 126/500\n",
            "2/2 [==============================] - 0s 6ms/step - loss: 6.7833 - mae: 6.7833\n",
            "Epoch 127/500\n",
            "2/2 [==============================] - 0s 7ms/step - loss: 6.7834 - mae: 6.7834\n",
            "Epoch 128/500\n",
            "2/2 [==============================] - 0s 8ms/step - loss: 6.7643 - mae: 6.7643\n",
            "Epoch 129/500\n",
            "2/2 [==============================] - 0s 8ms/step - loss: 6.7559 - mae: 6.7559\n",
            "Epoch 130/500\n",
            "2/2 [==============================] - 0s 6ms/step - loss: 6.7597 - mae: 6.7597\n",
            "Epoch 131/500\n",
            "2/2 [==============================] - 0s 7ms/step - loss: 6.7570 - mae: 6.7570\n",
            "Epoch 132/500\n",
            "2/2 [==============================] - 0s 7ms/step - loss: 6.7527 - mae: 6.7527\n",
            "Epoch 133/500\n",
            "2/2 [==============================] - 0s 10ms/step - loss: 6.7470 - mae: 6.7470\n",
            "Epoch 134/500\n",
            "2/2 [==============================] - 0s 9ms/step - loss: 6.7400 - mae: 6.7400\n",
            "Epoch 135/500\n",
            "2/2 [==============================] - 0s 11ms/step - loss: 6.7339 - mae: 6.7339\n",
            "Epoch 136/500\n",
            "2/2 [==============================] - 0s 7ms/step - loss: 6.7180 - mae: 6.7180\n",
            "Epoch 137/500\n",
            "2/2 [==============================] - 0s 12ms/step - loss: 6.6941 - mae: 6.6941\n",
            "Epoch 138/500\n",
            "2/2 [==============================] - 0s 8ms/step - loss: 6.6873 - mae: 6.6873\n",
            "Epoch 139/500\n",
            "2/2 [==============================] - 0s 9ms/step - loss: 6.6824 - mae: 6.6824\n",
            "Epoch 140/500\n",
            "2/2 [==============================] - 0s 8ms/step - loss: 6.6826 - mae: 6.6826\n",
            "Epoch 141/500\n",
            "2/2 [==============================] - 0s 7ms/step - loss: 6.6987 - mae: 6.6987\n",
            "Epoch 142/500\n",
            "2/2 [==============================] - 0s 7ms/step - loss: 6.6897 - mae: 6.6897\n",
            "Epoch 143/500\n",
            "2/2 [==============================] - 0s 15ms/step - loss: 6.6699 - mae: 6.6699\n",
            "Epoch 144/500\n",
            "2/2 [==============================] - 0s 6ms/step - loss: 6.6372 - mae: 6.6372\n",
            "Epoch 145/500\n",
            "2/2 [==============================] - 0s 7ms/step - loss: 6.6381 - mae: 6.6381\n",
            "Epoch 146/500\n",
            "2/2 [==============================] - 0s 9ms/step - loss: 6.6253 - mae: 6.6253\n",
            "Epoch 147/500\n",
            "2/2 [==============================] - 0s 9ms/step - loss: 6.6216 - mae: 6.6216\n",
            "Epoch 148/500\n",
            "2/2 [==============================] - 0s 9ms/step - loss: 6.6252 - mae: 6.6252\n",
            "Epoch 149/500\n",
            "2/2 [==============================] - 0s 6ms/step - loss: 6.6193 - mae: 6.6193\n",
            "Epoch 150/500\n",
            "2/2 [==============================] - 0s 8ms/step - loss: 6.6112 - mae: 6.6112\n",
            "Epoch 151/500\n",
            "2/2 [==============================] - 0s 7ms/step - loss: 6.6019 - mae: 6.6019\n",
            "Epoch 152/500\n",
            "2/2 [==============================] - 0s 8ms/step - loss: 6.5909 - mae: 6.5909\n",
            "Epoch 153/500\n",
            "2/2 [==============================] - 0s 7ms/step - loss: 6.5772 - mae: 6.5772\n",
            "Epoch 154/500\n",
            "2/2 [==============================] - 0s 7ms/step - loss: 6.5600 - mae: 6.5600\n",
            "Epoch 155/500\n",
            "2/2 [==============================] - 0s 16ms/step - loss: 6.5463 - mae: 6.5463\n",
            "Epoch 156/500\n",
            "2/2 [==============================] - 0s 7ms/step - loss: 6.5337 - mae: 6.5337\n",
            "Epoch 157/500\n",
            "2/2 [==============================] - 0s 8ms/step - loss: 6.5467 - mae: 6.5467\n",
            "Epoch 158/500\n",
            "2/2 [==============================] - 0s 6ms/step - loss: 6.5325 - mae: 6.5325\n",
            "Epoch 159/500\n",
            "2/2 [==============================] - 0s 7ms/step - loss: 6.5275 - mae: 6.5275\n",
            "Epoch 160/500\n",
            "2/2 [==============================] - 0s 8ms/step - loss: 6.5223 - mae: 6.5223\n",
            "Epoch 161/500\n",
            "2/2 [==============================] - 0s 5ms/step - loss: 6.5136 - mae: 6.5136\n",
            "Epoch 162/500\n",
            "2/2 [==============================] - 0s 6ms/step - loss: 6.4958 - mae: 6.4958\n",
            "Epoch 163/500\n",
            "2/2 [==============================] - 0s 8ms/step - loss: 6.4857 - mae: 6.4857\n",
            "Epoch 164/500\n",
            "2/2 [==============================] - 0s 7ms/step - loss: 6.4739 - mae: 6.4739\n",
            "Epoch 165/500\n",
            "2/2 [==============================] - 0s 8ms/step - loss: 6.4662 - mae: 6.4662\n",
            "Epoch 166/500\n",
            "2/2 [==============================] - 0s 8ms/step - loss: 6.4599 - mae: 6.4599\n",
            "Epoch 167/500\n",
            "2/2 [==============================] - 0s 7ms/step - loss: 6.4502 - mae: 6.4502\n",
            "Epoch 168/500\n",
            "2/2 [==============================] - 0s 10ms/step - loss: 6.4426 - mae: 6.4426\n",
            "Epoch 169/500\n",
            "2/2 [==============================] - 0s 7ms/step - loss: 6.4348 - mae: 6.4348\n",
            "Epoch 170/500\n",
            "2/2 [==============================] - 0s 7ms/step - loss: 6.4247 - mae: 6.4247\n",
            "Epoch 171/500\n",
            "2/2 [==============================] - 0s 6ms/step - loss: 6.4152 - mae: 6.4152\n",
            "Epoch 172/500\n",
            "2/2 [==============================] - 0s 8ms/step - loss: 6.4071 - mae: 6.4071\n",
            "Epoch 173/500\n",
            "2/2 [==============================] - 0s 5ms/step - loss: 6.3982 - mae: 6.3982\n",
            "Epoch 174/500\n",
            "2/2 [==============================] - 0s 11ms/step - loss: 6.3949 - mae: 6.3949\n",
            "Epoch 175/500\n",
            "2/2 [==============================] - 0s 11ms/step - loss: 6.3791 - mae: 6.3791\n",
            "Epoch 176/500\n",
            "2/2 [==============================] - 0s 13ms/step - loss: 6.3719 - mae: 6.3719\n",
            "Epoch 177/500\n",
            "2/2 [==============================] - 0s 6ms/step - loss: 6.3774 - mae: 6.3774\n",
            "Epoch 178/500\n",
            "2/2 [==============================] - 0s 8ms/step - loss: 6.3750 - mae: 6.3750\n",
            "Epoch 179/500\n",
            "2/2 [==============================] - 0s 8ms/step - loss: 6.3677 - mae: 6.3677\n",
            "Epoch 180/500\n",
            "2/2 [==============================] - 0s 7ms/step - loss: 6.3542 - mae: 6.3542\n",
            "Epoch 181/500\n",
            "2/2 [==============================] - 0s 6ms/step - loss: 6.3412 - mae: 6.3412\n",
            "Epoch 182/500\n",
            "2/2 [==============================] - 0s 6ms/step - loss: 6.3222 - mae: 6.3222\n",
            "Epoch 183/500\n",
            "2/2 [==============================] - 0s 13ms/step - loss: 6.3218 - mae: 6.3218\n",
            "Epoch 184/500\n",
            "2/2 [==============================] - 0s 6ms/step - loss: 6.3168 - mae: 6.3168\n",
            "Epoch 185/500\n",
            "2/2 [==============================] - 0s 8ms/step - loss: 6.3124 - mae: 6.3124\n",
            "Epoch 186/500\n",
            "2/2 [==============================] - 0s 7ms/step - loss: 6.3119 - mae: 6.3119\n",
            "Epoch 187/500\n",
            "2/2 [==============================] - 0s 8ms/step - loss: 6.3147 - mae: 6.3147\n",
            "Epoch 188/500\n",
            "2/2 [==============================] - 0s 8ms/step - loss: 6.3082 - mae: 6.3082\n",
            "Epoch 189/500\n",
            "2/2 [==============================] - 0s 8ms/step - loss: 6.2941 - mae: 6.2941\n",
            "Epoch 190/500\n",
            "2/2 [==============================] - 0s 5ms/step - loss: 6.2740 - mae: 6.2740\n",
            "Epoch 191/500\n",
            "2/2 [==============================] - 0s 6ms/step - loss: 6.2600 - mae: 6.2600\n",
            "Epoch 192/500\n",
            "2/2 [==============================] - 0s 7ms/step - loss: 6.2456 - mae: 6.2456\n",
            "Epoch 193/500\n",
            "2/2 [==============================] - 0s 7ms/step - loss: 6.2367 - mae: 6.2367\n",
            "Epoch 194/500\n",
            "2/2 [==============================] - 0s 7ms/step - loss: 6.2257 - mae: 6.2257\n",
            "Epoch 195/500\n",
            "2/2 [==============================] - 0s 6ms/step - loss: 6.2173 - mae: 6.2173\n",
            "Epoch 196/500\n",
            "2/2 [==============================] - 0s 5ms/step - loss: 6.2266 - mae: 6.2266\n",
            "Epoch 197/500\n",
            "2/2 [==============================] - 0s 5ms/step - loss: 6.2263 - mae: 6.2263\n",
            "Epoch 198/500\n",
            "2/2 [==============================] - 0s 7ms/step - loss: 6.2205 - mae: 6.2205\n",
            "Epoch 199/500\n",
            "2/2 [==============================] - 0s 10ms/step - loss: 6.2105 - mae: 6.2105\n",
            "Epoch 200/500\n",
            "2/2 [==============================] - 0s 14ms/step - loss: 6.2012 - mae: 6.2012\n",
            "Epoch 201/500\n",
            "2/2 [==============================] - 0s 7ms/step - loss: 6.1872 - mae: 6.1872\n",
            "Epoch 202/500\n",
            "2/2 [==============================] - 0s 7ms/step - loss: 6.1725 - mae: 6.1725\n",
            "Epoch 203/500\n",
            "2/2 [==============================] - 0s 7ms/step - loss: 6.1492 - mae: 6.1492\n",
            "Epoch 204/500\n",
            "2/2 [==============================] - 0s 13ms/step - loss: 6.1341 - mae: 6.1341\n",
            "Epoch 205/500\n",
            "2/2 [==============================] - 0s 8ms/step - loss: 6.1454 - mae: 6.1454\n",
            "Epoch 206/500\n",
            "2/2 [==============================] - 0s 6ms/step - loss: 6.1643 - mae: 6.1643\n",
            "Epoch 207/500\n",
            "2/2 [==============================] - 0s 10ms/step - loss: 6.1679 - mae: 6.1679\n",
            "Epoch 208/500\n",
            "2/2 [==============================] - 0s 11ms/step - loss: 6.1487 - mae: 6.1487\n",
            "Epoch 209/500\n",
            "2/2 [==============================] - 0s 7ms/step - loss: 6.1118 - mae: 6.1118\n",
            "Epoch 210/500\n",
            "2/2 [==============================] - 0s 7ms/step - loss: 6.0950 - mae: 6.0950\n",
            "Epoch 211/500\n",
            "2/2 [==============================] - 0s 7ms/step - loss: 6.0946 - mae: 6.0946\n",
            "Epoch 212/500\n",
            "2/2 [==============================] - 0s 8ms/step - loss: 6.0790 - mae: 6.0790\n",
            "Epoch 213/500\n",
            "2/2 [==============================] - 0s 7ms/step - loss: 6.0713 - mae: 6.0713\n",
            "Epoch 214/500\n",
            "2/2 [==============================] - 0s 7ms/step - loss: 6.0627 - mae: 6.0627\n",
            "Epoch 215/500\n",
            "2/2 [==============================] - 0s 7ms/step - loss: 6.0546 - mae: 6.0546\n",
            "Epoch 216/500\n",
            "2/2 [==============================] - 0s 5ms/step - loss: 6.0509 - mae: 6.0509\n",
            "Epoch 217/500\n",
            "2/2 [==============================] - 0s 8ms/step - loss: 6.0430 - mae: 6.0430\n",
            "Epoch 218/500\n",
            "2/2 [==============================] - 0s 10ms/step - loss: 6.0321 - mae: 6.0321\n",
            "Epoch 219/500\n",
            "2/2 [==============================] - 0s 7ms/step - loss: 6.0244 - mae: 6.0244\n",
            "Epoch 220/500\n",
            "2/2 [==============================] - 0s 7ms/step - loss: 6.0127 - mae: 6.0127\n",
            "Epoch 221/500\n",
            "2/2 [==============================] - 0s 7ms/step - loss: 6.0040 - mae: 6.0040\n",
            "Epoch 222/500\n",
            "2/2 [==============================] - 0s 7ms/step - loss: 5.9956 - mae: 5.9956\n",
            "Epoch 223/500\n",
            "2/2 [==============================] - 0s 7ms/step - loss: 5.9878 - mae: 5.9878\n",
            "Epoch 224/500\n",
            "2/2 [==============================] - 0s 7ms/step - loss: 5.9801 - mae: 5.9801\n",
            "Epoch 225/500\n",
            "2/2 [==============================] - 0s 7ms/step - loss: 5.9725 - mae: 5.9725\n",
            "Epoch 226/500\n",
            "2/2 [==============================] - 0s 7ms/step - loss: 5.9611 - mae: 5.9611\n",
            "Epoch 227/500\n",
            "2/2 [==============================] - 0s 5ms/step - loss: 5.9509 - mae: 5.9509\n",
            "Epoch 228/500\n",
            "2/2 [==============================] - 0s 10ms/step - loss: 5.9410 - mae: 5.9410\n",
            "Epoch 229/500\n",
            "2/2 [==============================] - 0s 7ms/step - loss: 5.9340 - mae: 5.9340\n",
            "Epoch 230/500\n",
            "2/2 [==============================] - 0s 8ms/step - loss: 5.9328 - mae: 5.9328\n",
            "Epoch 231/500\n",
            "2/2 [==============================] - 0s 11ms/step - loss: 5.9227 - mae: 5.9227\n",
            "Epoch 232/500\n",
            "2/2 [==============================] - 0s 8ms/step - loss: 5.9136 - mae: 5.9136\n",
            "Epoch 233/500\n",
            "2/2 [==============================] - 0s 10ms/step - loss: 5.9016 - mae: 5.9016\n",
            "Epoch 234/500\n",
            "2/2 [==============================] - 0s 7ms/step - loss: 5.8910 - mae: 5.8910\n",
            "Epoch 235/500\n",
            "2/2 [==============================] - 0s 6ms/step - loss: 5.8818 - mae: 5.8818\n",
            "Epoch 236/500\n",
            "2/2 [==============================] - 0s 7ms/step - loss: 5.8740 - mae: 5.8740\n",
            "Epoch 237/500\n",
            "2/2 [==============================] - 0s 7ms/step - loss: 5.8706 - mae: 5.8706\n",
            "Epoch 238/500\n",
            "2/2 [==============================] - 0s 7ms/step - loss: 5.8723 - mae: 5.8723\n",
            "Epoch 239/500\n",
            "2/2 [==============================] - 0s 7ms/step - loss: 5.8741 - mae: 5.8741\n",
            "Epoch 240/500\n",
            "2/2 [==============================] - 0s 10ms/step - loss: 5.8662 - mae: 5.8662\n",
            "Epoch 241/500\n",
            "2/2 [==============================] - 0s 7ms/step - loss: 5.8527 - mae: 5.8527\n",
            "Epoch 242/500\n",
            "2/2 [==============================] - 0s 8ms/step - loss: 5.8378 - mae: 5.8378\n",
            "Epoch 243/500\n",
            "2/2 [==============================] - 0s 7ms/step - loss: 5.8177 - mae: 5.8177\n",
            "Epoch 244/500\n",
            "2/2 [==============================] - 0s 10ms/step - loss: 5.8132 - mae: 5.8132\n",
            "Epoch 245/500\n",
            "2/2 [==============================] - 0s 7ms/step - loss: 5.7989 - mae: 5.7989\n",
            "Epoch 246/500\n",
            "2/2 [==============================] - 0s 8ms/step - loss: 5.7885 - mae: 5.7885\n",
            "Epoch 247/500\n",
            "2/2 [==============================] - 0s 10ms/step - loss: 5.7764 - mae: 5.7764\n",
            "Epoch 248/500\n",
            "2/2 [==============================] - 0s 7ms/step - loss: 5.7694 - mae: 5.7694\n",
            "Epoch 249/500\n",
            "2/2 [==============================] - 0s 9ms/step - loss: 5.7780 - mae: 5.7780\n",
            "Epoch 250/500\n",
            "2/2 [==============================] - 0s 8ms/step - loss: 5.7949 - mae: 5.7949\n",
            "Epoch 251/500\n",
            "2/2 [==============================] - 0s 7ms/step - loss: 5.8178 - mae: 5.8178\n",
            "Epoch 252/500\n",
            "2/2 [==============================] - 0s 16ms/step - loss: 5.8063 - mae: 5.8063\n",
            "Epoch 253/500\n",
            "2/2 [==============================] - 0s 9ms/step - loss: 5.7750 - mae: 5.7750\n",
            "Epoch 254/500\n",
            "2/2 [==============================] - 0s 8ms/step - loss: 5.7548 - mae: 5.7548\n",
            "Epoch 255/500\n",
            "2/2 [==============================] - 0s 8ms/step - loss: 5.7243 - mae: 5.7243\n",
            "Epoch 256/500\n",
            "2/2 [==============================] - 0s 8ms/step - loss: 5.7070 - mae: 5.7070\n",
            "Epoch 257/500\n",
            "2/2 [==============================] - 0s 7ms/step - loss: 5.6946 - mae: 5.6946\n",
            "Epoch 258/500\n",
            "2/2 [==============================] - 0s 8ms/step - loss: 5.6908 - mae: 5.6908\n",
            "Epoch 259/500\n",
            "2/2 [==============================] - 0s 8ms/step - loss: 5.6847 - mae: 5.6847\n",
            "Epoch 260/500\n",
            "2/2 [==============================] - 0s 7ms/step - loss: 5.6731 - mae: 5.6731\n",
            "Epoch 261/500\n",
            "2/2 [==============================] - 0s 8ms/step - loss: 5.6634 - mae: 5.6634\n",
            "Epoch 262/500\n",
            "2/2 [==============================] - 0s 7ms/step - loss: 5.6545 - mae: 5.6545\n",
            "Epoch 263/500\n",
            "2/2 [==============================] - 0s 7ms/step - loss: 5.6466 - mae: 5.6466\n",
            "Epoch 264/500\n",
            "2/2 [==============================] - 0s 7ms/step - loss: 5.6410 - mae: 5.6410\n",
            "Epoch 265/500\n",
            "2/2 [==============================] - 0s 6ms/step - loss: 5.6400 - mae: 5.6400\n",
            "Epoch 266/500\n",
            "2/2 [==============================] - 0s 6ms/step - loss: 5.6279 - mae: 5.6279\n",
            "Epoch 267/500\n",
            "2/2 [==============================] - 0s 7ms/step - loss: 5.6137 - mae: 5.6137\n",
            "Epoch 268/500\n",
            "2/2 [==============================] - 0s 7ms/step - loss: 5.6045 - mae: 5.6045\n",
            "Epoch 269/500\n",
            "2/2 [==============================] - 0s 6ms/step - loss: 5.5916 - mae: 5.5916\n",
            "Epoch 270/500\n",
            "2/2 [==============================] - 0s 7ms/step - loss: 5.5836 - mae: 5.5836\n",
            "Epoch 271/500\n",
            "2/2 [==============================] - 0s 9ms/step - loss: 5.5711 - mae: 5.5711\n",
            "Epoch 272/500\n",
            "2/2 [==============================] - 0s 7ms/step - loss: 5.5639 - mae: 5.5639\n",
            "Epoch 273/500\n",
            "2/2 [==============================] - 0s 8ms/step - loss: 5.5626 - mae: 5.5626\n",
            "Epoch 274/500\n",
            "2/2 [==============================] - 0s 9ms/step - loss: 5.5792 - mae: 5.5792\n",
            "Epoch 275/500\n",
            "2/2 [==============================] - 0s 8ms/step - loss: 5.5644 - mae: 5.5644\n",
            "Epoch 276/500\n",
            "2/2 [==============================] - 0s 7ms/step - loss: 5.5476 - mae: 5.5476\n",
            "Epoch 277/500\n",
            "2/2 [==============================] - 0s 10ms/step - loss: 5.5227 - mae: 5.5227\n",
            "Epoch 278/500\n",
            "2/2 [==============================] - 0s 7ms/step - loss: 5.5111 - mae: 5.5111\n",
            "Epoch 279/500\n",
            "2/2 [==============================] - 0s 8ms/step - loss: 5.5035 - mae: 5.5035\n",
            "Epoch 280/500\n",
            "2/2 [==============================] - 0s 7ms/step - loss: 5.5006 - mae: 5.5006\n",
            "Epoch 281/500\n",
            "2/2 [==============================] - 0s 8ms/step - loss: 5.4986 - mae: 5.4986\n",
            "Epoch 282/500\n",
            "2/2 [==============================] - 0s 7ms/step - loss: 5.4920 - mae: 5.4920\n",
            "Epoch 283/500\n",
            "2/2 [==============================] - 0s 9ms/step - loss: 5.4805 - mae: 5.4805\n",
            "Epoch 284/500\n",
            "2/2 [==============================] - 0s 12ms/step - loss: 5.4628 - mae: 5.4628\n",
            "Epoch 285/500\n",
            "2/2 [==============================] - 0s 10ms/step - loss: 5.4617 - mae: 5.4617\n",
            "Epoch 286/500\n",
            "2/2 [==============================] - 0s 6ms/step - loss: 5.4426 - mae: 5.4426\n",
            "Epoch 287/500\n",
            "2/2 [==============================] - 0s 8ms/step - loss: 5.4329 - mae: 5.4329\n",
            "Epoch 288/500\n",
            "2/2 [==============================] - 0s 7ms/step - loss: 5.4247 - mae: 5.4247\n",
            "Epoch 289/500\n",
            "2/2 [==============================] - 0s 8ms/step - loss: 5.4179 - mae: 5.4179\n",
            "Epoch 290/500\n",
            "2/2 [==============================] - 0s 6ms/step - loss: 5.4095 - mae: 5.4095\n",
            "Epoch 291/500\n",
            "2/2 [==============================] - 0s 5ms/step - loss: 5.4000 - mae: 5.4000\n",
            "Epoch 292/500\n",
            "2/2 [==============================] - 0s 6ms/step - loss: 5.4034 - mae: 5.4034\n",
            "Epoch 293/500\n",
            "2/2 [==============================] - 0s 6ms/step - loss: 5.4021 - mae: 5.4021\n",
            "Epoch 294/500\n",
            "2/2 [==============================] - 0s 8ms/step - loss: 5.3968 - mae: 5.3968\n",
            "Epoch 295/500\n",
            "2/2 [==============================] - 0s 7ms/step - loss: 5.3883 - mae: 5.3883\n",
            "Epoch 296/500\n",
            "2/2 [==============================] - 0s 6ms/step - loss: 5.3831 - mae: 5.3831\n",
            "Epoch 297/500\n",
            "2/2 [==============================] - 0s 8ms/step - loss: 5.3825 - mae: 5.3825\n",
            "Epoch 298/500\n",
            "2/2 [==============================] - 0s 10ms/step - loss: 5.3671 - mae: 5.3671\n",
            "Epoch 299/500\n",
            "2/2 [==============================] - 0s 7ms/step - loss: 5.3474 - mae: 5.3474\n",
            "Epoch 300/500\n",
            "2/2 [==============================] - 0s 7ms/step - loss: 5.3291 - mae: 5.3291\n",
            "Epoch 301/500\n",
            "2/2 [==============================] - 0s 7ms/step - loss: 5.3143 - mae: 5.3143\n",
            "Epoch 302/500\n",
            "2/2 [==============================] - 0s 5ms/step - loss: 5.3074 - mae: 5.3074\n",
            "Epoch 303/500\n",
            "2/2 [==============================] - 0s 11ms/step - loss: 5.3008 - mae: 5.3008\n",
            "Epoch 304/500\n",
            "2/2 [==============================] - 0s 6ms/step - loss: 5.2978 - mae: 5.2978\n",
            "Epoch 305/500\n",
            "2/2 [==============================] - 0s 5ms/step - loss: 5.2791 - mae: 5.2791\n",
            "Epoch 306/500\n",
            "2/2 [==============================] - 0s 13ms/step - loss: 5.2649 - mae: 5.2649\n",
            "Epoch 307/500\n",
            "2/2 [==============================] - 0s 7ms/step - loss: 5.2581 - mae: 5.2581\n",
            "Epoch 308/500\n",
            "2/2 [==============================] - 0s 7ms/step - loss: 5.2720 - mae: 5.2720\n",
            "Epoch 309/500\n",
            "2/2 [==============================] - 0s 8ms/step - loss: 5.2744 - mae: 5.2744\n",
            "Epoch 310/500\n",
            "2/2 [==============================] - 0s 8ms/step - loss: 5.2563 - mae: 5.2563\n",
            "Epoch 311/500\n",
            "2/2 [==============================] - 0s 14ms/step - loss: 5.2281 - mae: 5.2281\n",
            "Epoch 312/500\n",
            "2/2 [==============================] - 0s 7ms/step - loss: 5.2078 - mae: 5.2078\n",
            "Epoch 313/500\n",
            "2/2 [==============================] - 0s 8ms/step - loss: 5.2080 - mae: 5.2080\n",
            "Epoch 314/500\n",
            "2/2 [==============================] - 0s 11ms/step - loss: 5.2111 - mae: 5.2111\n",
            "Epoch 315/500\n",
            "2/2 [==============================] - 0s 8ms/step - loss: 5.2048 - mae: 5.2048\n",
            "Epoch 316/500\n",
            "2/2 [==============================] - 0s 6ms/step - loss: 5.1922 - mae: 5.1922\n",
            "Epoch 317/500\n",
            "2/2 [==============================] - 0s 7ms/step - loss: 5.1694 - mae: 5.1694\n",
            "Epoch 318/500\n",
            "2/2 [==============================] - 0s 6ms/step - loss: 5.1696 - mae: 5.1696\n",
            "Epoch 319/500\n",
            "2/2 [==============================] - 0s 5ms/step - loss: 5.1505 - mae: 5.1505\n",
            "Epoch 320/500\n",
            "2/2 [==============================] - 0s 7ms/step - loss: 5.1470 - mae: 5.1470\n",
            "Epoch 321/500\n",
            "2/2 [==============================] - 0s 9ms/step - loss: 5.1469 - mae: 5.1469\n",
            "Epoch 322/500\n",
            "2/2 [==============================] - 0s 6ms/step - loss: 5.1420 - mae: 5.1420\n",
            "Epoch 323/500\n",
            "2/2 [==============================] - 0s 8ms/step - loss: 5.1264 - mae: 5.1264\n",
            "Epoch 324/500\n",
            "2/2 [==============================] - 0s 8ms/step - loss: 5.1009 - mae: 5.1009\n",
            "Epoch 325/500\n",
            "2/2 [==============================] - 0s 7ms/step - loss: 5.0961 - mae: 5.0961\n",
            "Epoch 326/500\n",
            "2/2 [==============================] - 0s 8ms/step - loss: 5.0881 - mae: 5.0881\n",
            "Epoch 327/500\n",
            "2/2 [==============================] - 0s 8ms/step - loss: 5.0917 - mae: 5.0917\n",
            "Epoch 328/500\n",
            "2/2 [==============================] - 0s 9ms/step - loss: 5.0826 - mae: 5.0826\n",
            "Epoch 329/500\n",
            "2/2 [==============================] - 0s 7ms/step - loss: 5.0691 - mae: 5.0691\n",
            "Epoch 330/500\n",
            "2/2 [==============================] - 0s 7ms/step - loss: 5.0463 - mae: 5.0463\n",
            "Epoch 331/500\n",
            "2/2 [==============================] - 0s 13ms/step - loss: 5.0402 - mae: 5.0402\n",
            "Epoch 332/500\n",
            "2/2 [==============================] - 0s 8ms/step - loss: 5.0255 - mae: 5.0255\n",
            "Epoch 333/500\n",
            "2/2 [==============================] - 0s 7ms/step - loss: 5.0142 - mae: 5.0142\n",
            "Epoch 334/500\n",
            "2/2 [==============================] - 0s 8ms/step - loss: 5.0093 - mae: 5.0093\n",
            "Epoch 335/500\n",
            "2/2 [==============================] - 0s 7ms/step - loss: 4.9984 - mae: 4.9984\n",
            "Epoch 336/500\n",
            "2/2 [==============================] - 0s 7ms/step - loss: 4.9868 - mae: 4.9868\n",
            "Epoch 337/500\n",
            "2/2 [==============================] - 0s 7ms/step - loss: 4.9763 - mae: 4.9763\n",
            "Epoch 338/500\n",
            "2/2 [==============================] - 0s 6ms/step - loss: 4.9711 - mae: 4.9711\n",
            "Epoch 339/500\n",
            "2/2 [==============================] - 0s 12ms/step - loss: 4.9685 - mae: 4.9685\n",
            "Epoch 340/500\n",
            "2/2 [==============================] - 0s 8ms/step - loss: 4.9672 - mae: 4.9672\n",
            "Epoch 341/500\n",
            "2/2 [==============================] - 0s 8ms/step - loss: 4.9573 - mae: 4.9573\n",
            "Epoch 342/500\n",
            "2/2 [==============================] - 0s 6ms/step - loss: 4.9423 - mae: 4.9423\n",
            "Epoch 343/500\n",
            "2/2 [==============================] - 0s 7ms/step - loss: 4.9241 - mae: 4.9241\n",
            "Epoch 344/500\n",
            "2/2 [==============================] - 0s 7ms/step - loss: 4.9081 - mae: 4.9081\n",
            "Epoch 345/500\n",
            "2/2 [==============================] - 0s 7ms/step - loss: 4.8977 - mae: 4.8977\n",
            "Epoch 346/500\n",
            "2/2 [==============================] - 0s 12ms/step - loss: 4.8982 - mae: 4.8982\n",
            "Epoch 347/500\n",
            "2/2 [==============================] - 0s 7ms/step - loss: 4.8934 - mae: 4.8934\n",
            "Epoch 348/500\n",
            "2/2 [==============================] - 0s 8ms/step - loss: 4.8784 - mae: 4.8784\n",
            "Epoch 349/500\n",
            "2/2 [==============================] - 0s 7ms/step - loss: 4.8639 - mae: 4.8639\n",
            "Epoch 350/500\n",
            "2/2 [==============================] - 0s 7ms/step - loss: 4.8548 - mae: 4.8548\n",
            "Epoch 351/500\n",
            "2/2 [==============================] - 0s 7ms/step - loss: 4.8453 - mae: 4.8453\n",
            "Epoch 352/500\n",
            "2/2 [==============================] - 0s 11ms/step - loss: 4.8328 - mae: 4.8328\n",
            "Epoch 353/500\n",
            "2/2 [==============================] - 0s 11ms/step - loss: 4.8252 - mae: 4.8252\n",
            "Epoch 354/500\n",
            "2/2 [==============================] - 0s 8ms/step - loss: 4.8169 - mae: 4.8169\n",
            "Epoch 355/500\n",
            "2/2 [==============================] - 0s 11ms/step - loss: 4.8070 - mae: 4.8070\n",
            "Epoch 356/500\n",
            "2/2 [==============================] - 0s 7ms/step - loss: 4.7968 - mae: 4.7968\n",
            "Epoch 357/500\n",
            "2/2 [==============================] - 0s 8ms/step - loss: 4.7874 - mae: 4.7874\n",
            "Epoch 358/500\n",
            "2/2 [==============================] - 0s 7ms/step - loss: 4.7744 - mae: 4.7744\n",
            "Epoch 359/500\n",
            "2/2 [==============================] - 0s 10ms/step - loss: 4.7656 - mae: 4.7656\n",
            "Epoch 360/500\n",
            "2/2 [==============================] - 0s 7ms/step - loss: 4.7578 - mae: 4.7578\n",
            "Epoch 361/500\n",
            "2/2 [==============================] - 0s 7ms/step - loss: 4.7486 - mae: 4.7486\n",
            "Epoch 362/500\n",
            "2/2 [==============================] - 0s 8ms/step - loss: 4.7373 - mae: 4.7373\n",
            "Epoch 363/500\n",
            "2/2 [==============================] - 0s 7ms/step - loss: 4.7272 - mae: 4.7272\n",
            "Epoch 364/500\n",
            "2/2 [==============================] - 0s 7ms/step - loss: 4.7204 - mae: 4.7204\n",
            "Epoch 365/500\n",
            "2/2 [==============================] - 0s 7ms/step - loss: 4.7144 - mae: 4.7144\n",
            "Epoch 366/500\n",
            "2/2 [==============================] - 0s 8ms/step - loss: 4.7089 - mae: 4.7089\n",
            "Epoch 367/500\n",
            "2/2 [==============================] - 0s 13ms/step - loss: 4.6972 - mae: 4.6972\n",
            "Epoch 368/500\n",
            "2/2 [==============================] - 0s 8ms/step - loss: 4.6878 - mae: 4.6878\n",
            "Epoch 369/500\n",
            "2/2 [==============================] - 0s 9ms/step - loss: 4.6703 - mae: 4.6703\n",
            "Epoch 370/500\n",
            "2/2 [==============================] - 0s 6ms/step - loss: 4.6613 - mae: 4.6613\n",
            "Epoch 371/500\n",
            "2/2 [==============================] - 0s 9ms/step - loss: 4.6557 - mae: 4.6557\n",
            "Epoch 372/500\n",
            "2/2 [==============================] - 0s 8ms/step - loss: 4.6439 - mae: 4.6439\n",
            "Epoch 373/500\n",
            "2/2 [==============================] - 0s 7ms/step - loss: 4.6368 - mae: 4.6368\n",
            "Epoch 374/500\n",
            "2/2 [==============================] - 0s 7ms/step - loss: 4.6221 - mae: 4.6221\n",
            "Epoch 375/500\n",
            "2/2 [==============================] - 0s 7ms/step - loss: 4.6126 - mae: 4.6126\n",
            "Epoch 376/500\n",
            "2/2 [==============================] - 0s 6ms/step - loss: 4.6037 - mae: 4.6037\n",
            "Epoch 377/500\n",
            "2/2 [==============================] - 0s 8ms/step - loss: 4.5967 - mae: 4.5967\n",
            "Epoch 378/500\n",
            "2/2 [==============================] - 0s 8ms/step - loss: 4.5846 - mae: 4.5846\n",
            "Epoch 379/500\n",
            "2/2 [==============================] - 0s 9ms/step - loss: 4.5697 - mae: 4.5697\n",
            "Epoch 380/500\n",
            "2/2 [==============================] - 0s 10ms/step - loss: 4.5572 - mae: 4.5572\n",
            "Epoch 381/500\n",
            "2/2 [==============================] - 0s 10ms/step - loss: 4.5626 - mae: 4.5626\n",
            "Epoch 382/500\n",
            "2/2 [==============================] - 0s 14ms/step - loss: 4.5651 - mae: 4.5651\n",
            "Epoch 383/500\n",
            "2/2 [==============================] - 0s 15ms/step - loss: 4.5456 - mae: 4.5456\n",
            "Epoch 384/500\n",
            "2/2 [==============================] - 0s 8ms/step - loss: 4.5240 - mae: 4.5240\n",
            "Epoch 385/500\n",
            "2/2 [==============================] - 0s 7ms/step - loss: 4.5107 - mae: 4.5107\n",
            "Epoch 386/500\n",
            "2/2 [==============================] - 0s 7ms/step - loss: 4.5008 - mae: 4.5008\n",
            "Epoch 387/500\n",
            "2/2 [==============================] - 0s 7ms/step - loss: 4.5012 - mae: 4.5012\n",
            "Epoch 388/500\n",
            "2/2 [==============================] - 0s 6ms/step - loss: 4.5015 - mae: 4.5015\n",
            "Epoch 389/500\n",
            "2/2 [==============================] - 0s 8ms/step - loss: 4.5062 - mae: 4.5062\n",
            "Epoch 390/500\n",
            "2/2 [==============================] - 0s 7ms/step - loss: 4.4892 - mae: 4.4892\n",
            "Epoch 391/500\n",
            "2/2 [==============================] - 0s 7ms/step - loss: 4.5005 - mae: 4.5005\n",
            "Epoch 392/500\n",
            "2/2 [==============================] - 0s 7ms/step - loss: 4.4935 - mae: 4.4935\n",
            "Epoch 393/500\n",
            "2/2 [==============================] - 0s 7ms/step - loss: 4.4644 - mae: 4.4644\n",
            "Epoch 394/500\n",
            "2/2 [==============================] - 0s 9ms/step - loss: 4.4379 - mae: 4.4379\n",
            "Epoch 395/500\n",
            "2/2 [==============================] - 0s 7ms/step - loss: 4.4026 - mae: 4.4026\n",
            "Epoch 396/500\n",
            "2/2 [==============================] - 0s 7ms/step - loss: 4.3971 - mae: 4.3971\n",
            "Epoch 397/500\n",
            "2/2 [==============================] - 0s 10ms/step - loss: 4.3989 - mae: 4.3989\n",
            "Epoch 398/500\n",
            "2/2 [==============================] - 0s 9ms/step - loss: 4.3967 - mae: 4.3967\n",
            "Epoch 399/500\n",
            "2/2 [==============================] - 0s 8ms/step - loss: 4.3841 - mae: 4.3841\n",
            "Epoch 400/500\n",
            "2/2 [==============================] - 0s 15ms/step - loss: 4.3613 - mae: 4.3613\n",
            "Epoch 401/500\n",
            "2/2 [==============================] - 0s 14ms/step - loss: 4.3373 - mae: 4.3373\n",
            "Epoch 402/500\n",
            "2/2 [==============================] - 0s 6ms/step - loss: 4.3494 - mae: 4.3494\n",
            "Epoch 403/500\n",
            "2/2 [==============================] - 0s 8ms/step - loss: 4.3484 - mae: 4.3484\n",
            "Epoch 404/500\n",
            "2/2 [==============================] - 0s 10ms/step - loss: 4.3482 - mae: 4.3482\n",
            "Epoch 405/500\n",
            "2/2 [==============================] - 0s 9ms/step - loss: 4.3214 - mae: 4.3214\n",
            "Epoch 406/500\n",
            "2/2 [==============================] - 0s 7ms/step - loss: 4.3045 - mae: 4.3045\n",
            "Epoch 407/500\n",
            "2/2 [==============================] - 0s 12ms/step - loss: 4.2873 - mae: 4.2873\n",
            "Epoch 408/500\n",
            "2/2 [==============================] - 0s 7ms/step - loss: 4.2850 - mae: 4.2850\n",
            "Epoch 409/500\n",
            "2/2 [==============================] - 0s 5ms/step - loss: 4.2665 - mae: 4.2665\n",
            "Epoch 410/500\n",
            "2/2 [==============================] - 0s 6ms/step - loss: 4.2460 - mae: 4.2460\n",
            "Epoch 411/500\n",
            "2/2 [==============================] - 0s 10ms/step - loss: 4.2549 - mae: 4.2549\n",
            "Epoch 412/500\n",
            "2/2 [==============================] - 0s 9ms/step - loss: 4.2714 - mae: 4.2714\n",
            "Epoch 413/500\n",
            "2/2 [==============================] - 0s 8ms/step - loss: 4.2732 - mae: 4.2732\n",
            "Epoch 414/500\n",
            "2/2 [==============================] - 0s 5ms/step - loss: 4.2643 - mae: 4.2643\n",
            "Epoch 415/500\n",
            "2/2 [==============================] - 0s 7ms/step - loss: 4.2418 - mae: 4.2418\n",
            "Epoch 416/500\n",
            "2/2 [==============================] - 0s 8ms/step - loss: 4.1998 - mae: 4.1998\n",
            "Epoch 417/500\n",
            "2/2 [==============================] - 0s 7ms/step - loss: 4.1879 - mae: 4.1879\n",
            "Epoch 418/500\n",
            "2/2 [==============================] - 0s 15ms/step - loss: 4.2132 - mae: 4.2132\n",
            "Epoch 419/500\n",
            "2/2 [==============================] - 0s 8ms/step - loss: 4.2241 - mae: 4.2241\n",
            "Epoch 420/500\n",
            "2/2 [==============================] - 0s 6ms/step - loss: 4.2085 - mae: 4.2085\n",
            "Epoch 421/500\n",
            "2/2 [==============================] - 0s 8ms/step - loss: 4.1834 - mae: 4.1834\n",
            "Epoch 422/500\n",
            "2/2 [==============================] - 0s 12ms/step - loss: 4.1525 - mae: 4.1525\n",
            "Epoch 423/500\n",
            "2/2 [==============================] - 0s 11ms/step - loss: 4.1326 - mae: 4.1326\n",
            "Epoch 424/500\n",
            "2/2 [==============================] - 0s 10ms/step - loss: 4.1171 - mae: 4.1171\n",
            "Epoch 425/500\n",
            "2/2 [==============================] - 0s 10ms/step - loss: 4.1095 - mae: 4.1095\n",
            "Epoch 426/500\n",
            "2/2 [==============================] - 0s 6ms/step - loss: 4.1004 - mae: 4.1004\n",
            "Epoch 427/500\n",
            "2/2 [==============================] - 0s 8ms/step - loss: 4.0817 - mae: 4.0817\n",
            "Epoch 428/500\n",
            "2/2 [==============================] - 0s 6ms/step - loss: 4.0729 - mae: 4.0729\n",
            "Epoch 429/500\n",
            "2/2 [==============================] - 0s 6ms/step - loss: 4.0662 - mae: 4.0662\n",
            "Epoch 430/500\n",
            "2/2 [==============================] - 0s 5ms/step - loss: 4.0476 - mae: 4.0476\n",
            "Epoch 431/500\n",
            "2/2 [==============================] - 0s 6ms/step - loss: 4.0414 - mae: 4.0414\n",
            "Epoch 432/500\n",
            "2/2 [==============================] - 0s 6ms/step - loss: 4.0270 - mae: 4.0270\n",
            "Epoch 433/500\n",
            "2/2 [==============================] - 0s 7ms/step - loss: 4.0164 - mae: 4.0164\n",
            "Epoch 434/500\n",
            "2/2 [==============================] - 0s 5ms/step - loss: 4.0095 - mae: 4.0095\n",
            "Epoch 435/500\n",
            "2/2 [==============================] - 0s 8ms/step - loss: 3.9975 - mae: 3.9975\n",
            "Epoch 436/500\n",
            "2/2 [==============================] - 0s 8ms/step - loss: 3.9811 - mae: 3.9811\n",
            "Epoch 437/500\n",
            "2/2 [==============================] - 0s 11ms/step - loss: 3.9710 - mae: 3.9710\n",
            "Epoch 438/500\n",
            "2/2 [==============================] - 0s 7ms/step - loss: 3.9831 - mae: 3.9831\n",
            "Epoch 439/500\n",
            "2/2 [==============================] - 0s 5ms/step - loss: 3.9766 - mae: 3.9766\n",
            "Epoch 440/500\n",
            "2/2 [==============================] - 0s 9ms/step - loss: 3.9605 - mae: 3.9605\n",
            "Epoch 441/500\n",
            "2/2 [==============================] - 0s 12ms/step - loss: 3.9425 - mae: 3.9425\n",
            "Epoch 442/500\n",
            "2/2 [==============================] - 0s 9ms/step - loss: 3.9246 - mae: 3.9246\n",
            "Epoch 443/500\n",
            "2/2 [==============================] - 0s 8ms/step - loss: 3.9144 - mae: 3.9144\n",
            "Epoch 444/500\n",
            "2/2 [==============================] - 0s 8ms/step - loss: 3.9026 - mae: 3.9026\n",
            "Epoch 445/500\n",
            "2/2 [==============================] - 0s 9ms/step - loss: 3.8945 - mae: 3.8945\n",
            "Epoch 446/500\n",
            "2/2 [==============================] - 0s 9ms/step - loss: 3.8808 - mae: 3.8808\n",
            "Epoch 447/500\n",
            "2/2 [==============================] - 0s 8ms/step - loss: 3.8721 - mae: 3.8721\n",
            "Epoch 448/500\n",
            "2/2 [==============================] - 0s 8ms/step - loss: 3.8634 - mae: 3.8634\n",
            "Epoch 449/500\n",
            "2/2 [==============================] - 0s 6ms/step - loss: 3.8509 - mae: 3.8509\n",
            "Epoch 450/500\n",
            "2/2 [==============================] - 0s 14ms/step - loss: 3.8368 - mae: 3.8368\n",
            "Epoch 451/500\n",
            "2/2 [==============================] - 0s 7ms/step - loss: 3.8291 - mae: 3.8291\n",
            "Epoch 452/500\n",
            "2/2 [==============================] - 0s 8ms/step - loss: 3.8098 - mae: 3.8098\n",
            "Epoch 453/500\n",
            "2/2 [==============================] - 0s 10ms/step - loss: 3.8313 - mae: 3.8313\n",
            "Epoch 454/500\n",
            "2/2 [==============================] - 0s 13ms/step - loss: 3.8260 - mae: 3.8260\n",
            "Epoch 455/500\n",
            "2/2 [==============================] - 0s 8ms/step - loss: 3.8074 - mae: 3.8074\n",
            "Epoch 456/500\n",
            "2/2 [==============================] - 0s 7ms/step - loss: 3.7878 - mae: 3.7878\n",
            "Epoch 457/500\n",
            "2/2 [==============================] - 0s 12ms/step - loss: 3.7546 - mae: 3.7546\n",
            "Epoch 458/500\n",
            "2/2 [==============================] - 0s 11ms/step - loss: 3.7502 - mae: 3.7502\n",
            "Epoch 459/500\n",
            "2/2 [==============================] - 0s 15ms/step - loss: 3.7490 - mae: 3.7490\n",
            "Epoch 460/500\n",
            "2/2 [==============================] - 0s 11ms/step - loss: 3.7401 - mae: 3.7401\n",
            "Epoch 461/500\n",
            "2/2 [==============================] - 0s 7ms/step - loss: 3.7286 - mae: 3.7286\n",
            "Epoch 462/500\n",
            "2/2 [==============================] - 0s 10ms/step - loss: 3.7199 - mae: 3.7199\n",
            "Epoch 463/500\n",
            "2/2 [==============================] - 0s 5ms/step - loss: 3.6970 - mae: 3.6970\n",
            "Epoch 464/500\n",
            "2/2 [==============================] - 0s 10ms/step - loss: 3.6948 - mae: 3.6948\n",
            "Epoch 465/500\n",
            "2/2 [==============================] - 0s 11ms/step - loss: 3.6836 - mae: 3.6836\n",
            "Epoch 466/500\n",
            "2/2 [==============================] - 0s 13ms/step - loss: 3.6615 - mae: 3.6615\n",
            "Epoch 467/500\n",
            "2/2 [==============================] - 0s 9ms/step - loss: 3.6434 - mae: 3.6434\n",
            "Epoch 468/500\n",
            "2/2 [==============================] - 0s 13ms/step - loss: 3.6365 - mae: 3.6365\n",
            "Epoch 469/500\n",
            "2/2 [==============================] - 0s 9ms/step - loss: 3.6225 - mae: 3.6225\n",
            "Epoch 470/500\n",
            "2/2 [==============================] - 0s 9ms/step - loss: 3.6069 - mae: 3.6069\n",
            "Epoch 471/500\n",
            "2/2 [==============================] - 0s 6ms/step - loss: 3.5978 - mae: 3.5978\n",
            "Epoch 472/500\n",
            "2/2 [==============================] - 0s 5ms/step - loss: 3.5876 - mae: 3.5876\n",
            "Epoch 473/500\n",
            "2/2 [==============================] - 0s 10ms/step - loss: 3.5776 - mae: 3.5776\n",
            "Epoch 474/500\n",
            "2/2 [==============================] - 0s 9ms/step - loss: 3.5669 - mae: 3.5669\n",
            "Epoch 475/500\n",
            "2/2 [==============================] - 0s 12ms/step - loss: 3.5518 - mae: 3.5518\n",
            "Epoch 476/500\n",
            "2/2 [==============================] - 0s 8ms/step - loss: 3.5419 - mae: 3.5419\n",
            "Epoch 477/500\n",
            "2/2 [==============================] - 0s 14ms/step - loss: 3.5244 - mae: 3.5244\n",
            "Epoch 478/500\n",
            "2/2 [==============================] - 0s 8ms/step - loss: 3.5300 - mae: 3.5300\n",
            "Epoch 479/500\n",
            "2/2 [==============================] - 0s 15ms/step - loss: 3.5224 - mae: 3.5224\n",
            "Epoch 480/500\n",
            "2/2 [==============================] - 0s 8ms/step - loss: 3.5098 - mae: 3.5098\n",
            "Epoch 481/500\n",
            "2/2 [==============================] - 0s 10ms/step - loss: 3.4973 - mae: 3.4973\n",
            "Epoch 482/500\n",
            "2/2 [==============================] - 0s 7ms/step - loss: 3.4816 - mae: 3.4816\n",
            "Epoch 483/500\n",
            "2/2 [==============================] - 0s 12ms/step - loss: 3.4707 - mae: 3.4707\n",
            "Epoch 484/500\n",
            "2/2 [==============================] - 0s 10ms/step - loss: 3.4443 - mae: 3.4443\n",
            "Epoch 485/500\n",
            "2/2 [==============================] - 0s 13ms/step - loss: 3.4336 - mae: 3.4336\n",
            "Epoch 486/500\n",
            "2/2 [==============================] - 0s 12ms/step - loss: 3.4181 - mae: 3.4181\n",
            "Epoch 487/500\n",
            "2/2 [==============================] - 0s 9ms/step - loss: 3.4086 - mae: 3.4086\n",
            "Epoch 488/500\n",
            "2/2 [==============================] - 0s 12ms/step - loss: 3.3954 - mae: 3.3954\n",
            "Epoch 489/500\n",
            "2/2 [==============================] - 0s 11ms/step - loss: 3.3830 - mae: 3.3830\n",
            "Epoch 490/500\n",
            "2/2 [==============================] - 0s 13ms/step - loss: 3.3675 - mae: 3.3675\n",
            "Epoch 491/500\n",
            "2/2 [==============================] - 0s 11ms/step - loss: 3.3688 - mae: 3.3688\n",
            "Epoch 492/500\n",
            "2/2 [==============================] - 0s 9ms/step - loss: 3.3585 - mae: 3.3585\n",
            "Epoch 493/500\n",
            "2/2 [==============================] - 0s 9ms/step - loss: 3.3357 - mae: 3.3357\n",
            "Epoch 494/500\n",
            "2/2 [==============================] - 0s 9ms/step - loss: 3.3187 - mae: 3.3187\n",
            "Epoch 495/500\n",
            "2/2 [==============================] - 0s 9ms/step - loss: 3.3095 - mae: 3.3095\n",
            "Epoch 496/500\n",
            "2/2 [==============================] - 0s 5ms/step - loss: 3.3053 - mae: 3.3053\n",
            "Epoch 497/500\n",
            "2/2 [==============================] - 0s 12ms/step - loss: 3.2975 - mae: 3.2975\n",
            "Epoch 498/500\n",
            "2/2 [==============================] - 0s 6ms/step - loss: 3.2802 - mae: 3.2802\n",
            "Epoch 499/500\n",
            "2/2 [==============================] - 0s 11ms/step - loss: 3.2706 - mae: 3.2706\n",
            "Epoch 500/500\n",
            "2/2 [==============================] - 0s 8ms/step - loss: 3.2785 - mae: 3.2785\n"
          ],
          "name": "stdout"
        },
        {
          "output_type": "execute_result",
          "data": {
            "text/plain": [
              "<tensorflow.python.keras.callbacks.History at 0x7f4790773550>"
            ]
          },
          "metadata": {
            "tags": []
          },
          "execution_count": 61
        }
      ]
    },
    {
      "cell_type": "code",
      "metadata": {
        "id": "0s9O6yxdwd2k",
        "colab": {
          "base_uri": "https://localhost:8080/"
        },
        "outputId": "c2cc0635-db42-4fec-fbfc-126dc206f3b3"
      },
      "source": [
        "y_pred_3 = model_3.predict(X_test)"
      ],
      "execution_count": 62,
      "outputs": [
        {
          "output_type": "stream",
          "text": [
            "WARNING:tensorflow:6 out of the last 9 calls to <function Model.make_predict_function.<locals>.predict_function at 0x7f479064ddd0> triggered tf.function retracing. Tracing is expensive and the excessive number of tracings could be due to (1) creating @tf.function repeatedly in a loop, (2) passing tensors with different shapes, (3) passing Python objects instead of tensors. For (1), please define your @tf.function outside of the loop. For (2), @tf.function has experimental_relax_shapes=True option that relaxes argument shapes that can avoid unnecessary retracing. For (3), please refer to https://www.tensorflow.org/guide/function#controlling_retracing and https://www.tensorflow.org/api_docs/python/tf/function for  more details.\n"
          ],
          "name": "stdout"
        }
      ]
    },
    {
      "cell_type": "code",
      "metadata": {
        "colab": {
          "base_uri": "https://localhost:8080/",
          "height": 374
        },
        "id": "MHdjrfiHtg80",
        "outputId": "857ce44f-1c11-4ae6-8b6e-5aa9323f5bb5"
      },
      "source": [
        "ploty(X_train,X_test,y_train,y_test,y_pred_3)"
      ],
      "execution_count": 63,
      "outputs": [
        {
          "output_type": "display_data",
          "data": {
            "image/png": "[encoded data removed]",
            "text/plain": [
              "<Figure size 576x432 with 1 Axes>"
            ]
          },
          "metadata": {
            "tags": [],
            "needs_background": "light"
          }
        }
      ]
    },
    {
      "cell_type": "code",
      "metadata": {
        "colab": {
          "base_uri": "https://localhost:8080/"
        },
        "id": "PQ1DABg8thNU",
        "outputId": "29612511-da67-4b64-e80c-aefcb3daf164"
      },
      "source": [
        "mae_3 = mae(y_pred=y_pred_3)\n",
        "mse_3 = mse(y_pred=y_pred_3)\n",
        "mae_3,mse_3"
      ],
      "execution_count": 64,
      "outputs": [
        {
          "output_type": "execute_result",
          "data": {
            "text/plain": [
              "(<tf.Tensor: shape=(), dtype=float32, numpy=8.695113>,\n",
              " <tf.Tensor: shape=(), dtype=float32, numpy=76.03499>)"
            ]
          },
          "metadata": {
            "tags": []
          },
          "execution_count": 64
        }
      ]
    },
    {
      "cell_type": "markdown",
      "metadata": {
        "id": "w6I7nQGzthar"
      },
      "source": [
        "###Comparing the results of our models"
      ]
    },
    {
      "cell_type": "code",
      "metadata": {
        "colab": {
          "base_uri": "https://localhost:8080/",
          "height": 142
        },
        "id": "Es6Anfqbthmc",
        "outputId": "8a01ee96-c860-4399-e482-2c92bbded0a0"
      },
      "source": [
        "#putting our models in a dataframe\n",
        "model_results = [[\"model_1\",mae_1.numpy(),mse_1.numpy()],\n",
        "                 [\"model_2\",mae_2.numpy(),mse_2.numpy()],\n",
        "                 [\"model_3\",mae_3.numpy(),mse_3.numpy()]]\n",
        "all_res = pd.DataFrame(model_results,columns=['model','mae','mse'])\n",
        "all_res"
      ],
      "execution_count": 65,
      "outputs": [
        {
          "output_type": "execute_result",
          "data": {
            "text/html": [
              "<div>\n",
              "<style scoped>\n",
              "    .dataframe tbody tr th:only-of-type {\n",
              "        vertical-align: middle;\n",
              "    }\n",
              "\n",
              "    .dataframe tbody tr th {\n",
              "        vertical-align: top;\n",
              "    }\n",
              "\n",
              "    .dataframe thead th {\n",
              "        text-align: right;\n",
              "    }\n",
              "</style>\n",
              "<table border=\"1\" class=\"dataframe\">\n",
              "  <thead>\n",
              "    <tr style=\"text-align: right;\">\n",
              "      <th></th>\n",
              "      <th>model</th>\n",
              "      <th>mae</th>\n",
              "      <th>mse</th>\n",
              "    </tr>\n",
              "  </thead>\n",
              "  <tbody>\n",
              "    <tr>\n",
              "      <th>0</th>\n",
              "      <td>model_1</td>\n",
              "      <td>58.030846</td>\n",
              "      <td>3428.979004</td>\n",
              "    </tr>\n",
              "    <tr>\n",
              "      <th>1</th>\n",
              "      <td>model_2</td>\n",
              "      <td>10.823942</td>\n",
              "      <td>125.051865</td>\n",
              "    </tr>\n",
              "    <tr>\n",
              "      <th>2</th>\n",
              "      <td>model_3</td>\n",
              "      <td>8.695113</td>\n",
              "      <td>76.034988</td>\n",
              "    </tr>\n",
              "  </tbody>\n",
              "</table>\n",
              "</div>"
            ],
            "text/plain": [
              "     model        mae          mse\n",
              "0  model_1  58.030846  3428.979004\n",
              "1  model_2  10.823942   125.051865\n",
              "2  model_3   8.695113    76.034988"
            ]
          },
          "metadata": {
            "tags": []
          },
          "execution_count": 65
        }
      ]
    },
    {
      "cell_type": "markdown",
      "metadata": {
        "id": "ylMet55Oth05"
      },
      "source": [
        "from the table **`model_3`** performed better"
      ]
    },
    {
      "cell_type": "markdown",
      "metadata": {
        "id": "FhmJ06TG22xy"
      },
      "source": [
        "###Saving our models"
      ]
    },
    {
      "cell_type": "code",
      "metadata": {
        "colab": {
          "base_uri": "https://localhost:8080/"
        },
        "id": "RJ6f9dNp3BOl",
        "outputId": "15c07a24-de53-4988-d521-0a541c0a0f35"
      },
      "source": [
        "#let us save our best model\n",
        "#firstly, we save it in savedmodel format\n",
        "model_3.save(\"my_best_model_savedmodel_format\")"
      ],
      "execution_count": 66,
      "outputs": [
        {
          "output_type": "stream",
          "text": [
            "INFO:tensorflow:Assets written to: my_best_model_savedmodel_format/assets\n"
          ],
          "name": "stdout"
        }
      ]
    },
    {
      "cell_type": "code",
      "metadata": {
        "id": "lVr7qOKp5WlJ"
      },
      "source": [
        "#lastly,we save our model in hierarchical data format hdf5\n",
        "model_3.save(\"my_model.h5\")"
      ],
      "execution_count": 67,
      "outputs": []
    },
    {
      "cell_type": "markdown",
      "metadata": {
        "id": "9qDOpZc95wxF"
      },
      "source": [
        "###loading in the saved model"
      ]
    },
    {
      "cell_type": "code",
      "metadata": {
        "colab": {
          "base_uri": "https://localhost:8080/"
        },
        "id": "fqGcIZsKClQy",
        "outputId": "89b4c705-a56c-484e-ad79-b4a633382a9b"
      },
      "source": [
        "#first we load the savedmodel format model\n",
        "new_model = tf.keras.models.load_model(\"/content/my_best_model_savedmodel_format\")\n",
        "new_model.summary()"
      ],
      "execution_count": 68,
      "outputs": [
        {
          "output_type": "stream",
          "text": [
            "Model: \"sequential_5\"\n",
            "_________________________________________________________________\n",
            "Layer (type)                 Output Shape              Param #   \n",
            "=================================================================\n",
            "dense_10 (Dense)             (None, 10)                20        \n",
            "_________________________________________________________________\n",
            "dense_11 (Dense)             (None, 1)                 11        \n",
            "=================================================================\n",
            "Total params: 31\n",
            "Trainable params: 31\n",
            "Non-trainable params: 0\n",
            "_________________________________________________________________\n"
          ],
          "name": "stdout"
        }
      ]
    },
    {
      "cell_type": "code",
      "metadata": {
        "id": "RJ7FF4IcDTYK"
      },
      "source": [
        "y_pred_new = new_model.predict(X_test)"
      ],
      "execution_count": 69,
      "outputs": []
    },
    {
      "cell_type": "code",
      "metadata": {
        "colab": {
          "base_uri": "https://localhost:8080/"
        },
        "id": "JrASypiPDeCQ",
        "outputId": "21c73dd6-deec-4c7e-c367-e47935196305"
      },
      "source": [
        "y_pred_3 == y_pred_new"
      ],
      "execution_count": 70,
      "outputs": [
        {
          "output_type": "execute_result",
          "data": {
            "text/plain": [
              "array([[ True],\n",
              "       [ True],\n",
              "       [ True],\n",
              "       [ True],\n",
              "       [ True],\n",
              "       [ True],\n",
              "       [ True],\n",
              "       [ True],\n",
              "       [ True],\n",
              "       [ True]])"
            ]
          },
          "metadata": {
            "tags": []
          },
          "execution_count": 70
        }
      ]
    },
    {
      "cell_type": "markdown",
      "metadata": {
        "id": "0kSnm4EqDjb_"
      },
      "source": [
        "watch 22!!"
      ]
    },
    {
      "cell_type": "markdown",
      "metadata": {
        "id": "Decb9jT9Dvxu"
      },
      "source": [
        "### Download a model"
      ]
    },
    {
      "cell_type": "code",
      "metadata": {
        "id": "UY3ruepvzhE1"
      },
      "source": [
        "#download the model from colab using code\n",
        "#import google colab\n",
        "from google.colab import files"
      ],
      "execution_count": 71,
      "outputs": []
    },
    {
      "cell_type": "code",
      "metadata": {
        "colab": {
          "base_uri": "https://localhost:8080/",
          "height": 34
        },
        "id": "mXHMtUND01g3",
        "outputId": "edb58830-c44f-4ccf-8578-7c3f8a92750b"
      },
      "source": [
        "#download the model in h5 format\n",
        "files.download(\"/content/my_model.h5\")"
      ],
      "execution_count": 72,
      "outputs": [
        {
          "output_type": "display_data",
          "data": {
            "application/javascript": [
              "\n",
              "    async function download(id, filename, size) {\n",
              "      if (!google.colab.kernel.accessAllowed) {\n",
              "        return;\n",
              "      }\n",
              "      const div = document.createElement('div');\n",
              "      const label = document.createElement('label');\n",
              "      label.textContent = `Downloading \"${filename}\": `;\n",
              "      div.appendChild(label);\n",
              "      const progress = document.createElement('progress');\n",
              "      progress.max = size;\n",
              "      div.appendChild(progress);\n",
              "      document.body.appendChild(div);\n",
              "\n",
              "      const buffers = [];\n",
              "      let downloaded = 0;\n",
              "\n",
              "      const channel = await google.colab.kernel.comms.open(id);\n",
              "      // Send a message to notify the kernel that we're ready.\n",
              "      channel.send({})\n",
              "\n",
              "      for await (const message of channel.messages) {\n",
              "        // Send a message to notify the kernel that we're ready.\n",
              "        channel.send({})\n",
              "        if (message.buffers) {\n",
              "          for (const buffer of message.buffers) {\n",
              "            buffers.push(buffer);\n",
              "            downloaded += buffer.byteLength;\n",
              "            progress.value = downloaded;\n",
              "          }\n",
              "        }\n",
              "      }\n",
              "      const blob = new Blob(buffers, {type: 'application/binary'});\n",
              "      const a = document.createElement('a');\n",
              "      a.href = window.URL.createObjectURL(blob);\n",
              "      a.download = filename;\n",
              "      div.appendChild(a);\n",
              "      a.click();\n",
              "      div.remove();\n",
              "    }\n",
              "  "
            ],
            "text/plain": [
              "<IPython.core.display.Javascript object>"
            ]
          },
          "metadata": {
            "tags": []
          }
        },
        {
          "output_type": "display_data",
          "data": {
            "application/javascript": [
              "download(\"download_8b085566-3cde-4413-9fb1-ddbbe71a3f9e\", \"my_model.h5\", 25536)"
            ],
            "text/plain": [
              "<IPython.core.display.Javascript object>"
            ]
          },
          "metadata": {
            "tags": []
          }
        }
      ]
    },
    {
      "cell_type": "code",
      "metadata": {
        "colab": {
          "base_uri": "https://localhost:8080/",
          "height": 34
        },
        "id": "7wmrlJ1t1GWJ",
        "outputId": "e55f2b2c-a635-4efd-9dd0-eba6fad217b4"
      },
      "source": [
        "#download the model in savedmodel format\n",
        "files.download(\"/content/my_best_model_savedmodel_format\")"
      ],
      "execution_count": 73,
      "outputs": [
        {
          "output_type": "display_data",
          "data": {
            "application/javascript": [
              "\n",
              "    async function download(id, filename, size) {\n",
              "      if (!google.colab.kernel.accessAllowed) {\n",
              "        return;\n",
              "      }\n",
              "      const div = document.createElement('div');\n",
              "      const label = document.createElement('label');\n",
              "      label.textContent = `Downloading \"${filename}\": `;\n",
              "      div.appendChild(label);\n",
              "      const progress = document.createElement('progress');\n",
              "      progress.max = size;\n",
              "      div.appendChild(progress);\n",
              "      document.body.appendChild(div);\n",
              "\n",
              "      const buffers = [];\n",
              "      let downloaded = 0;\n",
              "\n",
              "      const channel = await google.colab.kernel.comms.open(id);\n",
              "      // Send a message to notify the kernel that we're ready.\n",
              "      channel.send({})\n",
              "\n",
              "      for await (const message of channel.messages) {\n",
              "        // Send a message to notify the kernel that we're ready.\n",
              "        channel.send({})\n",
              "        if (message.buffers) {\n",
              "          for (const buffer of message.buffers) {\n",
              "            buffers.push(buffer);\n",
              "            downloaded += buffer.byteLength;\n",
              "            progress.value = downloaded;\n",
              "          }\n",
              "        }\n",
              "      }\n",
              "      const blob = new Blob(buffers, {type: 'application/binary'});\n",
              "      const a = document.createElement('a');\n",
              "      a.href = window.URL.createObjectURL(blob);\n",
              "      a.download = filename;\n",
              "      div.appendChild(a);\n",
              "      a.click();\n",
              "      div.remove();\n",
              "    }\n",
              "  "
            ],
            "text/plain": [
              "<IPython.core.display.Javascript object>"
            ]
          },
          "metadata": {
            "tags": []
          }
        },
        {
          "output_type": "display_data",
          "data": {
            "application/javascript": [
              "download(\"download_04cdc913-a38d-480e-b5cd-547fea6b114d\", \"my_best_model_savedmodel_format\", 4096)"
            ],
            "text/plain": [
              "<IPython.core.display.Javascript object>"
            ]
          },
          "metadata": {
            "tags": []
          }
        }
      ]
    },
    {
      "cell_type": "code",
      "metadata": {
        "id": "5ENzJOgJ1TPA"
      },
      "source": [
        "#download from colab to drive\n",
        "#check below"
      ],
      "execution_count": 74,
      "outputs": []
    },
    {
      "cell_type": "code",
      "metadata": {
        "id": "mY7ddrFv1lm6"
      },
      "source": [
        "!cp /content/my_model.h5  /content/drive/MyDrive"
      ],
      "execution_count": 75,
      "outputs": []
    },
    {
      "cell_type": "code",
      "metadata": {
        "colab": {
          "base_uri": "https://localhost:8080/"
        },
        "id": "QlM09UpN13kU",
        "outputId": "8f3f5f32-6491-4e5e-98cf-8fbf0a024a76"
      },
      "source": [
        "!ls"
      ],
      "execution_count": 76,
      "outputs": [
        {
          "output_type": "stream",
          "text": [
            "drive  model.png  my_best_model_savedmodel_format  my_model.h5\tsample_data\n"
          ],
          "name": "stdout"
        }
      ]
    },
    {
      "cell_type": "code",
      "metadata": {
        "colab": {
          "base_uri": "https://localhost:8080/"
        },
        "id": "gptyJTJR16NF",
        "outputId": "98a48295-8209-4122-be4e-5b53f02662cf"
      },
      "source": [
        "!ls /content/drive/MyDrive"
      ],
      "execution_count": 77,
      "outputs": [
        {
          "output_type": "stream",
          "text": [
            "'02-kendrick_lamar-for_free_(interlude).mp3'\n",
            " 03-kendrick_lamar-king_kunta.mp3\n",
            "'03 Till I Die (feat. Big Sean & Wiz.mp3'\n",
            "\"05 Don't Judge Me.mp3\"\n",
            "'05-kendrick_lamar-these_walls_(feat._bilal_anna_wise_and_thundercat).mp3'\n",
            "'08-kendrick_lamar-for_sale_(interlude).mp3'\n",
            "'08 Sweet Love.mp3'\n",
            " 1008.1510.pdf\n",
            " 1202.0447.pdf\n",
            "'18 Glow (feat. Kanye West).mp3'\n",
            " 195.pdf\n",
            " 20190525_182234.jpg\n",
            " 20190525_182240.jpg\n",
            " 20190525_204424.jpg\n",
            " 20190525_204749.jpg\n",
            " 20190525_204758.jpg\n",
            " 20190528_091449.jpg\n",
            " 20190528_102207.jpg\n",
            " 20190528_102346.jpg\n",
            " 20190528_102351.jpg\n",
            " 20190528_102519.jpg\n",
            " 20190528_102529.jpg\n",
            " 20190528_102707.jpg\n",
            " 20190530_145055.jpg\n",
            " 20190530_145102.jpg\n",
            " 20190530_145109.jpg\n",
            " 20190530_145123.jpg\n",
            " 20190530_145135.jpg\n",
            " 20190530_145137.jpg\n",
            " 20190530_150902.jpg\n",
            " 20190530_150904.jpg\n",
            " 20190530_150909.jpg\n",
            " 20190530_150912.jpg\n",
            " 20190530_150914.jpg\n",
            " 20190530_150916.jpg\n",
            " 20190530_150923.jpg\n",
            " 20190608_101544.jpg\n",
            " 20190608_101545.jpg\n",
            " 20190608_101548.jpg\n",
            "'20190608_101550(0).jpg'\n",
            " 20190608_101550.jpg\n",
            " 20190608_101556.jpg\n",
            " 20190608_101600.jpg\n",
            " 20190608_101609.jpg\n",
            " 20190608_101616.jpg\n",
            " 20190608_101649.jpg\n",
            " 20190608_101653.jpg\n",
            " 20190608_101657.jpg\n",
            " 20190608_101700.jpg\n",
            " 20190608_102940.jpg\n",
            " 20190608_102948.jpg\n",
            " 20190608_102951.jpg\n",
            " 20190608_103038.jpg\n",
            " 20190608_103040.jpg\n",
            " 20190608_103042.jpg\n",
            " 20190608_104830.jpg\n",
            " 20190608_104839.jpg\n",
            " 20190608_104840.jpg\n",
            " 20190608_104842.jpg\n",
            " 20190608_104845.jpg\n",
            " 20190608_104848.jpg\n",
            " 20190608_104852.jpg\n",
            " 20190608_104855.jpg\n",
            " 20190608_104858.jpg\n",
            " 20190608_104901.jpg\n",
            " 20190608_104903.jpg\n",
            " 20190608_104904.jpg\n",
            " 20190608_104923.jpg\n",
            " 20190608_104926.jpg\n",
            " 20190608_104957.jpg\n",
            " 20190608_104959.jpg\n",
            " 20190608_105002.jpg\n",
            " 20190608_105006.jpg\n",
            " 20190608_105012.jpg\n",
            " 20190608_105015.jpg\n",
            " 20190608_105017.jpg\n",
            " 20190608_105325.jpg\n",
            " 20190608_105330.jpg\n",
            " 20190608_105335.jpg\n",
            "'20190608_105339(0).jpg'\n",
            " 20190608_105339.jpg\n",
            " 20190608_105342.jpg\n",
            " 20190608_105617.jpg\n",
            " 20190608_105619.jpg\n",
            " 20190608_105622.jpg\n",
            " 20190608_105624.jpg\n",
            " 20190608_105646.jpg\n",
            " 20190608_105647.jpg\n",
            " 20190608_105650.jpg\n",
            " 20190608_105652.jpg\n",
            " 20190608_105654.jpg\n",
            " 20190608_105657.jpg\n",
            " 20190608_105702.jpg\n",
            " 20190608_105710.jpg\n",
            " 20190608_105729.jpg\n",
            " 20190608_105731.jpg\n",
            " 20190608_105733.jpg\n",
            " 20190608_105800.jpg\n",
            " 20190608_105801.jpg\n",
            " 20190608_110453.jpg\n",
            " 20190608_170932.jpg\n",
            " 20190608_170934.jpg\n",
            " 20190608_170937.jpg\n",
            " 20190608_170940.jpg\n",
            " 20190608_170944.jpg\n",
            " 20190610_181758.jpg\n",
            " 20190610_181808.jpg\n",
            " 20190610_181811.jpg\n",
            " 20190612_090641.jpg\n",
            " 20190614_155848.jpg\n",
            " 20190616_170837.jpg\n",
            " 20190616_170838.jpg\n",
            " 20190616_170841.jpg\n",
            " 20190616_170844.jpg\n",
            " 20190616_170846.jpg\n",
            " 20190616_171402.jpg\n",
            " 20190620_083625.jpg\n",
            " 20190620_083638.jpg\n",
            " 20190620_131927.jpg\n",
            " 20190626_090303.jpg\n",
            " 20190626_090311.jpg\n",
            " 20190626_090814.jpg\n",
            " 20190626_090818.jpg\n",
            " 20190626_090906.jpg\n",
            " 20190627_121908.jpg\n",
            " 20190627_121914.jpg\n",
            " 20190627_121948.jpg\n",
            " 20190629_162049.jpg\n",
            " 20190629_162054.jpg\n",
            " 20190629_162101.jpg\n",
            " 20190630_120256.jpg\n",
            " 20190630_120300.jpg\n",
            " 20190630_120306.jpg\n",
            " 20190630_120309.jpg\n",
            " 20190630_120326.jpg\n",
            " 20190630_120335.jpg\n",
            " 20190630_120343.jpg\n",
            " 20190630_120347.jpg\n",
            " 20190630_120350.jpg\n",
            " 20190630_143108.mp4\n",
            " 20190703_213027.jpg\n",
            " 20190703_213032.jpg\n",
            " 20190703_213040.jpg\n",
            " 20190703_213043.jpg\n",
            " 20190704_192742.jpg\n",
            " 20190704_192745.jpg\n",
            " 20190704_195037.jpg\n",
            " 20190704_195044.jpg\n",
            " 20190704_195312.jpg\n",
            " 20190704_195316.jpg\n",
            " 20190704_195319.jpg\n",
            " 20190704_200309.jpg\n",
            " 20190704_205751.jpg\n",
            " 20200912_192944.jpg\n",
            " 20200912_192946.jpg\n",
            " 20200912_193131.jpg\n",
            " 20200912_222545.jpg\n",
            " 20200914_092202.jpg\n",
            " 20200914_092211.jpg\n",
            " 20200914_194430.jpg\n",
            " 20200914_194434.jpg\n",
            " 20200914_194455.mp4\n",
            " 20200915_103729.jpg\n",
            " 20200915_103734.jpg\n",
            " 20200915_103741.jpg\n",
            " 20200915_115209.jpg\n",
            " 20200915_115213.jpg\n",
            " 20200915_115217.jpg\n",
            " 20200915_115233.jpg\n",
            " 20200915_115319.jpg\n",
            "'2 Chainz Ft. Kanye West - Birthday Song (Dirty Version) [UMD].mp3'\n",
            " 4838894.gdoc\n",
            " 4838894.pdf\n",
            "'4953983 (1).pdf'\n",
            " 4953983.pdf\n",
            " 4953984.pdf\n",
            " 4B_CTSP_Assgn2_C19-S4.docx\n",
            "'5 Core Workouts for a Stronger Core in 10 Minutes or Less'\n",
            " After.PNG\n",
            "'aimjguy cover letter port.pdf'\n",
            " A-Little-Life.epub\n",
            "'autodraw 4_23_2020 (1).png'\n",
            "'autodraw 4_23_2020.png'\n",
            "'barrier option (1).pdf'\n",
            "'barrier option (1).tex'\n",
            "'barrier option.pdf'\n",
            "'barrier option.tex'\n",
            " Bday\n",
            " book.pdf\n",
            " car-sales.csv\n",
            " Classroom\n",
            "'Colab Notebooks'\n",
            "'collaborative review (1).pdf'\n",
            "'collaborative review.pdf'\n",
            " Collaborative_Review_Task_1-2.pdf\n",
            " Contacts.vcf\n",
            "'Copy of umutoniwase p1 gahanga.jpg'\n",
            "'Cover Drive - Sparks [mp3clan.com].mp3'\n",
            "'CRT M1.pdf'\n",
            "'CTSP CRT M4 Rubric.pdf'\n",
            "'CV-ESP-Europass-20200226-Kamugisha-EN fin-analyst.pdf'\n",
            "'CV-ESP-Europass-20200226-Kamugisha-EN port.pdf'\n",
            " DeezerPremium_v6.2.1.84_mod_BestForAndroid.apk_.zip\n",
            "'Denyque summer love Mp3 Download (12.75 MB) _ Mp3Fil.info.mp3'\n",
            " differential-equations.pdf\n",
            " diploma.pdf\n",
            "'Discretionary Investment Management Definition'\n",
            "'DRAKE FEAT. KANYE WEST & JAY Z - POP STYLE).mp3'\n",
            "'Drake - Find Your Love (prod. Kanye West) [mp3clan.com].mp3'\n",
            "'Driver Licence 2018-10-09 14.44.42 (1).pdf'\n",
            "'Driver Licence 2018-10-09 14.44.42.pdf'\n",
            " dyson.pdf\n",
            " epdf.pub_data-manipulation-with-r-use-r.pdf\n",
            " epdf.pub_data-mining-for-business-applications.pdf\n",
            " epdf.pub_discrete-stochastic-processes.pdf\n",
            " epdf.pub_paul-wilmott-introduces-quantitative-finance.pdf\n",
            " epdf.pub_security-analysis.pdf\n",
            " epdf.pub_statistics-and-data-with-r.pdf\n",
            " epdf.pub_the-intelligent-investor-the-definitive-book-on-va.pdf\n",
            " epdf.pub_the-last-letter-from-your-lover.pdf\n",
            "'ethics-in-practice-casebook-2nd-edition-web (1).pdf'\n",
            " ethics-in-practice-casebook-2nd-edition-web.pdf\n",
            " Europass\n",
            "'Group Assignment - Trinomial Model.pdf'\n",
            "'Group Project 1'\n",
            "'Group Submission 2 DTSP.pdf'\n",
            " Gw3b.pdf\n",
            " Gw3b.tex\n",
            " Gw3.synctex.gz\n",
            " GWP_3-5.pdf\n",
            " GWS2.pdf\n",
            " hw4sol.pdf\n",
            " IELTS.zip\n",
            " IMG-20180715-WA0001.jpg\n",
            " IMG-20180717-WA0016.jpg\n",
            " IMG-20200121-WA0000.jpg\n",
            "'Information on skilled migration to Canada.docx'\n",
            " Ionascu_LectNotes.pdf\n",
            "'Kaaris - Zone de transit.mp3'\n",
            "'Kamugisha Ai.vcf'\n",
            " Kanye\n",
            " laplace22.pdf\n",
            "'Law of total expectation - Wikipedia'\n",
            " lec18.pdf\n",
            " lect0321.pdf\n",
            " lecture15.pdf\n",
            " Lecture18.pdf\n",
            " Lecture7.pdf\n",
            "'Leverage Definition'\n",
            "'[limetorrents.info]The.Woman.in.Cabin.10.by.Ruth.Ware.EPUB.torrent'\n",
            " M1.td4.12.pdf\n",
            " martingale.pdf\n",
            " Martingales.pdf\n",
            " Marvin\n",
            " mdp-chap3-web.pdf\n",
            "'Module 4 - Assignment.pdf'\n",
            "'Moment-generating function - Wikipedia'\n",
            " montgomery.pdf\n",
            "'Motivation - Welcome.pdf'\n",
            "'MScFE_630_Computational Finance_Syllabus.pdf'\n",
            " MT_SOL_03.pdf\n",
            " my_model.h5\n",
            "'New Doc 2018-10-20 17.58.00.pdf'\n",
            "'New Doc 2018-11-20 17.11.20.pdf'\n",
            "'New Doc 2018-12-13 15.59.08.pdf'\n",
            "'New folder'\n",
            "'Parfait cover letter avca.pdf'\n",
            " Parfait.pdf\n",
            " passport.pdf\n",
            " PHFORM476ec6f352a0a027488204aa1984e829.XLS\n",
            " PlagiarismCheckerX_Setup.exe\n",
            " Prince\n",
            "'Principles of Economics, 9th Edition By Nicholas Gregory Mankiw.pdf'\n",
            " probabilitytheoryquestions+solutions.pdf\n",
            "'refy (1).bib'\n",
            " refy.bib\n",
            " Rihanna\n",
            "'Rihanna - Talk That Talk (2011)'\n",
            " Rkelly\n",
            " rw-blr-2018-ar-00.gdoc\n",
            " Sade\n",
            "'sample (1).bib'\n",
            " sample.bib\n",
            "'Short (Short Position) Definition'\n",
            "'Standard normal table - Wikipedia'\n",
            "'Stochastic _Pear Review M4.pdf'\n",
            " sums-01-26-14.pdf\n",
            "'Symmetric probability distribution - Wikipedia'\n",
            " Sza\n",
            "'the real one.pdf'\n",
            " t_normal_mixture.pdf\n",
            " Uhm\n",
            "'umutoniwase p1 gahanga.jpg'\n",
            "'Untitled spreadsheet.gsheet'\n",
            " useful_summations.pdf\n",
            " Vid\n",
            " VID-20180622-WA0004.mp4\n",
            " VID-20180702-WA0010.mp4\n",
            " VID-20180703-WA0012.mp4\n",
            " VID-20180704-WA0003.mp4\n",
            " VID-20180706-WA0012.mp4\n",
            " VID-20180709-WA0000.mp4\n",
            " VID-20180711-WA0006.mp4\n",
            " VID-20180711-WA0007.mp4\n",
            " VID-20180713-WA0004.mp4\n",
            " VID-20180715-WA0005.mp4\n",
            " VID-20180715-WA0007.mp4\n",
            " VID-20180719-WA0000.mp4\n",
            " VID-20180803-WA0014.mp4\n",
            " VID-20180803-WA0015.mp4\n",
            " VID-20180921-WA0004.mp4\n",
            " VID-20181010-WA0013.mp4\n",
            " VID-20181012-WA0002.mp4\n",
            " VID-20181015-WA0012.mp4\n",
            " VID-20181020-WA0000.mp4\n",
            " VID-20181031-WA0001.mp4\n",
            " VID-20181102-WA0004.mp4\n",
            " VID-20181102-WA0009.mp4\n",
            " VID-20181108-WA0000.mp4\n",
            " VID-20181118-WA0008.mp4\n",
            " VID-20181207-WA0001.mp4\n",
            " VID-20181219-WA0001.mp4\n",
            " VID-20181225-WA0000.mp4\n",
            " VID-20181231-WA0005.mp4\n",
            " VID-20190102-WA0000.mp4\n",
            " VID-20190108-WA0000.mp4\n",
            " VID-20190113-WA0000.mp4\n",
            " VID-20190113-WA0002.mp4\n",
            " VID-20190131-WA0000.mp4\n",
            " VID-20190207-WA0001.mp4\n",
            " VID-20190322-WA0000.mp4\n",
            " VID-20190323-WA0002.mp4\n",
            " VID-20190327-WA0001.mp4\n",
            " VID-20190330-WA0001.mp4\n",
            " VID-20190330-WA0003.mp4\n",
            " VID-20190330-WA0005.mp4\n",
            " VID-20190330-WA0007.mp4\n",
            " VID-20190330-WA0009.mp4\n",
            " VID-20190330-WA0011.mp4\n",
            " VID-20190331-WA0000.mp4\n",
            " VID-20190401-WA0001.mp4\n",
            " VID-20190402-WA0000.mp4\n",
            " VID-20190403-WA0014.mp4\n",
            " VID-20190404-WA0003.mp4\n",
            " VID-20190406-WA0000.mp4\n",
            " VID-20190427-WA0000.mp4\n",
            " VID-20190427-WA0002.mp4\n",
            " VID-20190428-WA0007.mp4\n",
            " VID-20190428-WA0010.mp4\n",
            " VID-20190428-WA0018.mp4\n",
            " VID-20190428-WA0020.mp4\n",
            " WilliamFeller-AnIntroductionToProbabilityTheoryAndItsApplications.VolII.pdf\n",
            "'wowe (1).pdf'\n",
            "'wowe (2).pdf'\n",
            " wowe.pdf\n",
            " wowe.tex\n",
            " Yeah\n"
          ],
          "name": "stdout"
        }
      ]
    },
    {
      "cell_type": "markdown",
      "metadata": {
        "id": "2uhZk73_1_LH"
      },
      "source": [
        "### a larger example"
      ]
    },
    {
      "cell_type": "code",
      "metadata": {
        "colab": {
          "base_uri": "https://localhost:8080/",
          "height": 142
        },
        "id": "tr9jmEis2TG3",
        "outputId": "fd4697fe-9806-4526-92e2-3c525994003f"
      },
      "source": [
        "#import the data \n",
        "insurance = pd.read_csv(\"/content/drive/MyDrive/medata/insurance.csv\",low_memory=False)\n",
        "insurance.head(3)"
      ],
      "execution_count": 79,
      "outputs": [
        {
          "output_type": "execute_result",
          "data": {
            "text/html": [
              "<div>\n",
              "<style scoped>\n",
              "    .dataframe tbody tr th:only-of-type {\n",
              "        vertical-align: middle;\n",
              "    }\n",
              "\n",
              "    .dataframe tbody tr th {\n",
              "        vertical-align: top;\n",
              "    }\n",
              "\n",
              "    .dataframe thead th {\n",
              "        text-align: right;\n",
              "    }\n",
              "</style>\n",
              "<table border=\"1\" class=\"dataframe\">\n",
              "  <thead>\n",
              "    <tr style=\"text-align: right;\">\n",
              "      <th></th>\n",
              "      <th>age</th>\n",
              "      <th>sex</th>\n",
              "      <th>bmi</th>\n",
              "      <th>children</th>\n",
              "      <th>smoker</th>\n",
              "      <th>region</th>\n",
              "      <th>charges</th>\n",
              "    </tr>\n",
              "  </thead>\n",
              "  <tbody>\n",
              "    <tr>\n",
              "      <th>0</th>\n",
              "      <td>19</td>\n",
              "      <td>female</td>\n",
              "      <td>27.90</td>\n",
              "      <td>0</td>\n",
              "      <td>yes</td>\n",
              "      <td>southwest</td>\n",
              "      <td>16884.9240</td>\n",
              "    </tr>\n",
              "    <tr>\n",
              "      <th>1</th>\n",
              "      <td>18</td>\n",
              "      <td>male</td>\n",
              "      <td>33.77</td>\n",
              "      <td>1</td>\n",
              "      <td>no</td>\n",
              "      <td>southeast</td>\n",
              "      <td>1725.5523</td>\n",
              "    </tr>\n",
              "    <tr>\n",
              "      <th>2</th>\n",
              "      <td>28</td>\n",
              "      <td>male</td>\n",
              "      <td>33.00</td>\n",
              "      <td>3</td>\n",
              "      <td>no</td>\n",
              "      <td>southeast</td>\n",
              "      <td>4449.4620</td>\n",
              "    </tr>\n",
              "  </tbody>\n",
              "</table>\n",
              "</div>"
            ],
            "text/plain": [
              "   age     sex    bmi  children smoker     region     charges\n",
              "0   19  female  27.90         0    yes  southwest  16884.9240\n",
              "1   18    male  33.77         1     no  southeast   1725.5523\n",
              "2   28    male  33.00         3     no  southeast   4449.4620"
            ]
          },
          "metadata": {
            "tags": []
          },
          "execution_count": 79
        }
      ]
    },
    {
      "cell_type": "code",
      "metadata": {
        "id": "A_pIzpl94q7k"
      },
      "source": [
        "insurance.shape"
      ],
      "execution_count": null,
      "outputs": []
    },
    {
      "cell_type": "code",
      "metadata": {
        "id": "jmKFF4fY4yP5"
      },
      "source": [
        "insurance.info()"
      ],
      "execution_count": null,
      "outputs": []
    },
    {
      "cell_type": "code",
      "metadata": {
        "id": "hWz_yg1L42RI"
      },
      "source": [
        "insurance.isna().sum()"
      ],
      "execution_count": null,
      "outputs": []
    },
    {
      "cell_type": "code",
      "metadata": {
        "id": "BHcjTyEY4_j6"
      },
      "source": [
        "pd.api.types.is_categorical(insurance[\"region\"])"
      ],
      "execution_count": null,
      "outputs": []
    },
    {
      "cell_type": "code",
      "metadata": {
        "id": "1uvQQMT_5o6n"
      },
      "source": [
        "np.unique(pd.Categorical(insurance[\"region\"]).codes,return_counts=True)"
      ],
      "execution_count": null,
      "outputs": []
    },
    {
      "cell_type": "code",
      "metadata": {
        "id": "g_jubfqm5z5J"
      },
      "source": [
        "insurance[\"region\"].value_counts()"
      ],
      "execution_count": null,
      "outputs": []
    },
    {
      "cell_type": "code",
      "metadata": {
        "id": "-pDmvXzl95EK"
      },
      "source": [
        "def preprocessing(df):\n",
        "    #convert categorical to numeric and fill missing values with median\n",
        "    for key,value in df.items():\n",
        "        if not pd.api.types.is_numeric_dtype(value):\n",
        "            df[key] = pd.Categorical(value).codes \n",
        "    return df "
      ],
      "execution_count": 83,
      "outputs": []
    },
    {
      "cell_type": "code",
      "metadata": {
        "colab": {
          "base_uri": "https://localhost:8080/",
          "height": 142
        },
        "id": "q-W-iwM9_Plq",
        "outputId": "73cfb334-1ada-406a-f0a2-95e705a8cbd6"
      },
      "source": [
        "df2 = preprocessing(insurance)\n",
        "df2.head(3)"
      ],
      "execution_count": 84,
      "outputs": [
        {
          "output_type": "execute_result",
          "data": {
            "text/html": [
              "<div>\n",
              "<style scoped>\n",
              "    .dataframe tbody tr th:only-of-type {\n",
              "        vertical-align: middle;\n",
              "    }\n",
              "\n",
              "    .dataframe tbody tr th {\n",
              "        vertical-align: top;\n",
              "    }\n",
              "\n",
              "    .dataframe thead th {\n",
              "        text-align: right;\n",
              "    }\n",
              "</style>\n",
              "<table border=\"1\" class=\"dataframe\">\n",
              "  <thead>\n",
              "    <tr style=\"text-align: right;\">\n",
              "      <th></th>\n",
              "      <th>age</th>\n",
              "      <th>sex</th>\n",
              "      <th>bmi</th>\n",
              "      <th>children</th>\n",
              "      <th>smoker</th>\n",
              "      <th>region</th>\n",
              "      <th>charges</th>\n",
              "    </tr>\n",
              "  </thead>\n",
              "  <tbody>\n",
              "    <tr>\n",
              "      <th>0</th>\n",
              "      <td>19</td>\n",
              "      <td>0</td>\n",
              "      <td>27.90</td>\n",
              "      <td>0</td>\n",
              "      <td>1</td>\n",
              "      <td>3</td>\n",
              "      <td>16884.9240</td>\n",
              "    </tr>\n",
              "    <tr>\n",
              "      <th>1</th>\n",
              "      <td>18</td>\n",
              "      <td>1</td>\n",
              "      <td>33.77</td>\n",
              "      <td>1</td>\n",
              "      <td>0</td>\n",
              "      <td>2</td>\n",
              "      <td>1725.5523</td>\n",
              "    </tr>\n",
              "    <tr>\n",
              "      <th>2</th>\n",
              "      <td>28</td>\n",
              "      <td>1</td>\n",
              "      <td>33.00</td>\n",
              "      <td>3</td>\n",
              "      <td>0</td>\n",
              "      <td>2</td>\n",
              "      <td>4449.4620</td>\n",
              "    </tr>\n",
              "  </tbody>\n",
              "</table>\n",
              "</div>"
            ],
            "text/plain": [
              "   age  sex    bmi  children  smoker  region     charges\n",
              "0   19    0  27.90         0       1       3  16884.9240\n",
              "1   18    1  33.77         1       0       2   1725.5523\n",
              "2   28    1  33.00         3       0       2   4449.4620"
            ]
          },
          "metadata": {
            "tags": []
          },
          "execution_count": 84
        }
      ]
    },
    {
      "cell_type": "code",
      "metadata": {
        "id": "QVRjf6EE_WeF"
      },
      "source": [
        "pd.Categorical(insurance[\"sex\"]).codes"
      ],
      "execution_count": null,
      "outputs": []
    },
    {
      "cell_type": "code",
      "metadata": {
        "id": "LJejOImF_w3Q"
      },
      "source": [
        "df2[\"region\"].value_counts()"
      ],
      "execution_count": null,
      "outputs": []
    },
    {
      "cell_type": "code",
      "metadata": {
        "colab": {
          "base_uri": "https://localhost:8080/",
          "height": 224
        },
        "id": "Js6K-TZVAM5R",
        "outputId": "ddd359ed-39d6-4d5c-fca2-1223988c7352"
      },
      "source": [
        "#turn our data to numerical using get_dummy method from pandas\n",
        "insurance_one = pd.get_dummies(insurance)\n",
        "insurance_one.head()"
      ],
      "execution_count": 80,
      "outputs": [
        {
          "output_type": "execute_result",
          "data": {
            "text/html": [
              "<div>\n",
              "<style scoped>\n",
              "    .dataframe tbody tr th:only-of-type {\n",
              "        vertical-align: middle;\n",
              "    }\n",
              "\n",
              "    .dataframe tbody tr th {\n",
              "        vertical-align: top;\n",
              "    }\n",
              "\n",
              "    .dataframe thead th {\n",
              "        text-align: right;\n",
              "    }\n",
              "</style>\n",
              "<table border=\"1\" class=\"dataframe\">\n",
              "  <thead>\n",
              "    <tr style=\"text-align: right;\">\n",
              "      <th></th>\n",
              "      <th>age</th>\n",
              "      <th>bmi</th>\n",
              "      <th>children</th>\n",
              "      <th>charges</th>\n",
              "      <th>sex_female</th>\n",
              "      <th>sex_male</th>\n",
              "      <th>smoker_no</th>\n",
              "      <th>smoker_yes</th>\n",
              "      <th>region_northeast</th>\n",
              "      <th>region_northwest</th>\n",
              "      <th>region_southeast</th>\n",
              "      <th>region_southwest</th>\n",
              "    </tr>\n",
              "  </thead>\n",
              "  <tbody>\n",
              "    <tr>\n",
              "      <th>0</th>\n",
              "      <td>19</td>\n",
              "      <td>27.900</td>\n",
              "      <td>0</td>\n",
              "      <td>16884.92400</td>\n",
              "      <td>1</td>\n",
              "      <td>0</td>\n",
              "      <td>0</td>\n",
              "      <td>1</td>\n",
              "      <td>0</td>\n",
              "      <td>0</td>\n",
              "      <td>0</td>\n",
              "      <td>1</td>\n",
              "    </tr>\n",
              "    <tr>\n",
              "      <th>1</th>\n",
              "      <td>18</td>\n",
              "      <td>33.770</td>\n",
              "      <td>1</td>\n",
              "      <td>1725.55230</td>\n",
              "      <td>0</td>\n",
              "      <td>1</td>\n",
              "      <td>1</td>\n",
              "      <td>0</td>\n",
              "      <td>0</td>\n",
              "      <td>0</td>\n",
              "      <td>1</td>\n",
              "      <td>0</td>\n",
              "    </tr>\n",
              "    <tr>\n",
              "      <th>2</th>\n",
              "      <td>28</td>\n",
              "      <td>33.000</td>\n",
              "      <td>3</td>\n",
              "      <td>4449.46200</td>\n",
              "      <td>0</td>\n",
              "      <td>1</td>\n",
              "      <td>1</td>\n",
              "      <td>0</td>\n",
              "      <td>0</td>\n",
              "      <td>0</td>\n",
              "      <td>1</td>\n",
              "      <td>0</td>\n",
              "    </tr>\n",
              "    <tr>\n",
              "      <th>3</th>\n",
              "      <td>33</td>\n",
              "      <td>22.705</td>\n",
              "      <td>0</td>\n",
              "      <td>21984.47061</td>\n",
              "      <td>0</td>\n",
              "      <td>1</td>\n",
              "      <td>1</td>\n",
              "      <td>0</td>\n",
              "      <td>0</td>\n",
              "      <td>1</td>\n",
              "      <td>0</td>\n",
              "      <td>0</td>\n",
              "    </tr>\n",
              "    <tr>\n",
              "      <th>4</th>\n",
              "      <td>32</td>\n",
              "      <td>28.880</td>\n",
              "      <td>0</td>\n",
              "      <td>3866.85520</td>\n",
              "      <td>0</td>\n",
              "      <td>1</td>\n",
              "      <td>1</td>\n",
              "      <td>0</td>\n",
              "      <td>0</td>\n",
              "      <td>1</td>\n",
              "      <td>0</td>\n",
              "      <td>0</td>\n",
              "    </tr>\n",
              "  </tbody>\n",
              "</table>\n",
              "</div>"
            ],
            "text/plain": [
              "   age     bmi  children  ...  region_northwest  region_southeast  region_southwest\n",
              "0   19  27.900         0  ...                 0                 0                 1\n",
              "1   18  33.770         1  ...                 0                 1                 0\n",
              "2   28  33.000         3  ...                 0                 1                 0\n",
              "3   33  22.705         0  ...                 1                 0                 0\n",
              "4   32  28.880         0  ...                 1                 0                 0\n",
              "\n",
              "[5 rows x 12 columns]"
            ]
          },
          "metadata": {
            "tags": []
          },
          "execution_count": 80
        }
      ]
    },
    {
      "cell_type": "code",
      "metadata": {
        "id": "EkYncLkABILd"
      },
      "source": [
        "feat = insurance_one.drop(\"charges\",axis=1)\n",
        "target = insurance_one[\"charges\"]"
      ],
      "execution_count": null,
      "outputs": []
    },
    {
      "cell_type": "code",
      "metadata": {
        "id": "JKLDhC05CEzZ"
      },
      "source": [
        "feat.head()"
      ],
      "execution_count": null,
      "outputs": []
    },
    {
      "cell_type": "code",
      "metadata": {
        "id": "czRCiUEcCG1Q"
      },
      "source": [
        "target[:15]"
      ],
      "execution_count": null,
      "outputs": []
    },
    {
      "cell_type": "code",
      "metadata": {
        "id": "O4WM-DauCLli"
      },
      "source": [
        "X = feat.to_numpy()\n",
        "X"
      ],
      "execution_count": null,
      "outputs": []
    },
    {
      "cell_type": "code",
      "metadata": {
        "id": "keXiDiHzCWnl"
      },
      "source": [
        "X = tf.constant(X,dtype=tf.float32)\n",
        "X"
      ],
      "execution_count": null,
      "outputs": []
    },
    {
      "cell_type": "code",
      "metadata": {
        "id": "O5J056Z_CjZ9"
      },
      "source": [
        "y = tf.constant(target,dtype=tf.float32)\n",
        "y"
      ],
      "execution_count": null,
      "outputs": []
    },
    {
      "cell_type": "code",
      "metadata": {
        "id": "u4p5-fU4IPY2"
      },
      "source": [
        "X[:round(len(X)*0.8)]"
      ],
      "execution_count": null,
      "outputs": []
    },
    {
      "cell_type": "code",
      "metadata": {
        "id": "WEjpm7CQHugR"
      },
      "source": [
        "#split data\n",
        "X_train = X[:round(len(X)*0.8)]\n",
        "X_test = X[len(X_train):]\n",
        "y_train = y[:round(len(y)*0.8)]\n",
        "y_test = y[len(y_train):]\n",
        "X_train.shape,X_test.shape,y_train.shape,y_test.shape"
      ],
      "execution_count": null,
      "outputs": []
    },
    {
      "cell_type": "code",
      "metadata": {
        "id": "BZyXXvRWIqqB"
      },
      "source": [
        "len(X) == (len(X_test)+len(X_train))"
      ],
      "execution_count": null,
      "outputs": []
    },
    {
      "cell_type": "code",
      "metadata": {
        "id": "wKajwH7VI1wV"
      },
      "source": [
        "tf.random.set_seed(42)\n",
        "#create our first model\n",
        "model_ins = tf.keras.Sequential([\n",
        "                                 tf.keras.layers.Dense(10),\n",
        "                                 tf.keras.layers.Dense(1)\n",
        "])\n",
        "#compile our model\n",
        "model_ins.compile(loss= tf.keras.losses.mae,\n",
        "                  optimizer= tf.keras.optimizers.SGD(),\n",
        "                  metrics=[\"mae\"])\n",
        "#fit our model\n",
        "model_ins.fit(X_train,y_train,epochs=100)"
      ],
      "execution_count": null,
      "outputs": []
    },
    {
      "cell_type": "code",
      "metadata": {
        "id": "03YtXQNFJv3f"
      },
      "source": [
        "from sklearn.model_selection import train_test_split"
      ],
      "execution_count": 85,
      "outputs": []
    },
    {
      "cell_type": "code",
      "metadata": {
        "id": "kN5QDKPbL52t"
      },
      "source": [
        "XX_train,XX_test,yy_train,yy_test = train_test_split(X.numpy(),y.numpy(),test_size=0.2,random_state=42) "
      ],
      "execution_count": null,
      "outputs": []
    },
    {
      "cell_type": "code",
      "metadata": {
        "id": "68yv4hOkPT8F"
      },
      "source": [
        "XX_train.shape,XX_test.shape,yy_train.shape,yy_test.shape"
      ],
      "execution_count": null,
      "outputs": []
    },
    {
      "cell_type": "code",
      "metadata": {
        "id": "8rZ_gH9GQSMI"
      },
      "source": [
        "XX_train = tf.constant(XX_train,dtype=tf.float32)\n",
        "XX_test = tf.constant(XX_test,dtype=tf.float32)\n",
        "yy_train = tf.constant(yy_train,dtype=tf.float32)\n",
        "yy_test = tf.constant(yy_test,dtype=tf.float32)"
      ],
      "execution_count": null,
      "outputs": []
    },
    {
      "cell_type": "code",
      "metadata": {
        "id": "dZEe3JL5RUNO"
      },
      "source": [
        "XX_test"
      ],
      "execution_count": null,
      "outputs": []
    },
    {
      "cell_type": "code",
      "metadata": {
        "id": "bxnxogQ8PonN"
      },
      "source": [
        "tf.random.set_seed(42)\n",
        "#create our first model\n",
        "model_ins_1 = tf.keras.Sequential([\n",
        "                                 tf.keras.layers.Dense(100),\n",
        "                                #  tf.keras.layers.Dense(100),\n",
        "                                 tf.keras.layers.Dense(1)\n",
        "])\n",
        "#compile our model\n",
        "model_ins_1.compile(loss= tf.keras.losses.mae,\n",
        "                  optimizer= tf.keras.optimizers.SGD(),\n",
        "                  metrics=[\"mae\"])\n",
        "#fit our model\n",
        "model_ins_1.fit(XX_train,yy_train,epochs=100)"
      ],
      "execution_count": null,
      "outputs": []
    },
    {
      "cell_type": "code",
      "metadata": {
        "id": "aNBCmyE9QMfc"
      },
      "source": [
        "model_ins_1.evaluate(XX_test,yy_test)"
      ],
      "execution_count": null,
      "outputs": []
    },
    {
      "cell_type": "markdown",
      "metadata": {
        "id": "em8rXIapSD70"
      },
      "source": [
        "### Improve our model"
      ]
    },
    {
      "cell_type": "code",
      "metadata": {
        "id": "38_xK988UrIc"
      },
      "source": [
        "tf.random.set_seed(42)\n",
        "#create the model\n",
        "model_ins_2 = tf.keras.Sequential([\n",
        "                                   tf.keras.layers.Dense(50,activation=\"relu\"),\n",
        "                                   tf.keras.layers.Dense(50,activation=\"relu\"),\n",
        "                                   tf.keras.layers.Dense(50,activation=\"relu\"),\n",
        "                                   tf.keras.layers.Dense(1),\n",
        "])\n",
        "#compile the model\n",
        "model_ins_2.compile(loss = tf.keras.losses.mae,\n",
        "                    optimizer = tf.keras.optimizers.Adam(),\n",
        "                    metrics=[\"mae\"])\n",
        "#fit the model\n",
        "history = model_ins_2.fit(XX_train,yy_train,epochs=150)"
      ],
      "execution_count": null,
      "outputs": []
    },
    {
      "cell_type": "code",
      "metadata": {
        "id": "2X4XMW7BV-Rn"
      },
      "source": [
        "model_ins_2.evaluate(XX_test,yy_test)"
      ],
      "execution_count": null,
      "outputs": []
    },
    {
      "cell_type": "code",
      "metadata": {
        "id": "Chw888a9WKFe"
      },
      "source": [
        "pd.DataFrame(history.history).plot()\n",
        "plt.ylabel(\"mae\")\n",
        "plt.xlabel(\"epochs\")"
      ],
      "execution_count": null,
      "outputs": []
    },
    {
      "cell_type": "markdown",
      "metadata": {
        "id": "4mtbo6R6a-cH"
      },
      "source": [
        "###Preprocessing data (Normalization and standardization)"
      ]
    },
    {
      "cell_type": "code",
      "metadata": {
        "id": "DPiJlyNPlujz"
      },
      "source": [
        "from sklearn.preprocessing import MinMaxScaler"
      ],
      "execution_count": null,
      "outputs": []
    },
    {
      "cell_type": "code",
      "metadata": {
        "colab": {
          "base_uri": "https://localhost:8080/",
          "height": 439
        },
        "id": "UfaZMvrsnx_0",
        "outputId": "30e89d46-ce3d-4512-a682-321981b294a4"
      },
      "source": [
        "insurance_one"
      ],
      "execution_count": 81,
      "outputs": [
        {
          "output_type": "execute_result",
          "data": {
            "text/html": [
              "<div>\n",
              "<style scoped>\n",
              "    .dataframe tbody tr th:only-of-type {\n",
              "        vertical-align: middle;\n",
              "    }\n",
              "\n",
              "    .dataframe tbody tr th {\n",
              "        vertical-align: top;\n",
              "    }\n",
              "\n",
              "    .dataframe thead th {\n",
              "        text-align: right;\n",
              "    }\n",
              "</style>\n",
              "<table border=\"1\" class=\"dataframe\">\n",
              "  <thead>\n",
              "    <tr style=\"text-align: right;\">\n",
              "      <th></th>\n",
              "      <th>age</th>\n",
              "      <th>bmi</th>\n",
              "      <th>children</th>\n",
              "      <th>charges</th>\n",
              "      <th>sex_female</th>\n",
              "      <th>sex_male</th>\n",
              "      <th>smoker_no</th>\n",
              "      <th>smoker_yes</th>\n",
              "      <th>region_northeast</th>\n",
              "      <th>region_northwest</th>\n",
              "      <th>region_southeast</th>\n",
              "      <th>region_southwest</th>\n",
              "    </tr>\n",
              "  </thead>\n",
              "  <tbody>\n",
              "    <tr>\n",
              "      <th>0</th>\n",
              "      <td>19</td>\n",
              "      <td>27.900</td>\n",
              "      <td>0</td>\n",
              "      <td>16884.92400</td>\n",
              "      <td>1</td>\n",
              "      <td>0</td>\n",
              "      <td>0</td>\n",
              "      <td>1</td>\n",
              "      <td>0</td>\n",
              "      <td>0</td>\n",
              "      <td>0</td>\n",
              "      <td>1</td>\n",
              "    </tr>\n",
              "    <tr>\n",
              "      <th>1</th>\n",
              "      <td>18</td>\n",
              "      <td>33.770</td>\n",
              "      <td>1</td>\n",
              "      <td>1725.55230</td>\n",
              "      <td>0</td>\n",
              "      <td>1</td>\n",
              "      <td>1</td>\n",
              "      <td>0</td>\n",
              "      <td>0</td>\n",
              "      <td>0</td>\n",
              "      <td>1</td>\n",
              "      <td>0</td>\n",
              "    </tr>\n",
              "    <tr>\n",
              "      <th>2</th>\n",
              "      <td>28</td>\n",
              "      <td>33.000</td>\n",
              "      <td>3</td>\n",
              "      <td>4449.46200</td>\n",
              "      <td>0</td>\n",
              "      <td>1</td>\n",
              "      <td>1</td>\n",
              "      <td>0</td>\n",
              "      <td>0</td>\n",
              "      <td>0</td>\n",
              "      <td>1</td>\n",
              "      <td>0</td>\n",
              "    </tr>\n",
              "    <tr>\n",
              "      <th>3</th>\n",
              "      <td>33</td>\n",
              "      <td>22.705</td>\n",
              "      <td>0</td>\n",
              "      <td>21984.47061</td>\n",
              "      <td>0</td>\n",
              "      <td>1</td>\n",
              "      <td>1</td>\n",
              "      <td>0</td>\n",
              "      <td>0</td>\n",
              "      <td>1</td>\n",
              "      <td>0</td>\n",
              "      <td>0</td>\n",
              "    </tr>\n",
              "    <tr>\n",
              "      <th>4</th>\n",
              "      <td>32</td>\n",
              "      <td>28.880</td>\n",
              "      <td>0</td>\n",
              "      <td>3866.85520</td>\n",
              "      <td>0</td>\n",
              "      <td>1</td>\n",
              "      <td>1</td>\n",
              "      <td>0</td>\n",
              "      <td>0</td>\n",
              "      <td>1</td>\n",
              "      <td>0</td>\n",
              "      <td>0</td>\n",
              "    </tr>\n",
              "    <tr>\n",
              "      <th>...</th>\n",
              "      <td>...</td>\n",
              "      <td>...</td>\n",
              "      <td>...</td>\n",
              "      <td>...</td>\n",
              "      <td>...</td>\n",
              "      <td>...</td>\n",
              "      <td>...</td>\n",
              "      <td>...</td>\n",
              "      <td>...</td>\n",
              "      <td>...</td>\n",
              "      <td>...</td>\n",
              "      <td>...</td>\n",
              "    </tr>\n",
              "    <tr>\n",
              "      <th>1333</th>\n",
              "      <td>50</td>\n",
              "      <td>30.970</td>\n",
              "      <td>3</td>\n",
              "      <td>10600.54830</td>\n",
              "      <td>0</td>\n",
              "      <td>1</td>\n",
              "      <td>1</td>\n",
              "      <td>0</td>\n",
              "      <td>0</td>\n",
              "      <td>1</td>\n",
              "      <td>0</td>\n",
              "      <td>0</td>\n",
              "    </tr>\n",
              "    <tr>\n",
              "      <th>1334</th>\n",
              "      <td>18</td>\n",
              "      <td>31.920</td>\n",
              "      <td>0</td>\n",
              "      <td>2205.98080</td>\n",
              "      <td>1</td>\n",
              "      <td>0</td>\n",
              "      <td>1</td>\n",
              "      <td>0</td>\n",
              "      <td>1</td>\n",
              "      <td>0</td>\n",
              "      <td>0</td>\n",
              "      <td>0</td>\n",
              "    </tr>\n",
              "    <tr>\n",
              "      <th>1335</th>\n",
              "      <td>18</td>\n",
              "      <td>36.850</td>\n",
              "      <td>0</td>\n",
              "      <td>1629.83350</td>\n",
              "      <td>1</td>\n",
              "      <td>0</td>\n",
              "      <td>1</td>\n",
              "      <td>0</td>\n",
              "      <td>0</td>\n",
              "      <td>0</td>\n",
              "      <td>1</td>\n",
              "      <td>0</td>\n",
              "    </tr>\n",
              "    <tr>\n",
              "      <th>1336</th>\n",
              "      <td>21</td>\n",
              "      <td>25.800</td>\n",
              "      <td>0</td>\n",
              "      <td>2007.94500</td>\n",
              "      <td>1</td>\n",
              "      <td>0</td>\n",
              "      <td>1</td>\n",
              "      <td>0</td>\n",
              "      <td>0</td>\n",
              "      <td>0</td>\n",
              "      <td>0</td>\n",
              "      <td>1</td>\n",
              "    </tr>\n",
              "    <tr>\n",
              "      <th>1337</th>\n",
              "      <td>61</td>\n",
              "      <td>29.070</td>\n",
              "      <td>0</td>\n",
              "      <td>29141.36030</td>\n",
              "      <td>1</td>\n",
              "      <td>0</td>\n",
              "      <td>0</td>\n",
              "      <td>1</td>\n",
              "      <td>0</td>\n",
              "      <td>1</td>\n",
              "      <td>0</td>\n",
              "      <td>0</td>\n",
              "    </tr>\n",
              "  </tbody>\n",
              "</table>\n",
              "<p>1338 rows × 12 columns</p>\n",
              "</div>"
            ],
            "text/plain": [
              "      age     bmi  ...  region_southeast  region_southwest\n",
              "0      19  27.900  ...                 0                 1\n",
              "1      18  33.770  ...                 1                 0\n",
              "2      28  33.000  ...                 1                 0\n",
              "3      33  22.705  ...                 0                 0\n",
              "4      32  28.880  ...                 0                 0\n",
              "...   ...     ...  ...               ...               ...\n",
              "1333   50  30.970  ...                 0                 0\n",
              "1334   18  31.920  ...                 0                 0\n",
              "1335   18  36.850  ...                 1                 0\n",
              "1336   21  25.800  ...                 0                 1\n",
              "1337   61  29.070  ...                 0                 0\n",
              "\n",
              "[1338 rows x 12 columns]"
            ]
          },
          "metadata": {
            "tags": []
          },
          "execution_count": 81
        }
      ]
    },
    {
      "cell_type": "code",
      "metadata": {
        "colab": {
          "base_uri": "https://localhost:8080/"
        },
        "id": "x7CKFQfXn4h7",
        "outputId": "56223903-0fa0-482d-e393-6c6753b2d442"
      },
      "source": [
        "feat = insurance_one.drop(\"charges\",axis=1)\n",
        "target = insurance_one[\"charges\"]\n",
        "X_train,X_test,y_train,y_test = train_test_split(feat,target,test_size=0.2,random_state=42) \n",
        "X_train.shape,X_test.shape,y_train.shape,y_test.shape"
      ],
      "execution_count": 86,
      "outputs": [
        {
          "output_type": "execute_result",
          "data": {
            "text/plain": [
              "((1070, 11), (268, 11), (1070,), (268,))"
            ]
          },
          "metadata": {
            "tags": []
          },
          "execution_count": 86
        }
      ]
    },
    {
      "cell_type": "code",
      "metadata": {
        "colab": {
          "base_uri": "https://localhost:8080/",
          "height": 439
        },
        "id": "MENzA5sVqkSt",
        "outputId": "e4e3be91-05c7-4a17-996a-b277650e7777"
      },
      "source": [
        "X_train"
      ],
      "execution_count": 88,
      "outputs": [
        {
          "output_type": "execute_result",
          "data": {
            "text/html": [
              "<div>\n",
              "<style scoped>\n",
              "    .dataframe tbody tr th:only-of-type {\n",
              "        vertical-align: middle;\n",
              "    }\n",
              "\n",
              "    .dataframe tbody tr th {\n",
              "        vertical-align: top;\n",
              "    }\n",
              "\n",
              "    .dataframe thead th {\n",
              "        text-align: right;\n",
              "    }\n",
              "</style>\n",
              "<table border=\"1\" class=\"dataframe\">\n",
              "  <thead>\n",
              "    <tr style=\"text-align: right;\">\n",
              "      <th></th>\n",
              "      <th>age</th>\n",
              "      <th>bmi</th>\n",
              "      <th>children</th>\n",
              "      <th>sex_female</th>\n",
              "      <th>sex_male</th>\n",
              "      <th>smoker_no</th>\n",
              "      <th>smoker_yes</th>\n",
              "      <th>region_northeast</th>\n",
              "      <th>region_northwest</th>\n",
              "      <th>region_southeast</th>\n",
              "      <th>region_southwest</th>\n",
              "    </tr>\n",
              "  </thead>\n",
              "  <tbody>\n",
              "    <tr>\n",
              "      <th>560</th>\n",
              "      <td>46</td>\n",
              "      <td>19.950</td>\n",
              "      <td>2</td>\n",
              "      <td>1</td>\n",
              "      <td>0</td>\n",
              "      <td>1</td>\n",
              "      <td>0</td>\n",
              "      <td>0</td>\n",
              "      <td>1</td>\n",
              "      <td>0</td>\n",
              "      <td>0</td>\n",
              "    </tr>\n",
              "    <tr>\n",
              "      <th>1285</th>\n",
              "      <td>47</td>\n",
              "      <td>24.320</td>\n",
              "      <td>0</td>\n",
              "      <td>1</td>\n",
              "      <td>0</td>\n",
              "      <td>1</td>\n",
              "      <td>0</td>\n",
              "      <td>1</td>\n",
              "      <td>0</td>\n",
              "      <td>0</td>\n",
              "      <td>0</td>\n",
              "    </tr>\n",
              "    <tr>\n",
              "      <th>1142</th>\n",
              "      <td>52</td>\n",
              "      <td>24.860</td>\n",
              "      <td>0</td>\n",
              "      <td>1</td>\n",
              "      <td>0</td>\n",
              "      <td>1</td>\n",
              "      <td>0</td>\n",
              "      <td>0</td>\n",
              "      <td>0</td>\n",
              "      <td>1</td>\n",
              "      <td>0</td>\n",
              "    </tr>\n",
              "    <tr>\n",
              "      <th>969</th>\n",
              "      <td>39</td>\n",
              "      <td>34.320</td>\n",
              "      <td>5</td>\n",
              "      <td>1</td>\n",
              "      <td>0</td>\n",
              "      <td>1</td>\n",
              "      <td>0</td>\n",
              "      <td>0</td>\n",
              "      <td>0</td>\n",
              "      <td>1</td>\n",
              "      <td>0</td>\n",
              "    </tr>\n",
              "    <tr>\n",
              "      <th>486</th>\n",
              "      <td>54</td>\n",
              "      <td>21.470</td>\n",
              "      <td>3</td>\n",
              "      <td>1</td>\n",
              "      <td>0</td>\n",
              "      <td>1</td>\n",
              "      <td>0</td>\n",
              "      <td>0</td>\n",
              "      <td>1</td>\n",
              "      <td>0</td>\n",
              "      <td>0</td>\n",
              "    </tr>\n",
              "    <tr>\n",
              "      <th>...</th>\n",
              "      <td>...</td>\n",
              "      <td>...</td>\n",
              "      <td>...</td>\n",
              "      <td>...</td>\n",
              "      <td>...</td>\n",
              "      <td>...</td>\n",
              "      <td>...</td>\n",
              "      <td>...</td>\n",
              "      <td>...</td>\n",
              "      <td>...</td>\n",
              "      <td>...</td>\n",
              "    </tr>\n",
              "    <tr>\n",
              "      <th>1095</th>\n",
              "      <td>18</td>\n",
              "      <td>31.350</td>\n",
              "      <td>4</td>\n",
              "      <td>1</td>\n",
              "      <td>0</td>\n",
              "      <td>1</td>\n",
              "      <td>0</td>\n",
              "      <td>1</td>\n",
              "      <td>0</td>\n",
              "      <td>0</td>\n",
              "      <td>0</td>\n",
              "    </tr>\n",
              "    <tr>\n",
              "      <th>1130</th>\n",
              "      <td>39</td>\n",
              "      <td>23.870</td>\n",
              "      <td>5</td>\n",
              "      <td>1</td>\n",
              "      <td>0</td>\n",
              "      <td>1</td>\n",
              "      <td>0</td>\n",
              "      <td>0</td>\n",
              "      <td>0</td>\n",
              "      <td>1</td>\n",
              "      <td>0</td>\n",
              "    </tr>\n",
              "    <tr>\n",
              "      <th>1294</th>\n",
              "      <td>58</td>\n",
              "      <td>25.175</td>\n",
              "      <td>0</td>\n",
              "      <td>0</td>\n",
              "      <td>1</td>\n",
              "      <td>1</td>\n",
              "      <td>0</td>\n",
              "      <td>1</td>\n",
              "      <td>0</td>\n",
              "      <td>0</td>\n",
              "      <td>0</td>\n",
              "    </tr>\n",
              "    <tr>\n",
              "      <th>860</th>\n",
              "      <td>37</td>\n",
              "      <td>47.600</td>\n",
              "      <td>2</td>\n",
              "      <td>1</td>\n",
              "      <td>0</td>\n",
              "      <td>0</td>\n",
              "      <td>1</td>\n",
              "      <td>0</td>\n",
              "      <td>0</td>\n",
              "      <td>0</td>\n",
              "      <td>1</td>\n",
              "    </tr>\n",
              "    <tr>\n",
              "      <th>1126</th>\n",
              "      <td>55</td>\n",
              "      <td>29.900</td>\n",
              "      <td>0</td>\n",
              "      <td>0</td>\n",
              "      <td>1</td>\n",
              "      <td>1</td>\n",
              "      <td>0</td>\n",
              "      <td>0</td>\n",
              "      <td>0</td>\n",
              "      <td>0</td>\n",
              "      <td>1</td>\n",
              "    </tr>\n",
              "  </tbody>\n",
              "</table>\n",
              "<p>1070 rows × 11 columns</p>\n",
              "</div>"
            ],
            "text/plain": [
              "      age     bmi  ...  region_southeast  region_southwest\n",
              "560    46  19.950  ...                 0                 0\n",
              "1285   47  24.320  ...                 0                 0\n",
              "1142   52  24.860  ...                 1                 0\n",
              "969    39  34.320  ...                 1                 0\n",
              "486    54  21.470  ...                 0                 0\n",
              "...   ...     ...  ...               ...               ...\n",
              "1095   18  31.350  ...                 0                 0\n",
              "1130   39  23.870  ...                 1                 0\n",
              "1294   58  25.175  ...                 0                 0\n",
              "860    37  47.600  ...                 0                 1\n",
              "1126   55  29.900  ...                 0                 1\n",
              "\n",
              "[1070 rows x 11 columns]"
            ]
          },
          "metadata": {
            "tags": []
          },
          "execution_count": 88
        }
      ]
    },
    {
      "cell_type": "code",
      "metadata": {
        "colab": {
          "base_uri": "https://localhost:8080/"
        },
        "id": "4JVRpFrsqQbN",
        "outputId": "fc04fe6b-43d8-4dfe-c2a8-b4c77f465f20"
      },
      "source": [
        "scaler = MinMaxScaler()\n",
        "X_train_scaled = scaler.fit_transform(X_train)\n",
        "X_train_scaled"
      ],
      "execution_count": 90,
      "outputs": [
        {
          "output_type": "execute_result",
          "data": {
            "text/plain": [
              "array([[0.60869565, 0.10734463, 0.4       , ..., 1.        , 0.        ,\n",
              "        0.        ],\n",
              "       [0.63043478, 0.22491256, 0.        , ..., 0.        , 0.        ,\n",
              "        0.        ],\n",
              "       [0.73913043, 0.23944041, 0.        , ..., 0.        , 1.        ,\n",
              "        0.        ],\n",
              "       ...,\n",
              "       [0.86956522, 0.24791499, 0.        , ..., 0.        , 0.        ,\n",
              "        0.        ],\n",
              "       [0.41304348, 0.85122411, 0.4       , ..., 0.        , 0.        ,\n",
              "        1.        ],\n",
              "       [0.80434783, 0.37503363, 0.        , ..., 0.        , 0.        ,\n",
              "        1.        ]])"
            ]
          },
          "metadata": {
            "tags": []
          },
          "execution_count": 90
        }
      ]
    },
    {
      "cell_type": "code",
      "metadata": {
        "colab": {
          "base_uri": "https://localhost:8080/"
        },
        "id": "QDYfzN-LqbhG",
        "outputId": "e2d75b4a-a7da-47da-9cc2-482a406ca528"
      },
      "source": [
        "X_test_scaled = scaler.transform(X_test)\n",
        "X_test_scaled"
      ],
      "execution_count": 91,
      "outputs": [
        {
          "output_type": "execute_result",
          "data": {
            "text/plain": [
              "array([[0.58695652, 0.24791499, 0.4       , ..., 0.        , 0.        ,\n",
              "        0.        ],\n",
              "       [0.39130435, 0.37826204, 0.        , ..., 1.        , 0.        ,\n",
              "        0.        ],\n",
              "       [1.        , 0.29391983, 0.        , ..., 1.        , 0.        ,\n",
              "        0.        ],\n",
              "       ...,\n",
              "       [0.43478261, 0.32458972, 0.2       , ..., 0.        , 0.        ,\n",
              "        0.        ],\n",
              "       [0.7826087 , 0.84611246, 0.        , ..., 0.        , 1.        ,\n",
              "        0.        ],\n",
              "       [0.7173913 , 0.49071832, 0.2       , ..., 0.        , 0.        ,\n",
              "        1.        ]])"
            ]
          },
          "metadata": {
            "tags": []
          },
          "execution_count": 91
        }
      ]
    },
    {
      "cell_type": "code",
      "metadata": {
        "colab": {
          "base_uri": "https://localhost:8080/"
        },
        "id": "vCIPO3auq8IQ",
        "outputId": "b00dd30b-dae9-4797-c747-3338dfb45f87"
      },
      "source": [
        "tf.random.set_seed(42)\n",
        "#create the model\n",
        "mod_scaled = tf.keras.Sequential([\n",
        "                                   tf.keras.layers.Dense(50,activation=\"relu\"),\n",
        "                                   tf.keras.layers.Dense(50,activation=\"relu\"),\n",
        "                                   tf.keras.layers.Dense(50,activation=\"relu\"),\n",
        "                                   tf.keras.layers.Dense(1),\n",
        "])\n",
        "#compile the model\n",
        "mod_scaled.compile(loss = tf.keras.losses.mae,\n",
        "                    optimizer = tf.keras.optimizers.Adam(),\n",
        "                    metrics=[\"mae\"])\n",
        "#fit the model\n",
        "history = mod_scaled.fit(X_train,y_train,epochs=150)"
      ],
      "execution_count": 92,
      "outputs": [
        {
          "output_type": "stream",
          "text": [
            "Epoch 1/150\n",
            "34/34 [==============================] - 1s 3ms/step - loss: 13327.1826 - mae: 13327.1826\n",
            "Epoch 2/150\n",
            "34/34 [==============================] - 0s 3ms/step - loss: 13197.6719 - mae: 13197.6719\n",
            "Epoch 3/150\n",
            "34/34 [==============================] - 0s 3ms/step - loss: 12529.7002 - mae: 12529.7002\n",
            "Epoch 4/150\n",
            "34/34 [==============================] - 0s 3ms/step - loss: 10223.0732 - mae: 10223.0732\n",
            "Epoch 5/150\n",
            "34/34 [==============================] - 0s 3ms/step - loss: 7643.3804 - mae: 7643.3804\n",
            "Epoch 6/150\n",
            "34/34 [==============================] - 0s 3ms/step - loss: 7408.9355 - mae: 7408.9355\n",
            "Epoch 7/150\n",
            "34/34 [==============================] - 0s 3ms/step - loss: 7355.2192 - mae: 7355.2192\n",
            "Epoch 8/150\n",
            "34/34 [==============================] - 0s 3ms/step - loss: 7315.1528 - mae: 7315.1528\n",
            "Epoch 9/150\n",
            "34/34 [==============================] - 0s 3ms/step - loss: 7274.5786 - mae: 7274.5786\n",
            "Epoch 10/150\n",
            "34/34 [==============================] - 0s 3ms/step - loss: 7234.4971 - mae: 7234.4971\n",
            "Epoch 11/150\n",
            "34/34 [==============================] - 0s 3ms/step - loss: 7198.6704 - mae: 7198.6704\n",
            "Epoch 12/150\n",
            "34/34 [==============================] - 0s 3ms/step - loss: 7149.1079 - mae: 7149.1079\n",
            "Epoch 13/150\n",
            "34/34 [==============================] - 0s 3ms/step - loss: 7101.7344 - mae: 7101.7344\n",
            "Epoch 14/150\n",
            "34/34 [==============================] - 0s 3ms/step - loss: 7054.0552 - mae: 7054.0552\n",
            "Epoch 15/150\n",
            "34/34 [==============================] - 0s 3ms/step - loss: 7012.6616 - mae: 7012.6616\n",
            "Epoch 16/150\n",
            "34/34 [==============================] - 0s 3ms/step - loss: 6958.3130 - mae: 6958.3130\n",
            "Epoch 17/150\n",
            "34/34 [==============================] - 0s 3ms/step - loss: 6911.9424 - mae: 6911.9424\n",
            "Epoch 18/150\n",
            "34/34 [==============================] - 0s 3ms/step - loss: 6854.7817 - mae: 6854.7817\n",
            "Epoch 19/150\n",
            "34/34 [==============================] - 0s 3ms/step - loss: 6798.7988 - mae: 6798.7988\n",
            "Epoch 20/150\n",
            "34/34 [==============================] - 0s 4ms/step - loss: 6742.9219 - mae: 6742.9219\n",
            "Epoch 21/150\n",
            "34/34 [==============================] - 0s 3ms/step - loss: 6687.6201 - mae: 6687.6201\n",
            "Epoch 22/150\n",
            "34/34 [==============================] - 0s 3ms/step - loss: 6649.7593 - mae: 6649.7593\n",
            "Epoch 23/150\n",
            "34/34 [==============================] - 0s 3ms/step - loss: 6597.7896 - mae: 6597.7896\n",
            "Epoch 24/150\n",
            "34/34 [==============================] - 0s 3ms/step - loss: 6561.9458 - mae: 6561.9458\n",
            "Epoch 25/150\n",
            "34/34 [==============================] - 0s 3ms/step - loss: 6518.6470 - mae: 6518.6470\n",
            "Epoch 26/150\n",
            "34/34 [==============================] - 0s 3ms/step - loss: 6497.1069 - mae: 6497.1069\n",
            "Epoch 27/150\n",
            "34/34 [==============================] - 0s 3ms/step - loss: 6476.2588 - mae: 6476.2588\n",
            "Epoch 28/150\n",
            "34/34 [==============================] - 0s 3ms/step - loss: 6445.6401 - mae: 6445.6401\n",
            "Epoch 29/150\n",
            "34/34 [==============================] - 0s 3ms/step - loss: 6423.2812 - mae: 6423.2812\n",
            "Epoch 30/150\n",
            "34/34 [==============================] - 0s 3ms/step - loss: 6404.3193 - mae: 6404.3193\n",
            "Epoch 31/150\n",
            "34/34 [==============================] - 0s 3ms/step - loss: 6377.6558 - mae: 6377.6558\n",
            "Epoch 32/150\n",
            "34/34 [==============================] - 0s 3ms/step - loss: 6350.0679 - mae: 6350.0679\n",
            "Epoch 33/150\n",
            "34/34 [==============================] - 0s 3ms/step - loss: 6321.1421 - mae: 6321.1421\n",
            "Epoch 34/150\n",
            "34/34 [==============================] - 0s 3ms/step - loss: 6298.9727 - mae: 6298.9727\n",
            "Epoch 35/150\n",
            "34/34 [==============================] - 0s 3ms/step - loss: 6262.4043 - mae: 6262.4043\n",
            "Epoch 36/150\n",
            "34/34 [==============================] - 0s 3ms/step - loss: 6237.9497 - mae: 6237.9497\n",
            "Epoch 37/150\n",
            "34/34 [==============================] - 0s 3ms/step - loss: 6203.5947 - mae: 6203.5947\n",
            "Epoch 38/150\n",
            "34/34 [==============================] - 0s 3ms/step - loss: 6164.7368 - mae: 6164.7368\n",
            "Epoch 39/150\n",
            "34/34 [==============================] - 0s 3ms/step - loss: 6134.3838 - mae: 6134.3838\n",
            "Epoch 40/150\n",
            "34/34 [==============================] - 0s 3ms/step - loss: 6079.9463 - mae: 6079.9463\n",
            "Epoch 41/150\n",
            "34/34 [==============================] - 0s 3ms/step - loss: 6033.8018 - mae: 6033.8018\n",
            "Epoch 42/150\n",
            "34/34 [==============================] - 0s 3ms/step - loss: 5977.4375 - mae: 5977.4375\n",
            "Epoch 43/150\n",
            "34/34 [==============================] - 0s 3ms/step - loss: 5928.1294 - mae: 5928.1294\n",
            "Epoch 44/150\n",
            "34/34 [==============================] - 0s 3ms/step - loss: 5853.5435 - mae: 5853.5435\n",
            "Epoch 45/150\n",
            "34/34 [==============================] - 0s 3ms/step - loss: 5788.9292 - mae: 5788.9292\n",
            "Epoch 46/150\n",
            "34/34 [==============================] - 0s 3ms/step - loss: 5730.6982 - mae: 5730.6982\n",
            "Epoch 47/150\n",
            "34/34 [==============================] - 0s 3ms/step - loss: 5658.6353 - mae: 5658.6353\n",
            "Epoch 48/150\n",
            "34/34 [==============================] - 0s 3ms/step - loss: 5570.7061 - mae: 5570.7061\n",
            "Epoch 49/150\n",
            "34/34 [==============================] - 0s 3ms/step - loss: 5447.5684 - mae: 5447.5684\n",
            "Epoch 50/150\n",
            "34/34 [==============================] - 0s 3ms/step - loss: 5330.9077 - mae: 5330.9077\n",
            "Epoch 51/150\n",
            "34/34 [==============================] - 0s 3ms/step - loss: 5222.2661 - mae: 5222.2661\n",
            "Epoch 52/150\n",
            "34/34 [==============================] - 0s 3ms/step - loss: 5075.6528 - mae: 5075.6528\n",
            "Epoch 53/150\n",
            "34/34 [==============================] - 0s 3ms/step - loss: 4915.5806 - mae: 4915.5806\n",
            "Epoch 54/150\n",
            "34/34 [==============================] - 0s 3ms/step - loss: 4735.3003 - mae: 4735.3003\n",
            "Epoch 55/150\n",
            "34/34 [==============================] - 0s 3ms/step - loss: 4515.0063 - mae: 4515.0063\n",
            "Epoch 56/150\n",
            "34/34 [==============================] - 0s 3ms/step - loss: 4302.5596 - mae: 4302.5596\n",
            "Epoch 57/150\n",
            "34/34 [==============================] - 0s 3ms/step - loss: 4086.8420 - mae: 4086.8420\n",
            "Epoch 58/150\n",
            "34/34 [==============================] - 0s 3ms/step - loss: 3899.8926 - mae: 3899.8926\n",
            "Epoch 59/150\n",
            "34/34 [==============================] - 0s 3ms/step - loss: 3748.5588 - mae: 3748.5588\n",
            "Epoch 60/150\n",
            "34/34 [==============================] - 0s 3ms/step - loss: 3643.2319 - mae: 3643.2319\n",
            "Epoch 61/150\n",
            "34/34 [==============================] - 0s 3ms/step - loss: 3590.1306 - mae: 3590.1306\n",
            "Epoch 62/150\n",
            "34/34 [==============================] - 0s 3ms/step - loss: 3523.0740 - mae: 3523.0740\n",
            "Epoch 63/150\n",
            "34/34 [==============================] - 0s 3ms/step - loss: 3481.5740 - mae: 3481.5740\n",
            "Epoch 64/150\n",
            "34/34 [==============================] - 0s 3ms/step - loss: 3447.2520 - mae: 3447.2520\n",
            "Epoch 65/150\n",
            "34/34 [==============================] - 0s 3ms/step - loss: 3435.0884 - mae: 3435.0884\n",
            "Epoch 66/150\n",
            "34/34 [==============================] - 0s 3ms/step - loss: 3416.9604 - mae: 3416.9604\n",
            "Epoch 67/150\n",
            "34/34 [==============================] - 0s 3ms/step - loss: 3383.3091 - mae: 3383.3091\n",
            "Epoch 68/150\n",
            "34/34 [==============================] - 0s 3ms/step - loss: 3391.0720 - mae: 3391.0720\n",
            "Epoch 69/150\n",
            "34/34 [==============================] - 0s 3ms/step - loss: 3350.7766 - mae: 3350.7766\n",
            "Epoch 70/150\n",
            "34/34 [==============================] - 0s 3ms/step - loss: 3344.6489 - mae: 3344.6489\n",
            "Epoch 71/150\n",
            "34/34 [==============================] - 0s 3ms/step - loss: 3327.7976 - mae: 3327.7976\n",
            "Epoch 72/150\n",
            "34/34 [==============================] - 0s 3ms/step - loss: 3300.8445 - mae: 3300.8445\n",
            "Epoch 73/150\n",
            "34/34 [==============================] - 0s 3ms/step - loss: 3285.5801 - mae: 3285.5801\n",
            "Epoch 74/150\n",
            "34/34 [==============================] - 0s 3ms/step - loss: 3256.0776 - mae: 3256.0776\n",
            "Epoch 75/150\n",
            "34/34 [==============================] - 0s 3ms/step - loss: 3247.7009 - mae: 3247.7009\n",
            "Epoch 76/150\n",
            "34/34 [==============================] - 0s 3ms/step - loss: 3222.8262 - mae: 3222.8262\n",
            "Epoch 77/150\n",
            "34/34 [==============================] - 0s 3ms/step - loss: 3222.1716 - mae: 3222.1716\n",
            "Epoch 78/150\n",
            "34/34 [==============================] - 0s 3ms/step - loss: 3199.8833 - mae: 3199.8833\n",
            "Epoch 79/150\n",
            "34/34 [==============================] - 0s 3ms/step - loss: 3184.1614 - mae: 3184.1614\n",
            "Epoch 80/150\n",
            "34/34 [==============================] - 0s 3ms/step - loss: 3161.1719 - mae: 3161.1719\n",
            "Epoch 81/150\n",
            "34/34 [==============================] - 0s 4ms/step - loss: 3140.8252 - mae: 3140.8252\n",
            "Epoch 82/150\n",
            "34/34 [==============================] - 0s 3ms/step - loss: 3132.1235 - mae: 3132.1235\n",
            "Epoch 83/150\n",
            "34/34 [==============================] - 0s 3ms/step - loss: 3101.2390 - mae: 3101.2390\n",
            "Epoch 84/150\n",
            "34/34 [==============================] - 0s 3ms/step - loss: 3080.6870 - mae: 3080.6870\n",
            "Epoch 85/150\n",
            "34/34 [==============================] - 0s 3ms/step - loss: 3048.9592 - mae: 3048.9592\n",
            "Epoch 86/150\n",
            "34/34 [==============================] - 0s 3ms/step - loss: 3014.1567 - mae: 3014.1567\n",
            "Epoch 87/150\n",
            "34/34 [==============================] - 0s 3ms/step - loss: 2994.4946 - mae: 2994.4946\n",
            "Epoch 88/150\n",
            "34/34 [==============================] - 0s 3ms/step - loss: 2969.9128 - mae: 2969.9128\n",
            "Epoch 89/150\n",
            "34/34 [==============================] - 0s 3ms/step - loss: 2940.1821 - mae: 2940.1821\n",
            "Epoch 90/150\n",
            "34/34 [==============================] - 0s 3ms/step - loss: 2913.1128 - mae: 2913.1128\n",
            "Epoch 91/150\n",
            "34/34 [==============================] - 0s 3ms/step - loss: 2890.7107 - mae: 2890.7107\n",
            "Epoch 92/150\n",
            "34/34 [==============================] - 0s 3ms/step - loss: 2889.0925 - mae: 2889.0925\n",
            "Epoch 93/150\n",
            "34/34 [==============================] - 0s 4ms/step - loss: 2856.9231 - mae: 2856.9231\n",
            "Epoch 94/150\n",
            "34/34 [==============================] - 0s 3ms/step - loss: 2852.3967 - mae: 2852.3967\n",
            "Epoch 95/150\n",
            "34/34 [==============================] - 0s 3ms/step - loss: 2810.7695 - mae: 2810.7695\n",
            "Epoch 96/150\n",
            "34/34 [==============================] - 0s 4ms/step - loss: 2811.6548 - mae: 2811.6548\n",
            "Epoch 97/150\n",
            "34/34 [==============================] - 0s 3ms/step - loss: 2837.4797 - mae: 2837.4797\n",
            "Epoch 98/150\n",
            "34/34 [==============================] - 0s 3ms/step - loss: 2791.2361 - mae: 2791.2361\n",
            "Epoch 99/150\n",
            "34/34 [==============================] - 0s 3ms/step - loss: 2780.4543 - mae: 2780.4543\n",
            "Epoch 100/150\n",
            "34/34 [==============================] - 0s 3ms/step - loss: 2765.5264 - mae: 2765.5264\n",
            "Epoch 101/150\n",
            "34/34 [==============================] - 0s 3ms/step - loss: 2757.1116 - mae: 2757.1116\n",
            "Epoch 102/150\n",
            "34/34 [==============================] - 0s 3ms/step - loss: 2757.4368 - mae: 2757.4368\n",
            "Epoch 103/150\n",
            "34/34 [==============================] - 0s 3ms/step - loss: 2748.1870 - mae: 2748.1870\n",
            "Epoch 104/150\n",
            "34/34 [==============================] - 0s 3ms/step - loss: 2743.5286 - mae: 2743.5286\n",
            "Epoch 105/150\n",
            "34/34 [==============================] - 0s 3ms/step - loss: 2747.0938 - mae: 2747.0938\n",
            "Epoch 106/150\n",
            "34/34 [==============================] - 0s 3ms/step - loss: 2730.9238 - mae: 2730.9238\n",
            "Epoch 107/150\n",
            "34/34 [==============================] - 0s 3ms/step - loss: 2739.2615 - mae: 2739.2615\n",
            "Epoch 108/150\n",
            "34/34 [==============================] - 0s 3ms/step - loss: 2738.4392 - mae: 2738.4392\n",
            "Epoch 109/150\n",
            "34/34 [==============================] - 0s 4ms/step - loss: 2722.8723 - mae: 2722.8723\n",
            "Epoch 110/150\n",
            "34/34 [==============================] - 0s 3ms/step - loss: 2707.8938 - mae: 2707.8938\n",
            "Epoch 111/150\n",
            "34/34 [==============================] - 0s 3ms/step - loss: 2715.1321 - mae: 2715.1321\n",
            "Epoch 112/150\n",
            "34/34 [==============================] - 0s 3ms/step - loss: 2705.5354 - mae: 2705.5354\n",
            "Epoch 113/150\n",
            "34/34 [==============================] - 0s 3ms/step - loss: 2707.3708 - mae: 2707.3708\n",
            "Epoch 114/150\n",
            "34/34 [==============================] - 0s 3ms/step - loss: 2707.5056 - mae: 2707.5056\n",
            "Epoch 115/150\n",
            "34/34 [==============================] - 0s 3ms/step - loss: 2707.4189 - mae: 2707.4189\n",
            "Epoch 116/150\n",
            "34/34 [==============================] - 0s 3ms/step - loss: 2683.8247 - mae: 2683.8247\n",
            "Epoch 117/150\n",
            "34/34 [==============================] - 0s 3ms/step - loss: 2693.6604 - mae: 2693.6604\n",
            "Epoch 118/150\n",
            "34/34 [==============================] - 0s 3ms/step - loss: 2702.7031 - mae: 2702.7031\n",
            "Epoch 119/150\n",
            "34/34 [==============================] - 0s 3ms/step - loss: 2666.9500 - mae: 2666.9500\n",
            "Epoch 120/150\n",
            "34/34 [==============================] - 0s 3ms/step - loss: 2670.7815 - mae: 2670.7815\n",
            "Epoch 121/150\n",
            "34/34 [==============================] - 0s 3ms/step - loss: 2657.3259 - mae: 2657.3259\n",
            "Epoch 122/150\n",
            "34/34 [==============================] - 0s 3ms/step - loss: 2658.0295 - mae: 2658.0295\n",
            "Epoch 123/150\n",
            "34/34 [==============================] - 0s 3ms/step - loss: 2644.5278 - mae: 2644.5278\n",
            "Epoch 124/150\n",
            "34/34 [==============================] - 0s 3ms/step - loss: 2635.8855 - mae: 2635.8855\n",
            "Epoch 125/150\n",
            "34/34 [==============================] - 0s 3ms/step - loss: 2645.9387 - mae: 2645.9387\n",
            "Epoch 126/150\n",
            "34/34 [==============================] - 0s 3ms/step - loss: 2649.2034 - mae: 2649.2034\n",
            "Epoch 127/150\n",
            "34/34 [==============================] - 0s 3ms/step - loss: 2630.2214 - mae: 2630.2214\n",
            "Epoch 128/150\n",
            "34/34 [==============================] - 0s 3ms/step - loss: 2632.0720 - mae: 2632.0720\n",
            "Epoch 129/150\n",
            "34/34 [==============================] - 0s 3ms/step - loss: 2629.0764 - mae: 2629.0764\n",
            "Epoch 130/150\n",
            "34/34 [==============================] - 0s 3ms/step - loss: 2621.5369 - mae: 2621.5369\n",
            "Epoch 131/150\n",
            "34/34 [==============================] - 0s 3ms/step - loss: 2620.3882 - mae: 2620.3882\n",
            "Epoch 132/150\n",
            "34/34 [==============================] - 0s 3ms/step - loss: 2610.0750 - mae: 2610.0750\n",
            "Epoch 133/150\n",
            "34/34 [==============================] - 0s 3ms/step - loss: 2600.8042 - mae: 2600.8042\n",
            "Epoch 134/150\n",
            "34/34 [==============================] - 0s 3ms/step - loss: 2594.3638 - mae: 2594.3638\n",
            "Epoch 135/150\n",
            "34/34 [==============================] - 0s 3ms/step - loss: 2595.9668 - mae: 2595.9668\n",
            "Epoch 136/150\n",
            "34/34 [==============================] - 0s 4ms/step - loss: 2583.7141 - mae: 2583.7141\n",
            "Epoch 137/150\n",
            "34/34 [==============================] - 0s 3ms/step - loss: 2577.1482 - mae: 2577.1482\n",
            "Epoch 138/150\n",
            "34/34 [==============================] - 0s 3ms/step - loss: 2578.0876 - mae: 2578.0876\n",
            "Epoch 139/150\n",
            "34/34 [==============================] - 0s 3ms/step - loss: 2576.2561 - mae: 2576.2561\n",
            "Epoch 140/150\n",
            "34/34 [==============================] - 0s 3ms/step - loss: 2581.4431 - mae: 2581.4431\n",
            "Epoch 141/150\n",
            "34/34 [==============================] - 0s 3ms/step - loss: 2574.0540 - mae: 2574.0540\n",
            "Epoch 142/150\n",
            "34/34 [==============================] - 0s 3ms/step - loss: 2568.4299 - mae: 2568.4299\n",
            "Epoch 143/150\n",
            "34/34 [==============================] - 0s 3ms/step - loss: 2571.9084 - mae: 2571.9084\n",
            "Epoch 144/150\n",
            "34/34 [==============================] - 0s 4ms/step - loss: 2549.4719 - mae: 2549.4719\n",
            "Epoch 145/150\n",
            "34/34 [==============================] - 0s 3ms/step - loss: 2555.2373 - mae: 2555.2373\n",
            "Epoch 146/150\n",
            "34/34 [==============================] - 0s 3ms/step - loss: 2545.6997 - mae: 2545.6997\n",
            "Epoch 147/150\n",
            "34/34 [==============================] - 0s 3ms/step - loss: 2564.9927 - mae: 2564.9927\n",
            "Epoch 148/150\n",
            "34/34 [==============================] - 0s 3ms/step - loss: 2523.3333 - mae: 2523.3333\n",
            "Epoch 149/150\n",
            "34/34 [==============================] - 0s 3ms/step - loss: 2514.6301 - mae: 2514.6301\n",
            "Epoch 150/150\n",
            "34/34 [==============================] - 0s 3ms/step - loss: 2514.0823 - mae: 2514.0823\n"
          ],
          "name": "stdout"
        }
      ]
    },
    {
      "cell_type": "code",
      "metadata": {
        "colab": {
          "base_uri": "https://localhost:8080/"
        },
        "id": "8eL8MNPzrZwE",
        "outputId": "dc074271-3b60-4386-dcd1-55b97066a3c0"
      },
      "source": [
        "mod_scaled.evaluate(X_test,y_test)"
      ],
      "execution_count": 93,
      "outputs": [
        {
          "output_type": "stream",
          "text": [
            "9/9 [==============================] - 0s 3ms/step - loss: 2302.6401 - mae: 2302.6401\n"
          ],
          "name": "stdout"
        },
        {
          "output_type": "execute_result",
          "data": {
            "text/plain": [
              "[2302.64013671875, 2302.64013671875]"
            ]
          },
          "metadata": {
            "tags": []
          },
          "execution_count": 93
        }
      ]
    },
    {
      "cell_type": "code",
      "metadata": {
        "id": "mdHSqSP5rqGn"
      },
      "source": [
        ""
      ],
      "execution_count": null,
      "outputs": []
    },
    {
      "cell_type": "code",
      "metadata": {
        "colab": {
          "base_uri": "https://localhost:8080/"
        },
        "id": "4KED-cHrtuoA",
        "outputId": "6ffd978d-cc2a-4b1d-f685-9ca77710e643"
      },
      "source": [
        "tf.random.set_seed(42)\n",
        "#let's create a callback\n",
        "callback = tf.keras.callbacks.EarlyStopping(monitor=\"loss\",patience=15)\n",
        "#create the model\n",
        "mod_scaled_1 = tf.keras.Sequential([\n",
        "                                   tf.keras.layers.Dense(50,activation=\"relu\"),\n",
        "                                   tf.keras.layers.Dense(50,activation=\"relu\"),\n",
        "                                   tf.keras.layers.Dense(50,activation=\"relu\"),\n",
        "                                   tf.keras.layers.Dense(50,activation=\"relu\"),\n",
        "                                   tf.keras.layers.Dense(1),\n",
        "])\n",
        "#compile the model\n",
        "mod_scaled_1.compile(loss = tf.keras.losses.mae,\n",
        "                    optimizer = tf.keras.optimizers.Adam(),\n",
        "                    metrics=[\"mae\"])\n",
        "#fit the model\n",
        "history1 = mod_scaled_1.fit(X_train_scaled,y_train,epochs=150,callbacks=[callback])"
      ],
      "execution_count": 101,
      "outputs": [
        {
          "output_type": "stream",
          "text": [
            "Epoch 1/150\n",
            "34/34 [==============================] - 1s 3ms/step - loss: 13344.1621 - mae: 13344.1621\n",
            "Epoch 2/150\n",
            "34/34 [==============================] - 0s 3ms/step - loss: 13304.2197 - mae: 13304.2197\n",
            "Epoch 3/150\n",
            "34/34 [==============================] - 0s 3ms/step - loss: 12813.5850 - mae: 12813.5850\n",
            "Epoch 4/150\n",
            "34/34 [==============================] - 0s 3ms/step - loss: 10157.4785 - mae: 10157.4785\n",
            "Epoch 5/150\n",
            "34/34 [==============================] - 0s 3ms/step - loss: 8065.5503 - mae: 8065.5503\n",
            "Epoch 6/150\n",
            "34/34 [==============================] - 0s 3ms/step - loss: 7818.6914 - mae: 7818.6914\n",
            "Epoch 7/150\n",
            "34/34 [==============================] - 0s 3ms/step - loss: 7508.6719 - mae: 7508.6719\n",
            "Epoch 8/150\n",
            "34/34 [==============================] - 0s 3ms/step - loss: 7193.1108 - mae: 7193.1108\n",
            "Epoch 9/150\n",
            "34/34 [==============================] - 0s 3ms/step - loss: 6811.9629 - mae: 6811.9629\n",
            "Epoch 10/150\n",
            "34/34 [==============================] - 0s 3ms/step - loss: 6303.2349 - mae: 6303.2349\n",
            "Epoch 11/150\n",
            "34/34 [==============================] - 0s 3ms/step - loss: 5633.8828 - mae: 5633.8828\n",
            "Epoch 12/150\n",
            "34/34 [==============================] - 0s 3ms/step - loss: 4830.4712 - mae: 4830.4712\n",
            "Epoch 13/150\n",
            "34/34 [==============================] - 0s 3ms/step - loss: 4209.0444 - mae: 4209.0444\n",
            "Epoch 14/150\n",
            "34/34 [==============================] - 0s 3ms/step - loss: 3789.3271 - mae: 3789.3271\n",
            "Epoch 15/150\n",
            "34/34 [==============================] - 0s 3ms/step - loss: 3524.6870 - mae: 3524.6870\n",
            "Epoch 16/150\n",
            "34/34 [==============================] - 0s 3ms/step - loss: 3414.4829 - mae: 3414.4829\n",
            "Epoch 17/150\n",
            "34/34 [==============================] - 0s 3ms/step - loss: 3381.9126 - mae: 3381.9126\n",
            "Epoch 18/150\n",
            "34/34 [==============================] - 0s 3ms/step - loss: 3308.2539 - mae: 3308.2539\n",
            "Epoch 19/150\n",
            "34/34 [==============================] - 0s 3ms/step - loss: 3270.0496 - mae: 3270.0496\n",
            "Epoch 20/150\n",
            "34/34 [==============================] - 0s 3ms/step - loss: 3239.0461 - mae: 3239.0461\n",
            "Epoch 21/150\n",
            "34/34 [==============================] - 0s 3ms/step - loss: 3215.6433 - mae: 3215.6433\n",
            "Epoch 22/150\n",
            "34/34 [==============================] - 0s 3ms/step - loss: 3214.3877 - mae: 3214.3877\n",
            "Epoch 23/150\n",
            "34/34 [==============================] - 0s 3ms/step - loss: 3211.9497 - mae: 3211.9497\n",
            "Epoch 24/150\n",
            "34/34 [==============================] - 0s 3ms/step - loss: 3198.2224 - mae: 3198.2224\n",
            "Epoch 25/150\n",
            "34/34 [==============================] - 0s 3ms/step - loss: 3227.6729 - mae: 3227.6729\n",
            "Epoch 26/150\n",
            "34/34 [==============================] - 0s 4ms/step - loss: 3200.2083 - mae: 3200.2083\n",
            "Epoch 27/150\n",
            "34/34 [==============================] - 0s 3ms/step - loss: 3204.8442 - mae: 3204.8442\n",
            "Epoch 28/150\n",
            "34/34 [==============================] - 0s 3ms/step - loss: 3183.8823 - mae: 3183.8823\n",
            "Epoch 29/150\n",
            "34/34 [==============================] - 0s 3ms/step - loss: 3172.5754 - mae: 3172.5754\n",
            "Epoch 30/150\n",
            "34/34 [==============================] - 0s 3ms/step - loss: 3162.2400 - mae: 3162.2400\n",
            "Epoch 31/150\n",
            "34/34 [==============================] - 0s 3ms/step - loss: 3166.2339 - mae: 3166.2339\n",
            "Epoch 32/150\n",
            "34/34 [==============================] - 0s 3ms/step - loss: 3160.5554 - mae: 3160.5554\n",
            "Epoch 33/150\n",
            "34/34 [==============================] - 0s 3ms/step - loss: 3157.3062 - mae: 3157.3062\n",
            "Epoch 34/150\n",
            "34/34 [==============================] - 0s 3ms/step - loss: 3178.0178 - mae: 3178.0178\n",
            "Epoch 35/150\n",
            "34/34 [==============================] - 0s 3ms/step - loss: 3142.7778 - mae: 3142.7778\n",
            "Epoch 36/150\n",
            "34/34 [==============================] - 0s 4ms/step - loss: 3133.9583 - mae: 3133.9583\n",
            "Epoch 37/150\n",
            "34/34 [==============================] - 0s 3ms/step - loss: 3130.9851 - mae: 3130.9851\n",
            "Epoch 38/150\n",
            "34/34 [==============================] - 0s 3ms/step - loss: 3137.5471 - mae: 3137.5471\n",
            "Epoch 39/150\n",
            "34/34 [==============================] - 0s 3ms/step - loss: 3128.6169 - mae: 3128.6169\n",
            "Epoch 40/150\n",
            "34/34 [==============================] - 0s 3ms/step - loss: 3119.3723 - mae: 3119.3723\n",
            "Epoch 41/150\n",
            "34/34 [==============================] - 0s 3ms/step - loss: 3125.8523 - mae: 3125.8523\n",
            "Epoch 42/150\n",
            "34/34 [==============================] - 0s 3ms/step - loss: 3119.9478 - mae: 3119.9478\n",
            "Epoch 43/150\n",
            "34/34 [==============================] - 0s 3ms/step - loss: 3109.2954 - mae: 3109.2954\n",
            "Epoch 44/150\n",
            "34/34 [==============================] - 0s 3ms/step - loss: 3093.9568 - mae: 3093.9568\n",
            "Epoch 45/150\n",
            "34/34 [==============================] - 0s 3ms/step - loss: 3083.7869 - mae: 3083.7869\n",
            "Epoch 46/150\n",
            "34/34 [==============================] - 0s 3ms/step - loss: 3087.5918 - mae: 3087.5918\n",
            "Epoch 47/150\n",
            "34/34 [==============================] - 0s 3ms/step - loss: 3077.7913 - mae: 3077.7913\n",
            "Epoch 48/150\n",
            "34/34 [==============================] - 0s 3ms/step - loss: 3066.6152 - mae: 3066.6152\n",
            "Epoch 49/150\n",
            "34/34 [==============================] - 0s 3ms/step - loss: 3062.0693 - mae: 3062.0693\n",
            "Epoch 50/150\n",
            "34/34 [==============================] - 0s 3ms/step - loss: 3048.7925 - mae: 3048.7925\n",
            "Epoch 51/150\n",
            "34/34 [==============================] - 0s 3ms/step - loss: 3036.9387 - mae: 3036.9387\n",
            "Epoch 52/150\n",
            "34/34 [==============================] - 0s 3ms/step - loss: 3031.7917 - mae: 3031.7917\n",
            "Epoch 53/150\n",
            "34/34 [==============================] - 0s 4ms/step - loss: 3023.8579 - mae: 3023.8579\n",
            "Epoch 54/150\n",
            "34/34 [==============================] - 0s 3ms/step - loss: 3025.1465 - mae: 3025.1465\n",
            "Epoch 55/150\n",
            "34/34 [==============================] - 0s 3ms/step - loss: 3026.0991 - mae: 3026.0991\n",
            "Epoch 56/150\n",
            "34/34 [==============================] - 0s 3ms/step - loss: 2994.7197 - mae: 2994.7197\n",
            "Epoch 57/150\n",
            "34/34 [==============================] - 0s 3ms/step - loss: 2981.5815 - mae: 2981.5815\n",
            "Epoch 58/150\n",
            "34/34 [==============================] - 0s 3ms/step - loss: 2974.6794 - mae: 2974.6794\n",
            "Epoch 59/150\n",
            "34/34 [==============================] - 0s 3ms/step - loss: 2963.3469 - mae: 2963.3469\n",
            "Epoch 60/150\n",
            "34/34 [==============================] - 0s 3ms/step - loss: 2954.4456 - mae: 2954.4456\n",
            "Epoch 61/150\n",
            "34/34 [==============================] - 0s 3ms/step - loss: 2944.8181 - mae: 2944.8181\n",
            "Epoch 62/150\n",
            "34/34 [==============================] - 0s 3ms/step - loss: 2934.5842 - mae: 2934.5842\n",
            "Epoch 63/150\n",
            "34/34 [==============================] - 0s 3ms/step - loss: 2919.4363 - mae: 2919.4363\n",
            "Epoch 64/150\n",
            "34/34 [==============================] - 0s 3ms/step - loss: 2908.1345 - mae: 2908.1345\n",
            "Epoch 65/150\n",
            "34/34 [==============================] - 0s 3ms/step - loss: 2889.3049 - mae: 2889.3049\n",
            "Epoch 66/150\n",
            "34/34 [==============================] - 0s 3ms/step - loss: 2893.0247 - mae: 2893.0247\n",
            "Epoch 67/150\n",
            "34/34 [==============================] - 0s 3ms/step - loss: 2871.2310 - mae: 2871.2310\n",
            "Epoch 68/150\n",
            "34/34 [==============================] - 0s 3ms/step - loss: 2864.3958 - mae: 2864.3958\n",
            "Epoch 69/150\n",
            "34/34 [==============================] - 0s 3ms/step - loss: 2848.9419 - mae: 2848.9419\n",
            "Epoch 70/150\n",
            "34/34 [==============================] - 0s 3ms/step - loss: 2838.9067 - mae: 2838.9067\n",
            "Epoch 71/150\n",
            "34/34 [==============================] - 0s 3ms/step - loss: 2826.0083 - mae: 2826.0083\n",
            "Epoch 72/150\n",
            "34/34 [==============================] - 0s 4ms/step - loss: 2809.8933 - mae: 2809.8933\n",
            "Epoch 73/150\n",
            "34/34 [==============================] - 0s 3ms/step - loss: 2797.5598 - mae: 2797.5598\n",
            "Epoch 74/150\n",
            "34/34 [==============================] - 0s 4ms/step - loss: 2780.4675 - mae: 2780.4675\n",
            "Epoch 75/150\n",
            "34/34 [==============================] - 0s 3ms/step - loss: 2774.1782 - mae: 2774.1782\n",
            "Epoch 76/150\n",
            "34/34 [==============================] - 0s 3ms/step - loss: 2755.9399 - mae: 2755.9399\n",
            "Epoch 77/150\n",
            "34/34 [==============================] - 0s 3ms/step - loss: 2743.6782 - mae: 2743.6782\n",
            "Epoch 78/150\n",
            "34/34 [==============================] - 0s 3ms/step - loss: 2728.5513 - mae: 2728.5513\n",
            "Epoch 79/150\n",
            "34/34 [==============================] - 0s 3ms/step - loss: 2722.7505 - mae: 2722.7505\n",
            "Epoch 80/150\n",
            "34/34 [==============================] - 0s 3ms/step - loss: 2704.8228 - mae: 2704.8228\n",
            "Epoch 81/150\n",
            "34/34 [==============================] - 0s 4ms/step - loss: 2705.8333 - mae: 2705.8333\n",
            "Epoch 82/150\n",
            "34/34 [==============================] - 0s 3ms/step - loss: 2685.5095 - mae: 2685.5095\n",
            "Epoch 83/150\n",
            "34/34 [==============================] - 0s 3ms/step - loss: 2663.9995 - mae: 2663.9995\n",
            "Epoch 84/150\n",
            "34/34 [==============================] - 0s 3ms/step - loss: 2643.0723 - mae: 2643.0723\n",
            "Epoch 85/150\n",
            "34/34 [==============================] - 0s 3ms/step - loss: 2635.1453 - mae: 2635.1453\n",
            "Epoch 86/150\n",
            "34/34 [==============================] - 0s 3ms/step - loss: 2606.9309 - mae: 2606.9309\n",
            "Epoch 87/150\n",
            "34/34 [==============================] - 0s 3ms/step - loss: 2589.4358 - mae: 2589.4358\n",
            "Epoch 88/150\n",
            "34/34 [==============================] - 0s 3ms/step - loss: 2562.8547 - mae: 2562.8547\n",
            "Epoch 89/150\n",
            "34/34 [==============================] - 0s 3ms/step - loss: 2541.5242 - mae: 2541.5242\n",
            "Epoch 90/150\n",
            "34/34 [==============================] - 0s 3ms/step - loss: 2535.1360 - mae: 2535.1360\n",
            "Epoch 91/150\n",
            "34/34 [==============================] - 0s 3ms/step - loss: 2503.5962 - mae: 2503.5962\n",
            "Epoch 92/150\n",
            "34/34 [==============================] - 0s 3ms/step - loss: 2506.5593 - mae: 2506.5593\n",
            "Epoch 93/150\n",
            "34/34 [==============================] - 0s 3ms/step - loss: 2468.3994 - mae: 2468.3994\n",
            "Epoch 94/150\n",
            "34/34 [==============================] - 0s 3ms/step - loss: 2452.3357 - mae: 2452.3357\n",
            "Epoch 95/150\n",
            "34/34 [==============================] - 0s 3ms/step - loss: 2443.2944 - mae: 2443.2944\n",
            "Epoch 96/150\n",
            "34/34 [==============================] - 0s 3ms/step - loss: 2416.1431 - mae: 2416.1431\n",
            "Epoch 97/150\n",
            "34/34 [==============================] - 0s 3ms/step - loss: 2414.5505 - mae: 2414.5505\n",
            "Epoch 98/150\n",
            "34/34 [==============================] - 0s 3ms/step - loss: 2385.3293 - mae: 2385.3293\n",
            "Epoch 99/150\n",
            "34/34 [==============================] - 0s 3ms/step - loss: 2368.3301 - mae: 2368.3301\n",
            "Epoch 100/150\n",
            "34/34 [==============================] - 0s 3ms/step - loss: 2358.3411 - mae: 2358.3411\n",
            "Epoch 101/150\n",
            "34/34 [==============================] - 0s 3ms/step - loss: 2346.6711 - mae: 2346.6711\n",
            "Epoch 102/150\n",
            "34/34 [==============================] - 0s 3ms/step - loss: 2341.6514 - mae: 2341.6514\n",
            "Epoch 103/150\n",
            "34/34 [==============================] - 0s 3ms/step - loss: 2326.0952 - mae: 2326.0952\n",
            "Epoch 104/150\n",
            "34/34 [==============================] - 0s 3ms/step - loss: 2308.8547 - mae: 2308.8547\n",
            "Epoch 105/150\n",
            "34/34 [==============================] - 0s 3ms/step - loss: 2298.9709 - mae: 2298.9709\n",
            "Epoch 106/150\n",
            "34/34 [==============================] - 0s 3ms/step - loss: 2285.5474 - mae: 2285.5474\n",
            "Epoch 107/150\n",
            "34/34 [==============================] - 0s 3ms/step - loss: 2271.1440 - mae: 2271.1440\n",
            "Epoch 108/150\n",
            "34/34 [==============================] - 0s 3ms/step - loss: 2264.7627 - mae: 2264.7627\n",
            "Epoch 109/150\n",
            "34/34 [==============================] - 0s 3ms/step - loss: 2249.9312 - mae: 2249.9312\n",
            "Epoch 110/150\n",
            "34/34 [==============================] - 0s 3ms/step - loss: 2249.0039 - mae: 2249.0039\n",
            "Epoch 111/150\n",
            "34/34 [==============================] - 0s 3ms/step - loss: 2236.9788 - mae: 2236.9788\n",
            "Epoch 112/150\n",
            "34/34 [==============================] - 0s 3ms/step - loss: 2238.5579 - mae: 2238.5579\n",
            "Epoch 113/150\n",
            "34/34 [==============================] - 0s 3ms/step - loss: 2215.6594 - mae: 2215.6594\n",
            "Epoch 114/150\n",
            "34/34 [==============================] - 0s 3ms/step - loss: 2208.0029 - mae: 2208.0029\n",
            "Epoch 115/150\n",
            "34/34 [==============================] - 0s 3ms/step - loss: 2200.9653 - mae: 2200.9653\n",
            "Epoch 116/150\n",
            "34/34 [==============================] - 0s 3ms/step - loss: 2185.1821 - mae: 2185.1821\n",
            "Epoch 117/150\n",
            "34/34 [==============================] - 0s 3ms/step - loss: 2178.8843 - mae: 2178.8843\n",
            "Epoch 118/150\n",
            "34/34 [==============================] - 0s 3ms/step - loss: 2169.0803 - mae: 2169.0803\n",
            "Epoch 119/150\n",
            "34/34 [==============================] - 0s 3ms/step - loss: 2158.3489 - mae: 2158.3489\n",
            "Epoch 120/150\n",
            "34/34 [==============================] - 0s 3ms/step - loss: 2171.3264 - mae: 2171.3264\n",
            "Epoch 121/150\n",
            "34/34 [==============================] - 0s 3ms/step - loss: 2144.7759 - mae: 2144.7759\n",
            "Epoch 122/150\n",
            "34/34 [==============================] - 0s 3ms/step - loss: 2132.7930 - mae: 2132.7930\n",
            "Epoch 123/150\n",
            "34/34 [==============================] - 0s 3ms/step - loss: 2126.8992 - mae: 2126.8992\n",
            "Epoch 124/150\n",
            "34/34 [==============================] - 0s 3ms/step - loss: 2124.2588 - mae: 2124.2588\n",
            "Epoch 125/150\n",
            "34/34 [==============================] - 0s 4ms/step - loss: 2117.2517 - mae: 2117.2517\n",
            "Epoch 126/150\n",
            "34/34 [==============================] - 0s 3ms/step - loss: 2104.7280 - mae: 2104.7280\n",
            "Epoch 127/150\n",
            "34/34 [==============================] - 0s 3ms/step - loss: 2093.1069 - mae: 2093.1069\n",
            "Epoch 128/150\n",
            "34/34 [==============================] - 0s 3ms/step - loss: 2081.1990 - mae: 2081.1990\n",
            "Epoch 129/150\n",
            "34/34 [==============================] - 0s 3ms/step - loss: 2083.7112 - mae: 2083.7112\n",
            "Epoch 130/150\n",
            "34/34 [==============================] - 0s 4ms/step - loss: 2071.8689 - mae: 2071.8689\n",
            "Epoch 131/150\n",
            "34/34 [==============================] - 0s 3ms/step - loss: 2060.3914 - mae: 2060.3914\n",
            "Epoch 132/150\n",
            "34/34 [==============================] - 0s 3ms/step - loss: 2056.9316 - mae: 2056.9316\n",
            "Epoch 133/150\n",
            "34/34 [==============================] - 0s 3ms/step - loss: 2052.9775 - mae: 2052.9775\n",
            "Epoch 134/150\n",
            "34/34 [==============================] - 0s 3ms/step - loss: 2050.9287 - mae: 2050.9287\n",
            "Epoch 135/150\n",
            "34/34 [==============================] - 0s 3ms/step - loss: 2040.6045 - mae: 2040.6045\n",
            "Epoch 136/150\n",
            "34/34 [==============================] - 0s 3ms/step - loss: 2029.6128 - mae: 2029.6128\n",
            "Epoch 137/150\n",
            "34/34 [==============================] - 0s 3ms/step - loss: 2025.6427 - mae: 2025.6427\n",
            "Epoch 138/150\n",
            "34/34 [==============================] - 0s 3ms/step - loss: 2021.8082 - mae: 2021.8082\n",
            "Epoch 139/150\n",
            "34/34 [==============================] - 0s 3ms/step - loss: 2017.4072 - mae: 2017.4072\n",
            "Epoch 140/150\n",
            "34/34 [==============================] - 0s 3ms/step - loss: 2019.9110 - mae: 2019.9110\n",
            "Epoch 141/150\n",
            "34/34 [==============================] - 0s 3ms/step - loss: 2024.8096 - mae: 2024.8096\n",
            "Epoch 142/150\n",
            "34/34 [==============================] - 0s 3ms/step - loss: 2012.6360 - mae: 2012.6360\n",
            "Epoch 143/150\n",
            "34/34 [==============================] - 0s 4ms/step - loss: 2008.7135 - mae: 2008.7135\n",
            "Epoch 144/150\n",
            "34/34 [==============================] - 0s 3ms/step - loss: 1996.1285 - mae: 1996.1285\n",
            "Epoch 145/150\n",
            "34/34 [==============================] - 0s 3ms/step - loss: 1985.4491 - mae: 1985.4491\n",
            "Epoch 146/150\n",
            "34/34 [==============================] - 0s 3ms/step - loss: 1988.1122 - mae: 1988.1122\n",
            "Epoch 147/150\n",
            "34/34 [==============================] - 0s 3ms/step - loss: 1982.1166 - mae: 1982.1166\n",
            "Epoch 148/150\n",
            "34/34 [==============================] - 0s 3ms/step - loss: 1983.2065 - mae: 1983.2065\n",
            "Epoch 149/150\n",
            "34/34 [==============================] - 0s 3ms/step - loss: 1976.6591 - mae: 1976.6591\n",
            "Epoch 150/150\n",
            "34/34 [==============================] - 0s 3ms/step - loss: 1983.2336 - mae: 1983.2336\n"
          ],
          "name": "stdout"
        }
      ]
    },
    {
      "cell_type": "code",
      "metadata": {
        "colab": {
          "base_uri": "https://localhost:8080/"
        },
        "id": "fU5NnwXtyhBh",
        "outputId": "be81ba14-fc70-4294-f22f-0def1d59b28a"
      },
      "source": [
        "mod_scaled_1.evaluate(X_test_scaled,y_test)"
      ],
      "execution_count": 102,
      "outputs": [
        {
          "output_type": "stream",
          "text": [
            "9/9 [==============================] - 0s 3ms/step - loss: 1766.2520 - mae: 1766.2520\n"
          ],
          "name": "stdout"
        },
        {
          "output_type": "execute_result",
          "data": {
            "text/plain": [
              "[1766.251953125, 1766.251953125]"
            ]
          },
          "metadata": {
            "tags": []
          },
          "execution_count": 102
        }
      ]
    },
    {
      "cell_type": "code",
      "metadata": {
        "colab": {
          "base_uri": "https://localhost:8080/",
          "height": 279
        },
        "id": "opqUfxJM0ICz",
        "outputId": "09d071da-b411-419e-abef-8c0847bd568c"
      },
      "source": [
        "pd.DataFrame(history1.history).plot()\n",
        "plt.ylabel(\"Losses\")\n",
        "plt.xlabel(\"Epochs\")\n",
        "plt.legend();"
      ],
      "execution_count": 110,
      "outputs": [
        {
          "output_type": "display_data",
          "data": {
            "image/png": "[encoded data removed]",
            "text/plain": [
              "<Figure size 432x288 with 1 Axes>"
            ]
          },
          "metadata": {
            "tags": [],
            "needs_background": "light"
          }
        }
      ]
    },
    {
      "cell_type": "markdown",
      "metadata": {
        "id": "05NQDfQ2ulEV"
      },
      "source": [
        "###modelling using shallow ML Algorithm"
      ]
    },
    {
      "cell_type": "code",
      "metadata": {
        "id": "S97cb-SMwDaO"
      },
      "source": [
        "#let's import random forest\n",
        "from sklearn.ensemble import RandomForestRegressor"
      ],
      "execution_count": 98,
      "outputs": []
    },
    {
      "cell_type": "code",
      "metadata": {
        "colab": {
          "base_uri": "https://localhost:8080/"
        },
        "id": "EMeAK7dZxKOQ",
        "outputId": "de04375b-17ea-42ae-f077-398536170667"
      },
      "source": [
        "modelly = RandomForestRegressor()\n",
        "modelly.fit(X_train_scaled,y_train)\n"
      ],
      "execution_count": 109,
      "outputs": [
        {
          "output_type": "execute_result",
          "data": {
            "text/plain": [
              "RandomForestRegressor(bootstrap=True, ccp_alpha=0.0, criterion='mse',\n",
              "                      max_depth=None, max_features='auto', max_leaf_nodes=None,\n",
              "                      max_samples=None, min_impurity_decrease=0.0,\n",
              "                      min_impurity_split=None, min_samples_leaf=1,\n",
              "                      min_samples_split=2, min_weight_fraction_leaf=0.0,\n",
              "                      n_estimators=100, n_jobs=None, oob_score=False,\n",
              "                      random_state=None, verbose=0, warm_start=False)"
            ]
          },
          "metadata": {
            "tags": []
          },
          "execution_count": 109
        }
      ]
    },
    {
      "cell_type": "code",
      "metadata": {
        "colab": {
          "base_uri": "https://localhost:8080/"
        },
        "id": "pn79PUHmyphK",
        "outputId": "aec5fed1-e494-4bb3-da0b-1f3d26137843"
      },
      "source": [
        "\n",
        "modelly.score(X_train_scaled,y_train),modelly.score(X_test_scaled,y_test)"
      ],
      "execution_count": 104,
      "outputs": [
        {
          "output_type": "execute_result",
          "data": {
            "text/plain": [
              "(0.9762778882620262, 0.8605548868633788)"
            ]
          },
          "metadata": {
            "tags": []
          },
          "execution_count": 104
        }
      ]
    },
    {
      "cell_type": "code",
      "metadata": {
        "id": "UY2SzKRgy52h"
      },
      "source": [
        "from sklearn.metrics import mean_absolute_error as mae"
      ],
      "execution_count": 105,
      "outputs": []
    },
    {
      "cell_type": "code",
      "metadata": {
        "id": "Gb3799rvzPVU"
      },
      "source": [
        "y_predo = modelly.predict(X_test_scaled)"
      ],
      "execution_count": 107,
      "outputs": []
    },
    {
      "cell_type": "code",
      "metadata": {
        "colab": {
          "base_uri": "https://localhost:8080/"
        },
        "id": "5QCuyERGzEDJ",
        "outputId": "97efa819-6289-41e8-dd42-af6af5a383a5"
      },
      "source": [
        "#evaluating our shallow model\n",
        "mae(y_test,y_predo)"
      ],
      "execution_count": 108,
      "outputs": [
        {
          "output_type": "execute_result",
          "data": {
            "text/plain": [
              "2530.386291918485"
            ]
          },
          "metadata": {
            "tags": []
          },
          "execution_count": 108
        }
      ]
    },
    {
      "cell_type": "code",
      "metadata": {
        "id": "KxeVH390zL8c"
      },
      "source": [
        ""
      ],
      "execution_count": null,
      "outputs": []
    }
  ]
}